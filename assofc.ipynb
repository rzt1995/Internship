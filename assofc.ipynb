{
 "cells": [
  {
   "cell_type": "code",
   "execution_count": 1,
   "id": "45bc6dd1",
   "metadata": {},
   "outputs": [
    {
     "name": "stdout",
     "output_type": "stream",
     "text": [
      "Requirement already satisfied: selenium in c:\\ana\\lib\\site-packages (4.8.3)\n",
      "Requirement already satisfied: urllib3[socks]~=1.26 in c:\\ana\\lib\\site-packages (from selenium) (1.26.11)\n",
      "Requirement already satisfied: trio~=0.17 in c:\\ana\\lib\\site-packages (from selenium) (0.22.0)\n",
      "Requirement already satisfied: trio-websocket~=0.9 in c:\\ana\\lib\\site-packages (from selenium) (0.10.2)\n",
      "Requirement already satisfied: certifi>=2021.10.8 in c:\\ana\\lib\\site-packages (from selenium) (2022.9.14)\n",
      "Requirement already satisfied: attrs>=19.2.0 in c:\\ana\\lib\\site-packages (from trio~=0.17->selenium) (21.4.0)\n",
      "Requirement already satisfied: exceptiongroup>=1.0.0rc9 in c:\\ana\\lib\\site-packages (from trio~=0.17->selenium) (1.1.1)\n",
      "Requirement already satisfied: sniffio in c:\\ana\\lib\\site-packages (from trio~=0.17->selenium) (1.2.0)\n",
      "Requirement already satisfied: outcome in c:\\ana\\lib\\site-packages (from trio~=0.17->selenium) (1.2.0)\n",
      "Requirement already satisfied: idna in c:\\ana\\lib\\site-packages (from trio~=0.17->selenium) (3.3)\n",
      "Requirement already satisfied: cffi>=1.14 in c:\\ana\\lib\\site-packages (from trio~=0.17->selenium) (1.15.1)\n",
      "Requirement already satisfied: async-generator>=1.9 in c:\\ana\\lib\\site-packages (from trio~=0.17->selenium) (1.10)\n",
      "Requirement already satisfied: sortedcontainers in c:\\ana\\lib\\site-packages (from trio~=0.17->selenium) (2.4.0)\n",
      "Requirement already satisfied: wsproto>=0.14 in c:\\ana\\lib\\site-packages (from trio-websocket~=0.9->selenium) (1.2.0)\n",
      "Requirement already satisfied: PySocks!=1.5.7,<2.0,>=1.5.6 in c:\\ana\\lib\\site-packages (from urllib3[socks]~=1.26->selenium) (1.7.1)\n",
      "Requirement already satisfied: pycparser in c:\\ana\\lib\\site-packages (from cffi>=1.14->trio~=0.17->selenium) (2.21)\n",
      "Requirement already satisfied: h11<1,>=0.9.0 in c:\\ana\\lib\\site-packages (from wsproto>=0.14->trio-websocket~=0.9->selenium) (0.14.0)\n"
     ]
    }
   ],
   "source": [
    "!pip install selenium"
   ]
  },
  {
   "cell_type": "code",
   "execution_count": 12,
   "id": "66f8cd36",
   "metadata": {},
   "outputs": [],
   "source": [
    "import selenium\n",
    "from selenium import webdriver\n",
    "import warnings\n",
    "warnings.filterwarnings('ignore')\n",
    "from selenium.webdriver.common.by import By\n",
    "from selenium.common.exceptions import NoSuchElementException,StaleElementReferenceException\n",
    "import numpy as np\n",
    "import pandas as pd\n",
    "from bs4 import BeautifulSoup\n",
    "import requests\n",
    "import time"
   ]
  },
  {
   "cell_type": "code",
   "execution_count": 3,
   "id": "215b5c4b",
   "metadata": {},
   "outputs": [],
   "source": [
    "driver= webdriver.Chrome(r\"chromedriver.exe\")"
   ]
  },
  {
   "cell_type": "code",
   "execution_count": 4,
   "id": "1e7363f5",
   "metadata": {},
   "outputs": [],
   "source": [
    "driver.get('https://www.amazon.in/')"
   ]
  },
  {
   "cell_type": "code",
   "execution_count": 5,
   "id": "5c82599b",
   "metadata": {},
   "outputs": [],
   "source": [
    "search=driver.find_element(By.XPATH,'/html/body/div[1]/header/div/div[1]/div[2]/div/form/div[2]/div[1]/input')\n",
    "search.send_keys('ac')"
   ]
  },
  {
   "cell_type": "code",
   "execution_count": 6,
   "id": "994e6384",
   "metadata": {},
   "outputs": [],
   "source": [
    "button=driver.find_element(By.XPATH,'/html/body/div[1]/header/div/div[1]/div[2]/div/form/div[3]/div/span/input')\n",
    "button.click()"
   ]
  },
  {
   "cell_type": "code",
   "execution_count": 7,
   "id": "4f357fb6",
   "metadata": {},
   "outputs": [],
   "source": [
    "product_url=[]\n",
    "start=0\n",
    "end=3\n",
    "for page in range(start,end):\n",
    "    \n",
    "    url=driver.find_elements(By.XPATH,'//a[@class=\"a-link-normal s-underline-text s-underline-link-text s-link-style a-text-normal\"]')\n",
    "    for i in url:\n",
    "        product_url.append(i.get_attribute('href'))\n",
    "        next_button=driver.find_elements(By.XPATH,'/html/body/div[1]/div[2]/div[1]/div[1]/div/span[1]/div[1]/div[31]/div/div/span/a[3]')"
   ]
  },
  {
   "cell_type": "code",
   "execution_count": 8,
   "id": "33c240fb",
   "metadata": {},
   "outputs": [
    {
     "data": {
      "text/plain": [
       "84"
      ]
     },
     "execution_count": 8,
     "metadata": {},
     "output_type": "execute_result"
    }
   ],
   "source": [
    "len(product_url)"
   ]
  },
  {
   "cell_type": "code",
   "execution_count": 9,
   "id": "6a059f8e",
   "metadata": {},
   "outputs": [
    {
     "data": {
      "text/plain": [
       "['https://www.amazon.in/sspa/click?ie=UTF8&spc=MTozNDQxOTAzMTA4MTUwODY4OjE2ODEzNjQxMzM6c3BfYXRmOjIwMTEwMzgwNjI4Nzk4OjowOjo&url=%2FLG-Convertible-Anti-Virus-Protection-RS-Q19YNZE%2Fdp%2FB0BQ3MXML8%2Fref%3Dsr_1_1_sspa%3Fcrid%3D3JMA49Q2LB4QY%26keywords%3Dac%26qid%3D1681364132%26sprefix%3Dac%252Caps%252C378%26sr%3D8-1-spons%26sp_csd%3Dd2lkZ2V0TmFtZT1zcF9hdGY%26psc%3D1',\n",
       " 'https://www.amazon.in/sspa/click?ie=UTF8&spc=MTozNDQxOTAzMTA4MTUwODY4OjE2ODEzNjQxMzM6c3BfYXRmOjIwMTEwMzgwNjI4ODk4OjowOjo&url=%2FLG-Convertible-Anti-virus-Protection-RS-Q18ZNVE%2Fdp%2FB0BPYKMM2M%2Fref%3Dsr_1_2_sspa%3Fcrid%3D3JMA49Q2LB4QY%26keywords%3Dac%26qid%3D1681364132%26sprefix%3Dac%252Caps%252C378%26sr%3D8-2-spons%26sp_csd%3Dd2lkZ2V0TmFtZT1zcF9hdGY%26psc%3D1',\n",
       " 'https://www.amazon.in/Voltas-Adjustable-173V-Vectra-Platina/dp/B0BRJ7N92P/ref=sr_1_3?crid=3JMA49Q2LB4QY&keywords=ac&qid=1681364132&sprefix=ac%2Caps%2C378&sr=8-3',\n",
       " 'https://www.amazon.in/Lloyd-Inverter-Convertible-Anti-Viral-GLS18I3FWAMC/dp/B0BRKXTSBT/ref=sr_1_4?crid=3JMA49Q2LB4QY&keywords=ac&qid=1681364132&sprefix=ac%2Caps%2C378&sr=8-4',\n",
       " 'https://www.amazon.in/LG-Convertible-Anti-Virus-Protection-RS-Q19YNZE/dp/B0BQ3MXML8/ref=sr_1_5?crid=3JMA49Q2LB4QY&keywords=ac&qid=1681364132&sprefix=ac%2Caps%2C378&sr=8-5',\n",
       " 'https://www.amazon.in/Lloyd-Inverter-Convertible-Anti-Viral-GLS12I3FWAEV/dp/B0BRKX6FD5/ref=sr_1_6?crid=3JMA49Q2LB4QY&keywords=ac&qid=1681364132&sprefix=ac%2Caps%2C378&sr=8-6',\n",
       " 'https://www.amazon.in/LG-Inverter-Convertible-Protection-Rs-Q13Jnye/dp/B0BPYN9JGF/ref=sr_1_7?crid=3JMA49Q2LB4QY&keywords=ac&qid=1681364132&sprefix=ac%2Caps%2C378&sr=8-7',\n",
       " 'https://www.amazon.in/Blue-Star-Inverter-Copper-IC309RBTU/dp/B08L6QX5WC/ref=sr_1_8?crid=3JMA49Q2LB4QY&keywords=ac&qid=1681364132&sprefix=ac%2Caps%2C378&sr=8-8',\n",
       " 'https://www.amazon.in/Panasonic-Convertible-additional-Purification-CU-NU18YKY5W/dp/B0BRJ1973T/ref=sr_1_9?crid=3JMA49Q2LB4QY&keywords=ac&qid=1681364132&sprefix=ac%2Caps%2C378&sr=8-9',\n",
       " 'https://www.amazon.in/LG-Convertible-Anti-Virus-Protection-RS-Q19JNXE/dp/B0BQ3MJ1TG/ref=sr_1_10?crid=3JMA49Q2LB4QY&keywords=ac&qid=1681364132&sprefix=ac%2Caps%2C378&sr=8-10',\n",
       " 'https://www.amazon.in/sspa/click?ie=UTF8&spc=MTozNDQxOTAzMTA4MTUwODY4OjE2ODEzNjQxMzM6c3BfbXRmOjIwMTEyNTM4NzEyMTk4OjowOjo&url=%2FBlue-Star-Convertible-Stabalizer-IA315YNU%2Fdp%2FB0BN6WFT1K%2Fref%3Dsr_1_11_sspa%3Fcrid%3D3JMA49Q2LB4QY%26keywords%3Dac%26qid%3D1681364132%26sprefix%3Dac%252Caps%252C378%26sr%3D8-11-spons%26sp_csd%3Dd2lkZ2V0TmFtZT1zcF9tdGY%26psc%3D1',\n",
       " 'https://www.amazon.in/sspa/click?ie=UTF8&spc=MTozNDQxOTAzMTA4MTUwODY4OjE2ODEzNjQxMzM6c3BfbXRmOjIwMTA3MTM5NzY0MTk4OjowOjo&url=%2FGodrej-Convertible-Split-AC-12TINV3R32-GWA%2Fdp%2FB0BN37ZCF7%2Fref%3Dsr_1_12_sspa%3Fcrid%3D3JMA49Q2LB4QY%26keywords%3Dac%26qid%3D1681364132%26sprefix%3Dac%252Caps%252C378%26sr%3D8-12-spons%26sp_csd%3Dd2lkZ2V0TmFtZT1zcF9tdGY%26psc%3D1',\n",
       " 'https://www.amazon.in/Lloyd-Inverter-Convertible-Anti-Viral-GLS18I5FWBEV/dp/B0BRKXBRMF/ref=sr_1_13?crid=3JMA49Q2LB4QY&keywords=ac&qid=1681364132&sprefix=ac%2Caps%2C378&sr=8-13',\n",
       " 'https://www.amazon.in/Voltas-Inverter-Split-Conditioner-VOLTAS/dp/B09WDP2DLF/ref=sxin_25_lscx_w_sp_ia?content-id=amzn1.sym.0086bf6b-1995-4a8f-a6d2-1ab75151f79e%3Aamzn1.sym.0086bf6b-1995-4a8f-a6d2-1ab75151f79e&crid=3JMA49Q2LB4QY&cv_ct_cx=ac&keywords=ac&pd_rd_i=B09WDP2DLF&pd_rd_r=ff377670-89d5-4d89-9a9b-58f06168bb5e&pd_rd_w=xZbLk&pd_rd_wg=gwQYq&pf_rd_p=0086bf6b-1995-4a8f-a6d2-1ab75151f79e&pf_rd_r=9P8QHCE077AR2E3FFW09&qid=1681364132&sbo=RZvfv%2F%2FHxDF%2BO5021pAnSA%3D%3D&sprefix=ac%2Caps%2C378&sr=1-1-048da096-9aef-4913-b917-aeb227ff179a',\n",
       " 'https://www.amazon.in/Voltas-Adjustable-Inverter-Copper-VECTRA/dp/B0BBFWM5F9/ref=sxin_25_lscx_w_sp_ia_mod_primary_new?content-id=amzn1.sym.0086bf6b-1995-4a8f-a6d2-1ab75151f79e%3Aamzn1.sym.0086bf6b-1995-4a8f-a6d2-1ab75151f79e&crid=3JMA49Q2LB4QY&cv_ct_cx=ac&keywords=ac&pd_rd_i=B0BBFWM5F9&pd_rd_r=ff377670-89d5-4d89-9a9b-58f06168bb5e&pd_rd_w=xZbLk&pd_rd_wg=gwQYq&pf_rd_p=0086bf6b-1995-4a8f-a6d2-1ab75151f79e&pf_rd_r=9P8QHCE077AR2E3FFW09&qid=1681364132&sbo=RZvfv%2F%2FHxDF%2BO5021pAnSA%3D%3D&sbo=RZvfv%2F%2FHxDF%2BO5021pAnSA%3D%3D&sprefix=ac%2Caps%2C378&sr=1-2-048da096-9aef-4913-b917-aeb227ff179a',\n",
       " 'https://www.amazon.in/Voltas-Adjustable-123V-Vectra-Elite/dp/B0BQR2FW4Y/ref=sxin_25_lscx_w_sp_ia?content-id=amzn1.sym.0086bf6b-1995-4a8f-a6d2-1ab75151f79e%3Aamzn1.sym.0086bf6b-1995-4a8f-a6d2-1ab75151f79e&crid=3JMA49Q2LB4QY&cv_ct_cx=ac&keywords=ac&pd_rd_i=B0BQR2FW4Y&pd_rd_r=ff377670-89d5-4d89-9a9b-58f06168bb5e&pd_rd_w=xZbLk&pd_rd_wg=gwQYq&pf_rd_p=0086bf6b-1995-4a8f-a6d2-1ab75151f79e&pf_rd_r=9P8QHCE077AR2E3FFW09&qid=1681364132&sbo=RZvfv%2F%2FHxDF%2BO5021pAnSA%3D%3D&sprefix=ac%2Caps%2C378&sr=1-3-048da096-9aef-4913-b917-aeb227ff179a',\n",
       " 'https://www.amazon.in/Voltas-Vectra-Platina-Fixed-Window/dp/B0BQYB5YVF/ref=sxin_25_lscx_w_sp_ia?content-id=amzn1.sym.0086bf6b-1995-4a8f-a6d2-1ab75151f79e%3Aamzn1.sym.0086bf6b-1995-4a8f-a6d2-1ab75151f79e&crid=3JMA49Q2LB4QY&cv_ct_cx=ac&keywords=ac&pd_rd_i=B0BQYB5YVF&pd_rd_r=ff377670-89d5-4d89-9a9b-58f06168bb5e&pd_rd_w=xZbLk&pd_rd_wg=gwQYq&pf_rd_p=0086bf6b-1995-4a8f-a6d2-1ab75151f79e&pf_rd_r=9P8QHCE077AR2E3FFW09&qid=1681364132&sbo=RZvfv%2F%2FHxDF%2BO5021pAnSA%3D%3D&sprefix=ac%2Caps%2C378&sr=1-4-048da096-9aef-4913-b917-aeb227ff179a',\n",
       " 'https://www.amazon.in/SPLIT-AC-HITACHI-INVERTER-RSRG518FFEO/dp/B0B14J2VQ2/ref=sxin_25_lscx_w_sp_ia_mod_primary_new?content-id=amzn1.sym.0086bf6b-1995-4a8f-a6d2-1ab75151f79e%3Aamzn1.sym.0086bf6b-1995-4a8f-a6d2-1ab75151f79e&crid=3JMA49Q2LB4QY&cv_ct_cx=ac&keywords=ac&pd_rd_i=B0B14J2VQ2&pd_rd_r=ff377670-89d5-4d89-9a9b-58f06168bb5e&pd_rd_w=xZbLk&pd_rd_wg=gwQYq&pf_rd_p=0086bf6b-1995-4a8f-a6d2-1ab75151f79e&pf_rd_r=9P8QHCE077AR2E3FFW09&qid=1681364132&sbo=RZvfv%2F%2FHxDF%2BO5021pAnSA%3D%3D&sbo=RZvfv%2F%2FHxDF%2BO5021pAnSA%3D%3D&sprefix=ac%2Caps%2C378&sr=1-5-048da096-9aef-4913-b917-aeb227ff179a',\n",
       " 'https://www.amazon.in/Panasonic-Convertible-additional-Purification-CU-KZ18ZKYF/dp/B0BRJFLLJX/ref=sxin_25_lscx_w_sp_ia_mod_primary_new?content-id=amzn1.sym.0086bf6b-1995-4a8f-a6d2-1ab75151f79e%3Aamzn1.sym.0086bf6b-1995-4a8f-a6d2-1ab75151f79e&crid=3JMA49Q2LB4QY&cv_ct_cx=ac&keywords=ac&pd_rd_i=B0BRJFLLJX&pd_rd_r=ff377670-89d5-4d89-9a9b-58f06168bb5e&pd_rd_w=xZbLk&pd_rd_wg=gwQYq&pf_rd_p=0086bf6b-1995-4a8f-a6d2-1ab75151f79e&pf_rd_r=9P8QHCE077AR2E3FFW09&qid=1681364132&sbo=RZvfv%2F%2FHxDF%2BO5021pAnSA%3D%3D&sbo=RZvfv%2F%2FHxDF%2BO5021pAnSA%3D%3D&sprefix=ac%2Caps%2C378&sr=1-6-048da096-9aef-4913-b917-aeb227ff179a',\n",
       " 'https://www.amazon.in/Panasonic-Convertible-additional-Purification-CU-NU12YKY5W/dp/B0BRHYBC3D/ref=sr_1_14?crid=3JMA49Q2LB4QY&keywords=ac&qid=1681364132&sprefix=ac%2Caps%2C378&sr=8-14',\n",
       " 'https://www.amazon.in/Whirlpool-Flexicool-Inverter-Convertible-Cooling/dp/B0BR5RF5KT/ref=sr_1_15?crid=3JMA49Q2LB4QY&keywords=ac&qid=1681364132&sprefix=ac%2Caps%2C378&sr=8-15',\n",
       " 'https://www.amazon.in/Samsung-Inverter-Convertible-Anti-Bacteria-AR18CYNZABE/dp/B0BRQD9Y92/ref=sr_1_16?crid=3JMA49Q2LB4QY&keywords=ac&qid=1681364132&sprefix=ac%2Caps%2C378&sr=8-16',\n",
       " 'https://www.amazon.in/Cruise-Inverter-Filtration-CWCVBG-VQ1W123-Dehumidifier/dp/B09474HJF5/ref=sr_1_17?crid=3JMA49Q2LB4QY&keywords=ac&qid=1681364132&sprefix=ac%2Caps%2C378&sr=8-17',\n",
       " 'https://www.amazon.in/Voltas-Inverter-Split-Conditioner-VOLTAS/dp/B09WDP2DLF/ref=sr_1_18?crid=3JMA49Q2LB4QY&keywords=ac&qid=1681364132&sprefix=ac%2Caps%2C378&sr=8-18',\n",
       " 'https://www.amazon.in/Godrej-Convertible-Split-AC-12TINV3R32-GWA/dp/B0BN37ZCF7/ref=sr_1_19?crid=3JMA49Q2LB4QY&keywords=ac&qid=1681364132&sprefix=ac%2Caps%2C378&sr=8-19',\n",
       " 'https://www.amazon.in/Voltas-Adjustable-123V-Vectra-Elite/dp/B0BQR2FW4Y/ref=sr_1_20?crid=3JMA49Q2LB4QY&keywords=ac&qid=1681364132&sprefix=ac%2Caps%2C378&sr=8-20',\n",
       " 'https://www.amazon.in/sspa/click?ie=UTF8&spc=MTozNDQxOTAzMTA4MTUwODY4OjE2ODEzNjQxMzM6c3BfYnRmOjIwMTA3MTM5NzY0Mjk4OjowOjo&url=%2FGodrej-Convertible-1-5T-18TINV3R32-GWA-18TINV3R32-GWB%2Fdp%2FB0BN37L5KM%2Fref%3Dsr_1_21_sspa%3Fcrid%3D3JMA49Q2LB4QY%26keywords%3Dac%26qid%3D1681364132%26sprefix%3Dac%252Caps%252C378%26sr%3D8-21-spons%26sp_csd%3Dd2lkZ2V0TmFtZT1zcF9idGY%26psc%3D1',\n",
       " 'https://www.amazon.in/sspa/click?ie=UTF8&spc=MTozNDQxOTAzMTA4MTUwODY4OjE2ODEzNjQxMzM6c3BfYnRmOjIwMTE1MjczMzE2NTk4OjowOjo&url=%2FGodrej-Convertible-1-5T-18IINV5R32-WWA%2Fdp%2FB0BP7SY16R%2Fref%3Dsr_1_22_sspa%3Fcrid%3D3JMA49Q2LB4QY%26keywords%3Dac%26qid%3D1681364132%26sprefix%3Dac%252Caps%252C378%26sr%3D8-22-spons%26sp_csd%3Dd2lkZ2V0TmFtZT1zcF9idGY%26psc%3D1',\n",
       " 'https://www.amazon.in/sspa/click?ie=UTF8&spc=MTozNDQxOTAzMTA4MTUwODY4OjE2ODEzNjQxMzM6c3BfYXRmOjIwMTEwMzgwNjI4Nzk4OjowOjo&url=%2FLG-Convertible-Anti-Virus-Protection-RS-Q19YNZE%2Fdp%2FB0BQ3MXML8%2Fref%3Dsr_1_1_sspa%3Fcrid%3D3JMA49Q2LB4QY%26keywords%3Dac%26qid%3D1681364132%26sprefix%3Dac%252Caps%252C378%26sr%3D8-1-spons%26sp_csd%3Dd2lkZ2V0TmFtZT1zcF9hdGY%26psc%3D1',\n",
       " 'https://www.amazon.in/sspa/click?ie=UTF8&spc=MTozNDQxOTAzMTA4MTUwODY4OjE2ODEzNjQxMzM6c3BfYXRmOjIwMTEwMzgwNjI4ODk4OjowOjo&url=%2FLG-Convertible-Anti-virus-Protection-RS-Q18ZNVE%2Fdp%2FB0BPYKMM2M%2Fref%3Dsr_1_2_sspa%3Fcrid%3D3JMA49Q2LB4QY%26keywords%3Dac%26qid%3D1681364132%26sprefix%3Dac%252Caps%252C378%26sr%3D8-2-spons%26sp_csd%3Dd2lkZ2V0TmFtZT1zcF9hdGY%26psc%3D1',\n",
       " 'https://www.amazon.in/Voltas-Adjustable-173V-Vectra-Platina/dp/B0BRJ7N92P/ref=sr_1_3?crid=3JMA49Q2LB4QY&keywords=ac&qid=1681364132&sprefix=ac%2Caps%2C378&sr=8-3',\n",
       " 'https://www.amazon.in/Lloyd-Inverter-Convertible-Anti-Viral-GLS18I3FWAMC/dp/B0BRKXTSBT/ref=sr_1_4?crid=3JMA49Q2LB4QY&keywords=ac&qid=1681364132&sprefix=ac%2Caps%2C378&sr=8-4',\n",
       " 'https://www.amazon.in/LG-Convertible-Anti-Virus-Protection-RS-Q19YNZE/dp/B0BQ3MXML8/ref=sr_1_5?crid=3JMA49Q2LB4QY&keywords=ac&qid=1681364132&sprefix=ac%2Caps%2C378&sr=8-5',\n",
       " 'https://www.amazon.in/Lloyd-Inverter-Convertible-Anti-Viral-GLS12I3FWAEV/dp/B0BRKX6FD5/ref=sr_1_6?crid=3JMA49Q2LB4QY&keywords=ac&qid=1681364132&sprefix=ac%2Caps%2C378&sr=8-6',\n",
       " 'https://www.amazon.in/LG-Inverter-Convertible-Protection-Rs-Q13Jnye/dp/B0BPYN9JGF/ref=sr_1_7?crid=3JMA49Q2LB4QY&keywords=ac&qid=1681364132&sprefix=ac%2Caps%2C378&sr=8-7',\n",
       " 'https://www.amazon.in/Blue-Star-Inverter-Copper-IC309RBTU/dp/B08L6QX5WC/ref=sr_1_8?crid=3JMA49Q2LB4QY&keywords=ac&qid=1681364132&sprefix=ac%2Caps%2C378&sr=8-8',\n",
       " 'https://www.amazon.in/Panasonic-Convertible-additional-Purification-CU-NU18YKY5W/dp/B0BRJ1973T/ref=sr_1_9?crid=3JMA49Q2LB4QY&keywords=ac&qid=1681364132&sprefix=ac%2Caps%2C378&sr=8-9',\n",
       " 'https://www.amazon.in/LG-Convertible-Anti-Virus-Protection-RS-Q19JNXE/dp/B0BQ3MJ1TG/ref=sr_1_10?crid=3JMA49Q2LB4QY&keywords=ac&qid=1681364132&sprefix=ac%2Caps%2C378&sr=8-10',\n",
       " 'https://www.amazon.in/sspa/click?ie=UTF8&spc=MTozNDQxOTAzMTA4MTUwODY4OjE2ODEzNjQxMzM6c3BfbXRmOjIwMTEyNTM4NzEyMTk4OjowOjo&url=%2FBlue-Star-Convertible-Stabalizer-IA315YNU%2Fdp%2FB0BN6WFT1K%2Fref%3Dsr_1_11_sspa%3Fcrid%3D3JMA49Q2LB4QY%26keywords%3Dac%26qid%3D1681364132%26sprefix%3Dac%252Caps%252C378%26sr%3D8-11-spons%26sp_csd%3Dd2lkZ2V0TmFtZT1zcF9tdGY%26psc%3D1',\n",
       " 'https://www.amazon.in/sspa/click?ie=UTF8&spc=MTozNDQxOTAzMTA4MTUwODY4OjE2ODEzNjQxMzM6c3BfbXRmOjIwMTA3MTM5NzY0MTk4OjowOjo&url=%2FGodrej-Convertible-Split-AC-12TINV3R32-GWA%2Fdp%2FB0BN37ZCF7%2Fref%3Dsr_1_12_sspa%3Fcrid%3D3JMA49Q2LB4QY%26keywords%3Dac%26qid%3D1681364132%26sprefix%3Dac%252Caps%252C378%26sr%3D8-12-spons%26sp_csd%3Dd2lkZ2V0TmFtZT1zcF9tdGY%26psc%3D1',\n",
       " 'https://www.amazon.in/Lloyd-Inverter-Convertible-Anti-Viral-GLS18I5FWBEV/dp/B0BRKXBRMF/ref=sr_1_13?crid=3JMA49Q2LB4QY&keywords=ac&qid=1681364132&sprefix=ac%2Caps%2C378&sr=8-13',\n",
       " 'https://www.amazon.in/Voltas-Inverter-Split-Conditioner-VOLTAS/dp/B09WDP2DLF/ref=sxin_25_lscx_w_sp_ia?content-id=amzn1.sym.0086bf6b-1995-4a8f-a6d2-1ab75151f79e%3Aamzn1.sym.0086bf6b-1995-4a8f-a6d2-1ab75151f79e&crid=3JMA49Q2LB4QY&cv_ct_cx=ac&keywords=ac&pd_rd_i=B09WDP2DLF&pd_rd_r=ff377670-89d5-4d89-9a9b-58f06168bb5e&pd_rd_w=xZbLk&pd_rd_wg=gwQYq&pf_rd_p=0086bf6b-1995-4a8f-a6d2-1ab75151f79e&pf_rd_r=9P8QHCE077AR2E3FFW09&qid=1681364132&sbo=RZvfv%2F%2FHxDF%2BO5021pAnSA%3D%3D&sprefix=ac%2Caps%2C378&sr=1-1-048da096-9aef-4913-b917-aeb227ff179a',\n",
       " 'https://www.amazon.in/Voltas-Adjustable-Inverter-Copper-VECTRA/dp/B0BBFWM5F9/ref=sxin_25_lscx_w_sp_ia_mod_primary_new?content-id=amzn1.sym.0086bf6b-1995-4a8f-a6d2-1ab75151f79e%3Aamzn1.sym.0086bf6b-1995-4a8f-a6d2-1ab75151f79e&crid=3JMA49Q2LB4QY&cv_ct_cx=ac&keywords=ac&pd_rd_i=B0BBFWM5F9&pd_rd_r=ff377670-89d5-4d89-9a9b-58f06168bb5e&pd_rd_w=xZbLk&pd_rd_wg=gwQYq&pf_rd_p=0086bf6b-1995-4a8f-a6d2-1ab75151f79e&pf_rd_r=9P8QHCE077AR2E3FFW09&qid=1681364132&sbo=RZvfv%2F%2FHxDF%2BO5021pAnSA%3D%3D&sbo=RZvfv%2F%2FHxDF%2BO5021pAnSA%3D%3D&sprefix=ac%2Caps%2C378&sr=1-2-048da096-9aef-4913-b917-aeb227ff179a',\n",
       " 'https://www.amazon.in/Voltas-Adjustable-123V-Vectra-Elite/dp/B0BQR2FW4Y/ref=sxin_25_lscx_w_sp_ia?content-id=amzn1.sym.0086bf6b-1995-4a8f-a6d2-1ab75151f79e%3Aamzn1.sym.0086bf6b-1995-4a8f-a6d2-1ab75151f79e&crid=3JMA49Q2LB4QY&cv_ct_cx=ac&keywords=ac&pd_rd_i=B0BQR2FW4Y&pd_rd_r=ff377670-89d5-4d89-9a9b-58f06168bb5e&pd_rd_w=xZbLk&pd_rd_wg=gwQYq&pf_rd_p=0086bf6b-1995-4a8f-a6d2-1ab75151f79e&pf_rd_r=9P8QHCE077AR2E3FFW09&qid=1681364132&sbo=RZvfv%2F%2FHxDF%2BO5021pAnSA%3D%3D&sprefix=ac%2Caps%2C378&sr=1-3-048da096-9aef-4913-b917-aeb227ff179a',\n",
       " 'https://www.amazon.in/Voltas-Vectra-Platina-Fixed-Window/dp/B0BQYB5YVF/ref=sxin_25_lscx_w_sp_ia?content-id=amzn1.sym.0086bf6b-1995-4a8f-a6d2-1ab75151f79e%3Aamzn1.sym.0086bf6b-1995-4a8f-a6d2-1ab75151f79e&crid=3JMA49Q2LB4QY&cv_ct_cx=ac&keywords=ac&pd_rd_i=B0BQYB5YVF&pd_rd_r=ff377670-89d5-4d89-9a9b-58f06168bb5e&pd_rd_w=xZbLk&pd_rd_wg=gwQYq&pf_rd_p=0086bf6b-1995-4a8f-a6d2-1ab75151f79e&pf_rd_r=9P8QHCE077AR2E3FFW09&qid=1681364132&sbo=RZvfv%2F%2FHxDF%2BO5021pAnSA%3D%3D&sprefix=ac%2Caps%2C378&sr=1-4-048da096-9aef-4913-b917-aeb227ff179a',\n",
       " 'https://www.amazon.in/SPLIT-AC-HITACHI-INVERTER-RSRG518FFEO/dp/B0B14J2VQ2/ref=sxin_25_lscx_w_sp_ia_mod_primary_new?content-id=amzn1.sym.0086bf6b-1995-4a8f-a6d2-1ab75151f79e%3Aamzn1.sym.0086bf6b-1995-4a8f-a6d2-1ab75151f79e&crid=3JMA49Q2LB4QY&cv_ct_cx=ac&keywords=ac&pd_rd_i=B0B14J2VQ2&pd_rd_r=ff377670-89d5-4d89-9a9b-58f06168bb5e&pd_rd_w=xZbLk&pd_rd_wg=gwQYq&pf_rd_p=0086bf6b-1995-4a8f-a6d2-1ab75151f79e&pf_rd_r=9P8QHCE077AR2E3FFW09&qid=1681364132&sbo=RZvfv%2F%2FHxDF%2BO5021pAnSA%3D%3D&sbo=RZvfv%2F%2FHxDF%2BO5021pAnSA%3D%3D&sprefix=ac%2Caps%2C378&sr=1-5-048da096-9aef-4913-b917-aeb227ff179a',\n",
       " 'https://www.amazon.in/Panasonic-Convertible-additional-Purification-CU-KZ18ZKYF/dp/B0BRJFLLJX/ref=sxin_25_lscx_w_sp_ia_mod_primary_new?content-id=amzn1.sym.0086bf6b-1995-4a8f-a6d2-1ab75151f79e%3Aamzn1.sym.0086bf6b-1995-4a8f-a6d2-1ab75151f79e&crid=3JMA49Q2LB4QY&cv_ct_cx=ac&keywords=ac&pd_rd_i=B0BRJFLLJX&pd_rd_r=ff377670-89d5-4d89-9a9b-58f06168bb5e&pd_rd_w=xZbLk&pd_rd_wg=gwQYq&pf_rd_p=0086bf6b-1995-4a8f-a6d2-1ab75151f79e&pf_rd_r=9P8QHCE077AR2E3FFW09&qid=1681364132&sbo=RZvfv%2F%2FHxDF%2BO5021pAnSA%3D%3D&sbo=RZvfv%2F%2FHxDF%2BO5021pAnSA%3D%3D&sprefix=ac%2Caps%2C378&sr=1-6-048da096-9aef-4913-b917-aeb227ff179a',\n",
       " 'https://www.amazon.in/Panasonic-Convertible-additional-Purification-CU-NU12YKY5W/dp/B0BRHYBC3D/ref=sr_1_14?crid=3JMA49Q2LB4QY&keywords=ac&qid=1681364132&sprefix=ac%2Caps%2C378&sr=8-14',\n",
       " 'https://www.amazon.in/Whirlpool-Flexicool-Inverter-Convertible-Cooling/dp/B0BR5RF5KT/ref=sr_1_15?crid=3JMA49Q2LB4QY&keywords=ac&qid=1681364132&sprefix=ac%2Caps%2C378&sr=8-15',\n",
       " 'https://www.amazon.in/Samsung-Inverter-Convertible-Anti-Bacteria-AR18CYNZABE/dp/B0BRQD9Y92/ref=sr_1_16?crid=3JMA49Q2LB4QY&keywords=ac&qid=1681364132&sprefix=ac%2Caps%2C378&sr=8-16',\n",
       " 'https://www.amazon.in/Cruise-Inverter-Filtration-CWCVBG-VQ1W123-Dehumidifier/dp/B09474HJF5/ref=sr_1_17?crid=3JMA49Q2LB4QY&keywords=ac&qid=1681364132&sprefix=ac%2Caps%2C378&sr=8-17',\n",
       " 'https://www.amazon.in/Voltas-Inverter-Split-Conditioner-VOLTAS/dp/B09WDP2DLF/ref=sr_1_18?crid=3JMA49Q2LB4QY&keywords=ac&qid=1681364132&sprefix=ac%2Caps%2C378&sr=8-18',\n",
       " 'https://www.amazon.in/Godrej-Convertible-Split-AC-12TINV3R32-GWA/dp/B0BN37ZCF7/ref=sr_1_19?crid=3JMA49Q2LB4QY&keywords=ac&qid=1681364132&sprefix=ac%2Caps%2C378&sr=8-19',\n",
       " 'https://www.amazon.in/Voltas-Adjustable-123V-Vectra-Elite/dp/B0BQR2FW4Y/ref=sr_1_20?crid=3JMA49Q2LB4QY&keywords=ac&qid=1681364132&sprefix=ac%2Caps%2C378&sr=8-20',\n",
       " 'https://www.amazon.in/sspa/click?ie=UTF8&spc=MTozNDQxOTAzMTA4MTUwODY4OjE2ODEzNjQxMzM6c3BfYnRmOjIwMTA3MTM5NzY0Mjk4OjowOjo&url=%2FGodrej-Convertible-1-5T-18TINV3R32-GWA-18TINV3R32-GWB%2Fdp%2FB0BN37L5KM%2Fref%3Dsr_1_21_sspa%3Fcrid%3D3JMA49Q2LB4QY%26keywords%3Dac%26qid%3D1681364132%26sprefix%3Dac%252Caps%252C378%26sr%3D8-21-spons%26sp_csd%3Dd2lkZ2V0TmFtZT1zcF9idGY%26psc%3D1',\n",
       " 'https://www.amazon.in/sspa/click?ie=UTF8&spc=MTozNDQxOTAzMTA4MTUwODY4OjE2ODEzNjQxMzM6c3BfYnRmOjIwMTE1MjczMzE2NTk4OjowOjo&url=%2FGodrej-Convertible-1-5T-18IINV5R32-WWA%2Fdp%2FB0BP7SY16R%2Fref%3Dsr_1_22_sspa%3Fcrid%3D3JMA49Q2LB4QY%26keywords%3Dac%26qid%3D1681364132%26sprefix%3Dac%252Caps%252C378%26sr%3D8-22-spons%26sp_csd%3Dd2lkZ2V0TmFtZT1zcF9idGY%26psc%3D1',\n",
       " 'https://www.amazon.in/sspa/click?ie=UTF8&spc=MTozNDQxOTAzMTA4MTUwODY4OjE2ODEzNjQxMzM6c3BfYXRmOjIwMTEwMzgwNjI4Nzk4OjowOjo&url=%2FLG-Convertible-Anti-Virus-Protection-RS-Q19YNZE%2Fdp%2FB0BQ3MXML8%2Fref%3Dsr_1_1_sspa%3Fcrid%3D3JMA49Q2LB4QY%26keywords%3Dac%26qid%3D1681364132%26sprefix%3Dac%252Caps%252C378%26sr%3D8-1-spons%26sp_csd%3Dd2lkZ2V0TmFtZT1zcF9hdGY%26psc%3D1',\n",
       " 'https://www.amazon.in/sspa/click?ie=UTF8&spc=MTozNDQxOTAzMTA4MTUwODY4OjE2ODEzNjQxMzM6c3BfYXRmOjIwMTEwMzgwNjI4ODk4OjowOjo&url=%2FLG-Convertible-Anti-virus-Protection-RS-Q18ZNVE%2Fdp%2FB0BPYKMM2M%2Fref%3Dsr_1_2_sspa%3Fcrid%3D3JMA49Q2LB4QY%26keywords%3Dac%26qid%3D1681364132%26sprefix%3Dac%252Caps%252C378%26sr%3D8-2-spons%26sp_csd%3Dd2lkZ2V0TmFtZT1zcF9hdGY%26psc%3D1',\n",
       " 'https://www.amazon.in/Voltas-Adjustable-173V-Vectra-Platina/dp/B0BRJ7N92P/ref=sr_1_3?crid=3JMA49Q2LB4QY&keywords=ac&qid=1681364132&sprefix=ac%2Caps%2C378&sr=8-3',\n",
       " 'https://www.amazon.in/Lloyd-Inverter-Convertible-Anti-Viral-GLS18I3FWAMC/dp/B0BRKXTSBT/ref=sr_1_4?crid=3JMA49Q2LB4QY&keywords=ac&qid=1681364132&sprefix=ac%2Caps%2C378&sr=8-4',\n",
       " 'https://www.amazon.in/LG-Convertible-Anti-Virus-Protection-RS-Q19YNZE/dp/B0BQ3MXML8/ref=sr_1_5?crid=3JMA49Q2LB4QY&keywords=ac&qid=1681364132&sprefix=ac%2Caps%2C378&sr=8-5',\n",
       " 'https://www.amazon.in/Lloyd-Inverter-Convertible-Anti-Viral-GLS12I3FWAEV/dp/B0BRKX6FD5/ref=sr_1_6?crid=3JMA49Q2LB4QY&keywords=ac&qid=1681364132&sprefix=ac%2Caps%2C378&sr=8-6',\n",
       " 'https://www.amazon.in/LG-Inverter-Convertible-Protection-Rs-Q13Jnye/dp/B0BPYN9JGF/ref=sr_1_7?crid=3JMA49Q2LB4QY&keywords=ac&qid=1681364132&sprefix=ac%2Caps%2C378&sr=8-7',\n",
       " 'https://www.amazon.in/Blue-Star-Inverter-Copper-IC309RBTU/dp/B08L6QX5WC/ref=sr_1_8?crid=3JMA49Q2LB4QY&keywords=ac&qid=1681364132&sprefix=ac%2Caps%2C378&sr=8-8',\n",
       " 'https://www.amazon.in/Panasonic-Convertible-additional-Purification-CU-NU18YKY5W/dp/B0BRJ1973T/ref=sr_1_9?crid=3JMA49Q2LB4QY&keywords=ac&qid=1681364132&sprefix=ac%2Caps%2C378&sr=8-9',\n",
       " 'https://www.amazon.in/LG-Convertible-Anti-Virus-Protection-RS-Q19JNXE/dp/B0BQ3MJ1TG/ref=sr_1_10?crid=3JMA49Q2LB4QY&keywords=ac&qid=1681364132&sprefix=ac%2Caps%2C378&sr=8-10',\n",
       " 'https://www.amazon.in/sspa/click?ie=UTF8&spc=MTozNDQxOTAzMTA4MTUwODY4OjE2ODEzNjQxMzM6c3BfbXRmOjIwMTEyNTM4NzEyMTk4OjowOjo&url=%2FBlue-Star-Convertible-Stabalizer-IA315YNU%2Fdp%2FB0BN6WFT1K%2Fref%3Dsr_1_11_sspa%3Fcrid%3D3JMA49Q2LB4QY%26keywords%3Dac%26qid%3D1681364132%26sprefix%3Dac%252Caps%252C378%26sr%3D8-11-spons%26sp_csd%3Dd2lkZ2V0TmFtZT1zcF9tdGY%26psc%3D1',\n",
       " 'https://www.amazon.in/sspa/click?ie=UTF8&spc=MTozNDQxOTAzMTA4MTUwODY4OjE2ODEzNjQxMzM6c3BfbXRmOjIwMTA3MTM5NzY0MTk4OjowOjo&url=%2FGodrej-Convertible-Split-AC-12TINV3R32-GWA%2Fdp%2FB0BN37ZCF7%2Fref%3Dsr_1_12_sspa%3Fcrid%3D3JMA49Q2LB4QY%26keywords%3Dac%26qid%3D1681364132%26sprefix%3Dac%252Caps%252C378%26sr%3D8-12-spons%26sp_csd%3Dd2lkZ2V0TmFtZT1zcF9tdGY%26psc%3D1',\n",
       " 'https://www.amazon.in/Lloyd-Inverter-Convertible-Anti-Viral-GLS18I5FWBEV/dp/B0BRKXBRMF/ref=sr_1_13?crid=3JMA49Q2LB4QY&keywords=ac&qid=1681364132&sprefix=ac%2Caps%2C378&sr=8-13',\n",
       " 'https://www.amazon.in/Voltas-Inverter-Split-Conditioner-VOLTAS/dp/B09WDP2DLF/ref=sxin_25_lscx_w_sp_ia?content-id=amzn1.sym.0086bf6b-1995-4a8f-a6d2-1ab75151f79e%3Aamzn1.sym.0086bf6b-1995-4a8f-a6d2-1ab75151f79e&crid=3JMA49Q2LB4QY&cv_ct_cx=ac&keywords=ac&pd_rd_i=B09WDP2DLF&pd_rd_r=ff377670-89d5-4d89-9a9b-58f06168bb5e&pd_rd_w=xZbLk&pd_rd_wg=gwQYq&pf_rd_p=0086bf6b-1995-4a8f-a6d2-1ab75151f79e&pf_rd_r=9P8QHCE077AR2E3FFW09&qid=1681364132&sbo=RZvfv%2F%2FHxDF%2BO5021pAnSA%3D%3D&sprefix=ac%2Caps%2C378&sr=1-1-048da096-9aef-4913-b917-aeb227ff179a',\n",
       " 'https://www.amazon.in/Voltas-Adjustable-Inverter-Copper-VECTRA/dp/B0BBFWM5F9/ref=sxin_25_lscx_w_sp_ia_mod_primary_new?content-id=amzn1.sym.0086bf6b-1995-4a8f-a6d2-1ab75151f79e%3Aamzn1.sym.0086bf6b-1995-4a8f-a6d2-1ab75151f79e&crid=3JMA49Q2LB4QY&cv_ct_cx=ac&keywords=ac&pd_rd_i=B0BBFWM5F9&pd_rd_r=ff377670-89d5-4d89-9a9b-58f06168bb5e&pd_rd_w=xZbLk&pd_rd_wg=gwQYq&pf_rd_p=0086bf6b-1995-4a8f-a6d2-1ab75151f79e&pf_rd_r=9P8QHCE077AR2E3FFW09&qid=1681364132&sbo=RZvfv%2F%2FHxDF%2BO5021pAnSA%3D%3D&sbo=RZvfv%2F%2FHxDF%2BO5021pAnSA%3D%3D&sprefix=ac%2Caps%2C378&sr=1-2-048da096-9aef-4913-b917-aeb227ff179a',\n",
       " 'https://www.amazon.in/Voltas-Adjustable-123V-Vectra-Elite/dp/B0BQR2FW4Y/ref=sxin_25_lscx_w_sp_ia?content-id=amzn1.sym.0086bf6b-1995-4a8f-a6d2-1ab75151f79e%3Aamzn1.sym.0086bf6b-1995-4a8f-a6d2-1ab75151f79e&crid=3JMA49Q2LB4QY&cv_ct_cx=ac&keywords=ac&pd_rd_i=B0BQR2FW4Y&pd_rd_r=ff377670-89d5-4d89-9a9b-58f06168bb5e&pd_rd_w=xZbLk&pd_rd_wg=gwQYq&pf_rd_p=0086bf6b-1995-4a8f-a6d2-1ab75151f79e&pf_rd_r=9P8QHCE077AR2E3FFW09&qid=1681364132&sbo=RZvfv%2F%2FHxDF%2BO5021pAnSA%3D%3D&sprefix=ac%2Caps%2C378&sr=1-3-048da096-9aef-4913-b917-aeb227ff179a',\n",
       " 'https://www.amazon.in/Voltas-Vectra-Platina-Fixed-Window/dp/B0BQYB5YVF/ref=sxin_25_lscx_w_sp_ia?content-id=amzn1.sym.0086bf6b-1995-4a8f-a6d2-1ab75151f79e%3Aamzn1.sym.0086bf6b-1995-4a8f-a6d2-1ab75151f79e&crid=3JMA49Q2LB4QY&cv_ct_cx=ac&keywords=ac&pd_rd_i=B0BQYB5YVF&pd_rd_r=ff377670-89d5-4d89-9a9b-58f06168bb5e&pd_rd_w=xZbLk&pd_rd_wg=gwQYq&pf_rd_p=0086bf6b-1995-4a8f-a6d2-1ab75151f79e&pf_rd_r=9P8QHCE077AR2E3FFW09&qid=1681364132&sbo=RZvfv%2F%2FHxDF%2BO5021pAnSA%3D%3D&sprefix=ac%2Caps%2C378&sr=1-4-048da096-9aef-4913-b917-aeb227ff179a',\n",
       " 'https://www.amazon.in/SPLIT-AC-HITACHI-INVERTER-RSRG518FFEO/dp/B0B14J2VQ2/ref=sxin_25_lscx_w_sp_ia_mod_primary_new?content-id=amzn1.sym.0086bf6b-1995-4a8f-a6d2-1ab75151f79e%3Aamzn1.sym.0086bf6b-1995-4a8f-a6d2-1ab75151f79e&crid=3JMA49Q2LB4QY&cv_ct_cx=ac&keywords=ac&pd_rd_i=B0B14J2VQ2&pd_rd_r=ff377670-89d5-4d89-9a9b-58f06168bb5e&pd_rd_w=xZbLk&pd_rd_wg=gwQYq&pf_rd_p=0086bf6b-1995-4a8f-a6d2-1ab75151f79e&pf_rd_r=9P8QHCE077AR2E3FFW09&qid=1681364132&sbo=RZvfv%2F%2FHxDF%2BO5021pAnSA%3D%3D&sbo=RZvfv%2F%2FHxDF%2BO5021pAnSA%3D%3D&sprefix=ac%2Caps%2C378&sr=1-5-048da096-9aef-4913-b917-aeb227ff179a',\n",
       " 'https://www.amazon.in/Panasonic-Convertible-additional-Purification-CU-KZ18ZKYF/dp/B0BRJFLLJX/ref=sxin_25_lscx_w_sp_ia_mod_primary_new?content-id=amzn1.sym.0086bf6b-1995-4a8f-a6d2-1ab75151f79e%3Aamzn1.sym.0086bf6b-1995-4a8f-a6d2-1ab75151f79e&crid=3JMA49Q2LB4QY&cv_ct_cx=ac&keywords=ac&pd_rd_i=B0BRJFLLJX&pd_rd_r=ff377670-89d5-4d89-9a9b-58f06168bb5e&pd_rd_w=xZbLk&pd_rd_wg=gwQYq&pf_rd_p=0086bf6b-1995-4a8f-a6d2-1ab75151f79e&pf_rd_r=9P8QHCE077AR2E3FFW09&qid=1681364132&sbo=RZvfv%2F%2FHxDF%2BO5021pAnSA%3D%3D&sbo=RZvfv%2F%2FHxDF%2BO5021pAnSA%3D%3D&sprefix=ac%2Caps%2C378&sr=1-6-048da096-9aef-4913-b917-aeb227ff179a',\n",
       " 'https://www.amazon.in/Panasonic-Convertible-additional-Purification-CU-NU12YKY5W/dp/B0BRHYBC3D/ref=sr_1_14?crid=3JMA49Q2LB4QY&keywords=ac&qid=1681364132&sprefix=ac%2Caps%2C378&sr=8-14',\n",
       " 'https://www.amazon.in/Whirlpool-Flexicool-Inverter-Convertible-Cooling/dp/B0BR5RF5KT/ref=sr_1_15?crid=3JMA49Q2LB4QY&keywords=ac&qid=1681364132&sprefix=ac%2Caps%2C378&sr=8-15',\n",
       " 'https://www.amazon.in/Samsung-Inverter-Convertible-Anti-Bacteria-AR18CYNZABE/dp/B0BRQD9Y92/ref=sr_1_16?crid=3JMA49Q2LB4QY&keywords=ac&qid=1681364132&sprefix=ac%2Caps%2C378&sr=8-16',\n",
       " 'https://www.amazon.in/Cruise-Inverter-Filtration-CWCVBG-VQ1W123-Dehumidifier/dp/B09474HJF5/ref=sr_1_17?crid=3JMA49Q2LB4QY&keywords=ac&qid=1681364132&sprefix=ac%2Caps%2C378&sr=8-17',\n",
       " 'https://www.amazon.in/Voltas-Inverter-Split-Conditioner-VOLTAS/dp/B09WDP2DLF/ref=sr_1_18?crid=3JMA49Q2LB4QY&keywords=ac&qid=1681364132&sprefix=ac%2Caps%2C378&sr=8-18',\n",
       " 'https://www.amazon.in/Godrej-Convertible-Split-AC-12TINV3R32-GWA/dp/B0BN37ZCF7/ref=sr_1_19?crid=3JMA49Q2LB4QY&keywords=ac&qid=1681364132&sprefix=ac%2Caps%2C378&sr=8-19',\n",
       " 'https://www.amazon.in/Voltas-Adjustable-123V-Vectra-Elite/dp/B0BQR2FW4Y/ref=sr_1_20?crid=3JMA49Q2LB4QY&keywords=ac&qid=1681364132&sprefix=ac%2Caps%2C378&sr=8-20',\n",
       " 'https://www.amazon.in/sspa/click?ie=UTF8&spc=MTozNDQxOTAzMTA4MTUwODY4OjE2ODEzNjQxMzM6c3BfYnRmOjIwMTA3MTM5NzY0Mjk4OjowOjo&url=%2FGodrej-Convertible-1-5T-18TINV3R32-GWA-18TINV3R32-GWB%2Fdp%2FB0BN37L5KM%2Fref%3Dsr_1_21_sspa%3Fcrid%3D3JMA49Q2LB4QY%26keywords%3Dac%26qid%3D1681364132%26sprefix%3Dac%252Caps%252C378%26sr%3D8-21-spons%26sp_csd%3Dd2lkZ2V0TmFtZT1zcF9idGY%26psc%3D1',\n",
       " 'https://www.amazon.in/sspa/click?ie=UTF8&spc=MTozNDQxOTAzMTA4MTUwODY4OjE2ODEzNjQxMzM6c3BfYnRmOjIwMTE1MjczMzE2NTk4OjowOjo&url=%2FGodrej-Convertible-1-5T-18IINV5R32-WWA%2Fdp%2FB0BP7SY16R%2Fref%3Dsr_1_22_sspa%3Fcrid%3D3JMA49Q2LB4QY%26keywords%3Dac%26qid%3D1681364132%26sprefix%3Dac%252Caps%252C378%26sr%3D8-22-spons%26sp_csd%3Dd2lkZ2V0TmFtZT1zcF9idGY%26psc%3D1']"
      ]
     },
     "execution_count": 9,
     "metadata": {},
     "output_type": "execute_result"
    }
   ],
   "source": [
    "product_url"
   ]
  },
  {
   "cell_type": "code",
   "execution_count": 13,
   "id": "0c8da392",
   "metadata": {},
   "outputs": [],
   "source": [
    "brand_name=[]\n",
    "for i in product_url:\n",
    "    driver.get(i)\n",
    "    try:\n",
    "        bname=driver.find_element(By.XPATH,'/html/body/div[2]/div[2]/div[5]/div[10]/div/div[3]/div/div/div[1]/div[1]/p/span')\n",
    "        brand_name.append(bname.text)\n",
    "    except NoSuchElementException :\n",
    "        brand_name.append('-')"
   ]
  },
  {
   "cell_type": "code",
   "execution_count": 14,
   "id": "894f1789",
   "metadata": {},
   "outputs": [
    {
     "data": {
      "text/plain": [
       "['LG',\n",
       " 'LG',\n",
       " 'Voltas',\n",
       " 'Lloyd',\n",
       " 'LG',\n",
       " 'Lloyd',\n",
       " '-',\n",
       " 'Blue Star',\n",
       " 'Panasonic',\n",
       " 'LG',\n",
       " 'Blue Star',\n",
       " 'Godrej',\n",
       " 'Lloyd',\n",
       " 'Voltas',\n",
       " 'Voltas',\n",
       " '-',\n",
       " 'Voltas',\n",
       " 'Hitachi',\n",
       " 'Panasonic',\n",
       " 'Panasonic',\n",
       " '-',\n",
       " 'Samsung',\n",
       " 'Cruise',\n",
       " 'Voltas',\n",
       " '-',\n",
       " 'Voltas',\n",
       " 'Godrej',\n",
       " 'Godrej',\n",
       " 'LG',\n",
       " 'LG',\n",
       " 'Voltas',\n",
       " '-',\n",
       " 'LG',\n",
       " 'Lloyd',\n",
       " '-',\n",
       " 'Blue Star',\n",
       " '-',\n",
       " 'LG',\n",
       " 'Blue Star',\n",
       " 'Godrej',\n",
       " 'Lloyd',\n",
       " 'Voltas',\n",
       " 'Voltas',\n",
       " 'Voltas',\n",
       " 'Voltas',\n",
       " 'Hitachi',\n",
       " 'Panasonic',\n",
       " 'Panasonic',\n",
       " 'Whirlpool',\n",
       " '-',\n",
       " 'Cruise',\n",
       " 'Voltas',\n",
       " 'Godrej',\n",
       " '-',\n",
       " 'Godrej',\n",
       " '-',\n",
       " 'LG',\n",
       " 'LG',\n",
       " 'Voltas',\n",
       " '-',\n",
       " '-',\n",
       " '-',\n",
       " 'LG',\n",
       " 'Blue Star',\n",
       " 'Panasonic',\n",
       " 'LG',\n",
       " 'Blue Star',\n",
       " 'Godrej',\n",
       " '-',\n",
       " 'Voltas',\n",
       " '-',\n",
       " 'Voltas',\n",
       " 'Voltas',\n",
       " 'Hitachi',\n",
       " 'Panasonic',\n",
       " 'Panasonic',\n",
       " '-',\n",
       " 'Samsung',\n",
       " '-',\n",
       " 'Voltas',\n",
       " 'Godrej',\n",
       " '-',\n",
       " '-',\n",
       " 'Godrej']"
      ]
     },
     "execution_count": 14,
     "metadata": {},
     "output_type": "execute_result"
    }
   ],
   "source": [
    "brand_name"
   ]
  },
  {
   "cell_type": "code",
   "execution_count": 15,
   "id": "00f62c6e",
   "metadata": {},
   "outputs": [
    {
     "data": {
      "text/plain": [
       "84"
      ]
     },
     "execution_count": 15,
     "metadata": {},
     "output_type": "execute_result"
    }
   ],
   "source": [
    "len(brand_name)"
   ]
  },
  {
   "cell_type": "code",
   "execution_count": 16,
   "id": "cae9bd8a",
   "metadata": {},
   "outputs": [],
   "source": [
    "name=[]\n",
    "for i in product_url:\n",
    "    driver.get(i)\n",
    "    try:\n",
    "        name_s=driver.find_element(By.XPATH,'/html/body/div[2]/div[2]/div[5]/div[3]/div[2]/div/div/h1/span')\n",
    "        name.append(name_s.text)\n",
    "    except NoSuchElementException:\n",
    "        name.append('-')"
   ]
  },
  {
   "cell_type": "code",
   "execution_count": 17,
   "id": "9e0aad47",
   "metadata": {},
   "outputs": [
    {
     "data": {
      "text/plain": [
       "['LG 1.5 Ton 5 Star AI DUAL Inverter Split AC (Copper, Super Convertible 6-in-1 Cooling, HD Filter with Anti-Virus Protection, 2023 Model, RS-Q19YNZE, White)',\n",
       " 'LG 1.5 Ton 2 Star DUAL Inverter Split AC (Copper, Convertible 4-in-1 Cooling, HD Filter with Anti-virus Protection, 2023 Model, RS-Q18ZNVE, White)',\n",
       " '-',\n",
       " '-',\n",
       " '-',\n",
       " 'Lloyd 1.0 Ton 3 Star Inverter Split AC (5 in 1 Convertible, Copper, Anti-Viral + PM 2.5 Filter, 2023 Model, White with Chrome Deco Strip, GLS12I3FWAEV)',\n",
       " 'LG 1 Ton 4 Star Ai Dual Inverter Split Ac (Copper, Super Convertible 6-In-1 Cooling, Hd Filter With Anti Virus Protection, 2023 Model, Rs-Q13Jnye, White)',\n",
       " '-',\n",
       " 'Panasonic 1.5 Ton 5 Star Wi-Fi Inverter Smart Split AC (Copper Condenser, 7 in 1 Convertible with additional AI Mode, 4 Way Swing, PM 0.1 Air Purification Filter, CS/CU-NU18YKY5W,2023 Model, White)',\n",
       " '-',\n",
       " 'Blue Star 1.2 Ton 3 Star Convertible 4 in 1 Cooling Inverter Split AC (Copper, Smart Ready, Auto Defrost, Multi Sensors, Stabalizer Free Operations, Dust Filters, Blue Fins, 2023Model, IA315YNU,White)',\n",
       " 'Godrej 1 Ton 3 Star, 5-In-1 Convertible Cooling, Inverter Split AC (Copper, I-Sense Technology, 2023 Model, AC 1T EI 12TINV3R32-GWA Split, White)',\n",
       " '-',\n",
       " 'Voltas 1.5 Ton, 5 Star, Inverter Split AC(Copper, 4-in-1 Adjustable Mode, Anti-dust Filter, 2023 Model, 185V DAZJ, White)',\n",
       " 'Voltas 2 Ton 5 Star, Inverter Split AC(Copper,4-in-1 Adjustable Mode, Anti-dust Filter, 2023 Model, 245V Vectra Plus, White)',\n",
       " '-',\n",
       " 'Voltas SAC 123 Vectra Platina Fixed Window AC 1 Ton',\n",
       " 'Hitachi Split Ac - 1.5 Ton Kiyora 5200Fx I Fresh Inverter - R32 - RSRG518FFEO (Gold)',\n",
       " 'Panasonic 1.5 Ton 3 Star Hot and Cold Wi-Fi Inverter Smart Split AC (Copper, 7 in 1 Convertible with additional AI Mode, Twin Cool, PM 0.1 Air Purification, CS/CU-KZ18ZKYF, 2023 Model, White)',\n",
       " 'Panasonic 1 Ton 5 Star Wi-Fi Inverter Smart Split AC (Copper Condenser, 7 in 1 Convertible with additional AI Mode, 4 Way Swing, PM 0.1 Air Purification Filter, CS/CU-NU12YKY5W,2023 Model, White)',\n",
       " 'Whirlpool 1.5 Ton 3 Star, Flexicool Inverter Split AC (Copper, Convertible 4-in-1 Cooling Mode, HD Filter 2023 Model, S3K1PPO, White)',\n",
       " '-',\n",
       " 'Cruise 1 Ton 3 Star Inverter Split AC with 7-Stage Air Filtration (100% Copper, Convertible 4-in-1, PM 2.5 Filter, 2022 Model, CWCVBH-VQ1W123, White)',\n",
       " 'Voltas 1.5 Ton, 5 Star, Inverter Split AC(Copper, 4-in-1 Adjustable Mode, Anti-dust Filter, 2023 Model, 185V DAZJ, White)',\n",
       " '-',\n",
       " 'Voltas 1 Ton 3 Star, Inverter Split AC(Copper, 4-in-1 Adjustable Mode, Anti-dust Filter, 2023 Model, 123V Vectra Elite, White)',\n",
       " 'Godrej 1.5 Ton 3 Star, 5-In-1 Convertible, Inverter Split AC (Copper, I-Sense Technology, 2023 Model, AC 1.5T EI 18TINV3R32-GWA /AC 1.5T EI 18TINV3R32-GWB, White)',\n",
       " 'Godrej 1.5 Ton 5 Star 5-In-1 Convertible, Inverter Split AC (Copper, Heavy Duty Cooling at 52°C, 2023 Model, AC 1.5T EI 18IINV5R32 WWA, White)',\n",
       " '-',\n",
       " 'LG 1.5 Ton 2 Star DUAL Inverter Split AC (Copper, Convertible 4-in-1 Cooling, HD Filter with Anti-virus Protection, 2023 Model, RS-Q18ZNVE, White)',\n",
       " 'Voltas 1.4 Ton 3 Star Inverter Split AC(Copper, Adjustable Cooling, Anti-dust Filter, 2023 Model, 173V Vectra Platina, White)',\n",
       " '-',\n",
       " 'LG 1.5 Ton 5 Star AI DUAL Inverter Split AC (Copper, Super Convertible 6-in-1 Cooling, HD Filter with Anti-Virus Protection, 2023 Model, RS-Q19YNZE, White)',\n",
       " 'Lloyd 1.0 Ton 3 Star Inverter Split AC (5 in 1 Convertible, Copper, Anti-Viral + PM 2.5 Filter, 2023 Model, White with Chrome Deco Strip, GLS12I3FWAEV)',\n",
       " 'LG 1 Ton 4 Star Ai Dual Inverter Split Ac (Copper, Super Convertible 6-In-1 Cooling, Hd Filter With Anti Virus Protection, 2023 Model, Rs-Q13Jnye, White)',\n",
       " 'Blue Star 0.8 Ton 3 Star Inverter Split Ac (Copper, Turbo Cool, Gold Fins, Comfort Sleep, Self Clean Technology, Multi Sensors, Eco Mode, Hidden Display, Stabiliser Free, 2023 Model,Ic309Rbtu,White)',\n",
       " '-',\n",
       " 'LG 1.5 Ton 3 Star AI DUAL Inverter Split AC (Copper, Super Convertible 6-in-1 Cooling, HD Filter with Anti-Virus Protection, 2023 Model, RS-Q19JNXE, White)',\n",
       " 'Blue Star 1.2 Ton 3 Star Convertible 4 in 1 Cooling Inverter Split AC (Copper, Smart Ready, Auto Defrost, Multi Sensors, Stabalizer Free Operations, Dust Filters, Blue Fins, 2023Model, IA315YNU,White)',\n",
       " '-',\n",
       " 'Lloyd 1.5 Ton 5 Star Inverter Split AC (5 in 1 Convertible, Copper, Anti-Viral + PM 2.5 Filter, 2023 Model, White with Chrome Deco Strip, GLS18I5FWBEV)',\n",
       " 'Voltas 1.5 Ton, 5 Star, Inverter Split AC(Copper, 4-in-1 Adjustable Mode, Anti-dust Filter, 2023 Model, 185V DAZJ, White)',\n",
       " 'Voltas 2 Ton 5 Star, Inverter Split AC(Copper,4-in-1 Adjustable Mode, Anti-dust Filter, 2023 Model, 245V Vectra Plus, White)',\n",
       " '-',\n",
       " 'Voltas SAC 123 Vectra Platina Fixed Window AC 1 Ton',\n",
       " 'Hitachi Split Ac - 1.5 Ton Kiyora 5200Fx I Fresh Inverter - R32 - RSRG518FFEO (Gold)',\n",
       " 'Panasonic 1.5 Ton 3 Star Hot and Cold Wi-Fi Inverter Smart Split AC (Copper, 7 in 1 Convertible with additional AI Mode, Twin Cool, PM 0.1 Air Purification, CS/CU-KZ18ZKYF, 2023 Model, White)',\n",
       " 'Panasonic 1 Ton 5 Star Wi-Fi Inverter Smart Split AC (Copper Condenser, 7 in 1 Convertible with additional AI Mode, 4 Way Swing, PM 0.1 Air Purification Filter, CS/CU-NU12YKY5W,2023 Model, White)',\n",
       " 'Whirlpool 1.5 Ton 3 Star, Flexicool Inverter Split AC (Copper, Convertible 4-in-1 Cooling Mode, HD Filter 2023 Model, S3K1PPO, White)',\n",
       " 'Samsung 1.5 Ton 5 Star Inverter Split AC (Copper, Convertible 5-in-1 Cooling Mode, Anti-Bacteria, 2023 Model AR18CYNZABE White)',\n",
       " 'Cruise 1 Ton 3 Star Inverter Split AC with 7-Stage Air Filtration (100% Copper, Convertible 4-in-1, PM 2.5 Filter, 2022 Model, CWCVBH-VQ1W123, White)',\n",
       " 'Voltas 1.5 Ton, 5 Star, Inverter Split AC(Copper, 4-in-1 Adjustable Mode, Anti-dust Filter, 2023 Model, 185V DAZJ, White)',\n",
       " 'Godrej 1 Ton 3 Star, 5-In-1 Convertible Cooling, Inverter Split AC (Copper, I-Sense Technology, 2023 Model, AC 1T EI 12TINV3R32-GWA Split, White)',\n",
       " 'Voltas 1 Ton 3 Star, Inverter Split AC(Copper, 4-in-1 Adjustable Mode, Anti-dust Filter, 2023 Model, 123V Vectra Elite, White)',\n",
       " 'Godrej 1.5 Ton 3 Star, 5-In-1 Convertible, Inverter Split AC (Copper, I-Sense Technology, 2023 Model, AC 1.5T EI 18TINV3R32-GWA /AC 1.5T EI 18TINV3R32-GWB, White)',\n",
       " 'Godrej 1.5 Ton 5 Star 5-In-1 Convertible, Inverter Split AC (Copper, Heavy Duty Cooling at 52°C, 2023 Model, AC 1.5T EI 18IINV5R32 WWA, White)',\n",
       " '-',\n",
       " 'LG 1.5 Ton 2 Star DUAL Inverter Split AC (Copper, Convertible 4-in-1 Cooling, HD Filter with Anti-virus Protection, 2023 Model, RS-Q18ZNVE, White)',\n",
       " '-',\n",
       " 'Lloyd 1.5 Ton 3 Star Inverter Split AC (5 in 1 Convertible, Copper, Anti-Viral + PM 2.5 Filter, 2023 Model, White, GLS18I3FWAMC)',\n",
       " '-',\n",
       " 'Lloyd 1.0 Ton 3 Star Inverter Split AC (5 in 1 Convertible, Copper, Anti-Viral + PM 2.5 Filter, 2023 Model, White with Chrome Deco Strip, GLS12I3FWAEV)',\n",
       " 'LG 1 Ton 4 Star Ai Dual Inverter Split Ac (Copper, Super Convertible 6-In-1 Cooling, Hd Filter With Anti Virus Protection, 2023 Model, Rs-Q13Jnye, White)',\n",
       " 'Blue Star 0.8 Ton 3 Star Inverter Split Ac (Copper, Turbo Cool, Gold Fins, Comfort Sleep, Self Clean Technology, Multi Sensors, Eco Mode, Hidden Display, Stabiliser Free, 2023 Model,Ic309Rbtu,White)',\n",
       " 'Panasonic 1.5 Ton 5 Star Wi-Fi Inverter Smart Split AC (Copper Condenser, 7 in 1 Convertible with additional AI Mode, 4 Way Swing, PM 0.1 Air Purification Filter, CS/CU-NU18YKY5W,2023 Model, White)',\n",
       " 'LG 1.5 Ton 3 Star AI DUAL Inverter Split AC (Copper, Super Convertible 6-in-1 Cooling, HD Filter with Anti-Virus Protection, 2023 Model, RS-Q19JNXE, White)',\n",
       " 'Blue Star 1.2 Ton 3 Star Convertible 4 in 1 Cooling Inverter Split AC (Copper, Smart Ready, Auto Defrost, Multi Sensors, Stabalizer Free Operations, Dust Filters, Blue Fins, 2023Model, IA315YNU,White)',\n",
       " '-',\n",
       " 'Lloyd 1.5 Ton 5 Star Inverter Split AC (5 in 1 Convertible, Copper, Anti-Viral + PM 2.5 Filter, 2023 Model, White with Chrome Deco Strip, GLS18I5FWBEV)',\n",
       " '-',\n",
       " '-',\n",
       " 'Voltas 1 Ton 3 Star, Inverter Split AC(Copper, 4-in-1 Adjustable Mode, Anti-dust Filter, 2023 Model, 123V Vectra Elite, White)',\n",
       " '-',\n",
       " 'Hitachi Split Ac - 1.5 Ton Kiyora 5200Fx I Fresh Inverter - R32 - RSRG518FFEO (Gold)',\n",
       " '-',\n",
       " 'Panasonic 1 Ton 5 Star Wi-Fi Inverter Smart Split AC (Copper Condenser, 7 in 1 Convertible with additional AI Mode, 4 Way Swing, PM 0.1 Air Purification Filter, CS/CU-NU12YKY5W,2023 Model, White)',\n",
       " '-',\n",
       " 'Samsung 1.5 Ton 5 Star Inverter Split AC (Copper, Convertible 5-in-1 Cooling Mode, Anti-Bacteria, 2023 Model AR18CYNZABE White)',\n",
       " 'Cruise 1 Ton 3 Star Inverter Split AC with 7-Stage Air Filtration (100% Copper, Convertible 4-in-1, PM 2.5 Filter, 2022 Model, CWCVBH-VQ1W123, White)',\n",
       " 'Voltas 1.5 Ton, 5 Star, Inverter Split AC(Copper, 4-in-1 Adjustable Mode, Anti-dust Filter, 2023 Model, 185V DAZJ, White)',\n",
       " '-',\n",
       " 'Voltas 1 Ton 3 Star, Inverter Split AC(Copper, 4-in-1 Adjustable Mode, Anti-dust Filter, 2023 Model, 123V Vectra Elite, White)',\n",
       " 'Godrej 1.5 Ton 3 Star, 5-In-1 Convertible, Inverter Split AC (Copper, I-Sense Technology, 2023 Model, AC 1.5T EI 18TINV3R32-GWA /AC 1.5T EI 18TINV3R32-GWB, White)',\n",
       " '-']"
      ]
     },
     "execution_count": 17,
     "metadata": {},
     "output_type": "execute_result"
    }
   ],
   "source": [
    "name"
   ]
  },
  {
   "cell_type": "code",
   "execution_count": 18,
   "id": "b6be9cc1",
   "metadata": {},
   "outputs": [
    {
     "data": {
      "text/plain": [
       "84"
      ]
     },
     "execution_count": 18,
     "metadata": {},
     "output_type": "execute_result"
    }
   ],
   "source": [
    "len(name)"
   ]
  },
  {
   "cell_type": "code",
   "execution_count": 19,
   "id": "f6d70f49",
   "metadata": {},
   "outputs": [],
   "source": [
    "price=[]\n",
    "for i in product_url:\n",
    "    driver.get(i)\n",
    "    try:\n",
    "        price_p=driver.find_element(By.XPATH,'/html/body/div[2]/div[2]/div[5]/div[3]/div[4]/div[9]/div[3]/div[1]/span[2]/span[2]/span[2]')\n",
    "        price.append(price_p.text)\n",
    "    except NoSuchElementException:\n",
    "        price.append('-')"
   ]
  },
  {
   "cell_type": "code",
   "execution_count": 21,
   "id": "253a1fc9",
   "metadata": {},
   "outputs": [
    {
     "data": {
      "text/plain": [
       "84"
      ]
     },
     "execution_count": 21,
     "metadata": {},
     "output_type": "execute_result"
    }
   ],
   "source": [
    "len(price)"
   ]
  },
  {
   "cell_type": "code",
   "execution_count": 22,
   "id": "9b356edf",
   "metadata": {},
   "outputs": [],
   "source": [
    "exchange=[]\n",
    "for i in product_url:\n",
    "    driver.get(i)\n",
    "    try:\n",
    "        exchange_e=driver.find_element(By.XPATH,'/html/body/div[2]/div[2]/div[5]/div[3]/div[4]/div[21]/div[2]/div/div/div/div[2]/div/ol/li[2]/div/span/div[2]/a')\n",
    "        exchange.append(exchange_e.text)\n",
    "    except NoSuchElementException:\n",
    "        exchange.append('-')"
   ]
  },
  {
   "cell_type": "code",
   "execution_count": 24,
   "id": "a49a8991",
   "metadata": {},
   "outputs": [
    {
     "data": {
      "text/plain": [
       "84"
      ]
     },
     "execution_count": 24,
     "metadata": {},
     "output_type": "execute_result"
    }
   ],
   "source": [
    "len(exchange)"
   ]
  },
  {
   "cell_type": "code",
   "execution_count": 25,
   "id": "21e9fca6",
   "metadata": {},
   "outputs": [],
   "source": [
    "expected_delivery=[]\n",
    "for i in product_url:\n",
    "    driver.get(i)\n",
    "    try:\n",
    "        expect=driver.find_element(By.XPATH,'/html/body/div[2]/div[2]/div[5]/div[3]/div[1]/div[3]/div/div[1]/div/div[1]/div/div/div[2]/div/div[2]/div/form/div/div/div[2]/div[9]/div[1]/div/div/div/span')\n",
    "        expected_delivery.append(expect.text)\n",
    "    except NoSuchElementException:\n",
    "        expected_delivery.append('-')"
   ]
  },
  {
   "cell_type": "code",
   "execution_count": 26,
   "id": "fce98401",
   "metadata": {},
   "outputs": [
    {
     "data": {
      "text/plain": [
       "['FREE scheduled delivery as soon as Saturday, 15 April, 7 AM - 9 PM. Order within 6 hrs 49 mins. Details',\n",
       " 'FREE scheduled delivery as soon as Saturday, 15 April, 7 AM - 9 PM. Order within 6 hrs 49 mins. Details',\n",
       " '-',\n",
       " 'FREE scheduled delivery as soon as Saturday, 15 April, 7 AM - 9 PM. Order within 23 hrs 48 mins. Details',\n",
       " 'FREE scheduled delivery as soon as Saturday, 15 April, 7 AM - 9 PM. Order within 6 hrs 48 mins. Details',\n",
       " 'FREE scheduled delivery as soon as Saturday, 15 April, 7 AM - 9 PM. Order within 23 hrs 48 mins. Details',\n",
       " '-',\n",
       " '-',\n",
       " 'FREE scheduled delivery as soon as Saturday, 15 April, 7 AM - 9 PM. Order within 6 hrs 48 mins. Details',\n",
       " 'FREE scheduled delivery as soon as Saturday, 15 April, 7 AM - 9 PM. Order within 6 hrs 48 mins. Details',\n",
       " 'FREE scheduled delivery as soon as Saturday, 15 April, 7 AM - 9 PM. Order within 6 hrs 48 mins. Details',\n",
       " 'FREE scheduled delivery as soon as Saturday, 15 April, 7 AM - 9 PM. Order within 6 hrs 48 mins. Details',\n",
       " 'FREE scheduled delivery as soon as Saturday, 15 April, 7 AM - 9 PM. Order within 6 hrs 48 mins. Details',\n",
       " 'FREE scheduled delivery as soon as Saturday, 15 April, 7 AM - 9 PM. Order within 6 hrs 48 mins. Details',\n",
       " '-',\n",
       " 'FREE scheduled delivery as soon as Saturday, 15 April, 7 AM - 9 PM. Details',\n",
       " 'FREE scheduled delivery as soon as Saturday, 15 April, 7 AM - 9 PM. Order within 17 mins. Details',\n",
       " '-',\n",
       " '-',\n",
       " 'FREE scheduled delivery as soon as Saturday, 15 April, 7 AM - 9 PM. Order within 6 hrs 47 mins. Details',\n",
       " 'FREE scheduled delivery as soon as Saturday, 15 April, 7 AM - 9 PM. Order within 23 hrs 47 mins. Details',\n",
       " 'FREE scheduled delivery as soon as Saturday, 15 April, 7 AM - 9 PM. Order within 6 hrs 47 mins. Details',\n",
       " 'FREE scheduled delivery as soon as Saturday, 15 April, 7 AM - 9 PM. Order within 6 hrs 47 mins. Details',\n",
       " 'FREE scheduled delivery as soon as Saturday, 15 April, 7 AM - 9 PM. Order within 6 hrs 47 mins. Details',\n",
       " 'FREE scheduled delivery as soon as Saturday, 15 April, 7 AM - 9 PM. Order within 6 hrs 47 mins. Details',\n",
       " 'FREE scheduled delivery as soon as Saturday, 15 April, 7 AM - 9 PM. Details',\n",
       " 'FREE scheduled delivery as soon as Saturday, 15 April, 7 AM - 9 PM',\n",
       " 'FREE scheduled delivery as soon as Saturday, 15 April, 7 AM - 9 PM. Order within 23 hrs 47 mins. Details',\n",
       " 'FREE scheduled delivery as soon as Saturday, 15 April, 7 AM - 9 PM. Order within 6 hrs 47 mins. Details',\n",
       " 'FREE scheduled delivery as soon as Saturday, 15 April, 7 AM - 9 PM. Order within 6 hrs 47 mins. Details',\n",
       " 'FREE scheduled delivery as soon as Saturday, 15 April, 7 AM - 9 PM. Order within 6 hrs 47 mins. Details',\n",
       " 'FREE scheduled delivery as soon as Saturday, 15 April, 7 AM - 9 PM. Order within 23 hrs 46 mins. Details',\n",
       " 'FREE scheduled delivery as soon as Saturday, 15 April, 7 AM - 9 PM. Order within 6 hrs 46 mins. Details',\n",
       " 'FREE scheduled delivery as soon as Saturday, 15 April, 7 AM - 9 PM. Order within 23 hrs 46 mins. Details',\n",
       " 'FREE scheduled delivery as soon as Saturday, 15 April, 7 AM - 9 PM. Order within 6 hrs 46 mins. Details',\n",
       " '-',\n",
       " 'FREE scheduled delivery as soon as Saturday, 15 April, 7 AM - 9 PM. Order within 6 hrs 46 mins. Details',\n",
       " 'FREE scheduled delivery as soon as Saturday, 15 April, 7 AM - 9 PM. Order within 6 hrs 46 mins. Details',\n",
       " 'FREE scheduled delivery as soon as Saturday, 15 April, 7 AM - 9 PM. Order within 6 hrs 46 mins. Details',\n",
       " 'FREE scheduled delivery as soon as Saturday, 15 April, 7 AM - 9 PM. Order within 6 hrs 46 mins. Details',\n",
       " 'FREE scheduled delivery as soon as Saturday, 15 April, 7 AM - 9 PM. Order within 6 hrs 46 mins. Details',\n",
       " 'FREE scheduled delivery as soon as Saturday, 15 April, 7 AM - 9 PM. Order within 6 hrs 46 mins. Details',\n",
       " 'FREE scheduled delivery as soon as Saturday, 15 April, 7 AM - 9 PM. Order within 16 mins. Details',\n",
       " 'FREE scheduled delivery as soon as Saturday, 15 April, 7 AM - 9 PM. Details',\n",
       " 'FREE scheduled delivery as soon as Saturday, 15 April, 7 AM - 9 PM. Order within 16 mins. Details',\n",
       " 'FREE scheduled delivery as soon as Sunday, 16 April, 7 AM - 9 PM',\n",
       " '-',\n",
       " 'FREE scheduled delivery as soon as Saturday, 15 April, 7 AM - 9 PM. Order within 6 hrs 45 mins. Details',\n",
       " '-',\n",
       " 'FREE scheduled delivery as soon as Saturday, 15 April, 7 AM - 9 PM. Order within 6 hrs 45 mins. Details',\n",
       " 'FREE scheduled delivery as soon as Saturday, 15 April, 7 AM - 9 PM. Order within 6 hrs 45 mins. Details',\n",
       " 'FREE scheduled delivery as soon as Saturday, 15 April, 7 AM - 9 PM. Order within 6 hrs 45 mins. Details',\n",
       " 'FREE scheduled delivery as soon as Saturday, 15 April, 7 AM - 9 PM. Order within 6 hrs 45 mins. Details',\n",
       " 'FREE scheduled delivery as soon as Saturday, 15 April, 7 AM - 9 PM. Details',\n",
       " 'FREE scheduled delivery as soon as Saturday, 15 April, 7 AM - 9 PM',\n",
       " 'FREE scheduled delivery as soon as Saturday, 15 April, 7 AM - 9 PM. Order within 23 hrs 45 mins. Details',\n",
       " 'FREE scheduled delivery as soon as Saturday, 15 April, 7 AM - 9 PM. Order within 6 hrs 45 mins. Details',\n",
       " 'FREE scheduled delivery as soon as Saturday, 15 April, 7 AM - 9 PM. Order within 6 hrs 45 mins. Details',\n",
       " 'FREE scheduled delivery as soon as Saturday, 15 April, 7 AM - 9 PM. Order within 6 hrs 45 mins. Details',\n",
       " 'FREE scheduled delivery as soon as Saturday, 15 April, 7 AM - 9 PM. Order within 23 hrs 45 mins. Details',\n",
       " 'FREE scheduled delivery as soon as Saturday, 15 April, 7 AM - 9 PM. Order within 6 hrs 45 mins. Details',\n",
       " 'FREE scheduled delivery as soon as Saturday, 15 April, 7 AM - 9 PM. Order within 23 hrs 45 mins. Details',\n",
       " 'FREE scheduled delivery as soon as Saturday, 15 April, 7 AM - 9 PM. Order within 6 hrs 45 mins. Details',\n",
       " 'FREE scheduled delivery as soon as Saturday, 15 April, 7 AM - 9 PM. Order within 23 hrs 44 mins. Details',\n",
       " 'FREE scheduled delivery as soon as Saturday, 15 April, 7 AM - 9 PM. Order within 6 hrs 44 mins. Details',\n",
       " 'FREE scheduled delivery as soon as Saturday, 15 April, 7 AM - 9 PM. Order within 6 hrs 44 mins. Details',\n",
       " '-',\n",
       " 'FREE scheduled delivery as soon as Saturday, 15 April, 7 AM - 9 PM. Order within 6 hrs 44 mins. Details',\n",
       " 'FREE scheduled delivery as soon as Saturday, 15 April, 7 AM - 9 PM. Order within 6 hrs 44 mins. Details',\n",
       " '-',\n",
       " 'FREE scheduled delivery as soon as Saturday, 15 April, 7 AM - 9 PM. Order within 14 mins. Details',\n",
       " 'FREE scheduled delivery as soon as Saturday, 15 April, 7 AM - 9 PM. Details',\n",
       " 'FREE scheduled delivery as soon as Saturday, 15 April, 7 AM - 9 PM. Details',\n",
       " 'FREE scheduled delivery as soon as Sunday, 16 April, 7 AM - 9 PM',\n",
       " '-',\n",
       " 'FREE scheduled delivery as soon as Saturday, 15 April, 7 AM - 9 PM. Order within 6 hrs 44 mins. Details',\n",
       " '-',\n",
       " '-',\n",
       " 'FREE scheduled delivery as soon as Saturday, 15 April, 7 AM - 9 PM. Order within 6 hrs 43 mins. Details',\n",
       " '-',\n",
       " 'FREE scheduled delivery as soon as Saturday, 15 April, 7 AM - 9 PM. Order within 6 hrs 43 mins. Details',\n",
       " 'FREE scheduled delivery as soon as Saturday, 15 April, 7 AM - 9 PM. Details',\n",
       " 'FREE scheduled delivery as soon as Saturday, 15 April, 7 AM - 9 PM',\n",
       " 'FREE scheduled delivery as soon as Saturday, 15 April, 7 AM - 9 PM. Order within 23 hrs 43 mins. Details']"
      ]
     },
     "execution_count": 26,
     "metadata": {},
     "output_type": "execute_result"
    }
   ],
   "source": [
    "expected_delivery"
   ]
  },
  {
   "cell_type": "code",
   "execution_count": 27,
   "id": "126b3353",
   "metadata": {},
   "outputs": [],
   "source": [
    "availability=[]\n",
    "for i in product_url:\n",
    "    driver.get(i)\n",
    "    try:\n",
    "        avail=driver.find_element(By.XPATH,'/html/body/div[2]/div[2]/div[5]/div[3]/div[1]/div[3]/div/div[1]/div/div[1]/div/div/div[2]/div/div[2]/div/form/div/div/div[4]/div/div[1]/span')\n",
    "        availability.append(avail.text)\n",
    "    except NoSuchElementException:\n",
    "        availability.append('-')\n",
    "    "
   ]
  },
  {
   "cell_type": "code",
   "execution_count": 28,
   "id": "78253cbd",
   "metadata": {},
   "outputs": [
    {
     "data": {
      "text/plain": [
       "['In stock',\n",
       " '-',\n",
       " 'In stock',\n",
       " '-',\n",
       " '-',\n",
       " 'In stock',\n",
       " 'In stock',\n",
       " '-',\n",
       " 'In stock',\n",
       " 'In stock',\n",
       " 'In stock',\n",
       " 'In stock',\n",
       " 'In stock',\n",
       " 'In stock',\n",
       " '-',\n",
       " 'In stock',\n",
       " '-',\n",
       " '-',\n",
       " '-',\n",
       " 'In stock',\n",
       " 'In stock',\n",
       " 'In stock',\n",
       " 'In stock',\n",
       " 'In stock',\n",
       " 'In stock',\n",
       " 'In stock',\n",
       " 'In stock',\n",
       " 'In stock',\n",
       " 'In stock',\n",
       " 'In stock',\n",
       " 'In stock',\n",
       " 'In stock',\n",
       " 'In stock',\n",
       " 'In stock',\n",
       " 'In stock',\n",
       " 'In stock',\n",
       " 'In stock',\n",
       " '-',\n",
       " 'In stock',\n",
       " '-',\n",
       " 'In stock',\n",
       " 'In stock',\n",
       " '-',\n",
       " 'In stock',\n",
       " 'In stock',\n",
       " 'In stock',\n",
       " '-',\n",
       " 'In stock',\n",
       " 'In stock',\n",
       " 'In stock',\n",
       " 'In stock',\n",
       " 'In stock',\n",
       " '-',\n",
       " 'In stock',\n",
       " 'In stock',\n",
       " 'In stock',\n",
       " 'In stock',\n",
       " 'In stock',\n",
       " 'In stock',\n",
       " 'In stock',\n",
       " 'In stock',\n",
       " 'In stock',\n",
       " '-',\n",
       " 'In stock',\n",
       " '-',\n",
       " 'In stock',\n",
       " 'In stock',\n",
       " '-',\n",
       " 'In stock',\n",
       " 'In stock',\n",
       " 'Only 2 left in stock',\n",
       " 'In stock',\n",
       " 'In stock',\n",
       " 'In stock',\n",
       " '-',\n",
       " 'In stock',\n",
       " 'In stock',\n",
       " 'In stock',\n",
       " 'In stock',\n",
       " 'In stock',\n",
       " 'In stock',\n",
       " 'In stock',\n",
       " 'In stock',\n",
       " 'In stock']"
      ]
     },
     "execution_count": 28,
     "metadata": {},
     "output_type": "execute_result"
    }
   ],
   "source": [
    "availability"
   ]
  },
  {
   "cell_type": "code",
   "execution_count": 29,
   "id": "cb6c718e",
   "metadata": {},
   "outputs": [
    {
     "data": {
      "text/html": [
       "<div>\n",
       "<style scoped>\n",
       "    .dataframe tbody tr th:only-of-type {\n",
       "        vertical-align: middle;\n",
       "    }\n",
       "\n",
       "    .dataframe tbody tr th {\n",
       "        vertical-align: top;\n",
       "    }\n",
       "\n",
       "    .dataframe thead th {\n",
       "        text-align: right;\n",
       "    }\n",
       "</style>\n",
       "<table border=\"1\" class=\"dataframe\">\n",
       "  <thead>\n",
       "    <tr style=\"text-align: right;\">\n",
       "      <th></th>\n",
       "      <th>Brand Name</th>\n",
       "      <th>Name</th>\n",
       "      <th>Price</th>\n",
       "      <th>Return/Exchange</th>\n",
       "      <th>Availaibilty</th>\n",
       "      <th>Expected Delivery</th>\n",
       "      <th>page Url</th>\n",
       "    </tr>\n",
       "  </thead>\n",
       "  <tbody>\n",
       "    <tr>\n",
       "      <th>0</th>\n",
       "      <td>LG</td>\n",
       "      <td>LG 1.5 Ton 5 Star AI DUAL Inverter Split AC (C...</td>\n",
       "      <td>45,490</td>\n",
       "      <td>10 days Replacement</td>\n",
       "      <td>In stock</td>\n",
       "      <td>FREE scheduled delivery as soon as Saturday, 1...</td>\n",
       "      <td>https://www.amazon.in/sspa/click?ie=UTF8&amp;spc=M...</td>\n",
       "    </tr>\n",
       "    <tr>\n",
       "      <th>1</th>\n",
       "      <td>LG</td>\n",
       "      <td>LG 1.5 Ton 2 Star DUAL Inverter Split AC (Copp...</td>\n",
       "      <td>33,490</td>\n",
       "      <td>10 days Replacement</td>\n",
       "      <td>-</td>\n",
       "      <td>FREE scheduled delivery as soon as Saturday, 1...</td>\n",
       "      <td>https://www.amazon.in/sspa/click?ie=UTF8&amp;spc=M...</td>\n",
       "    </tr>\n",
       "    <tr>\n",
       "      <th>2</th>\n",
       "      <td>Voltas</td>\n",
       "      <td>-</td>\n",
       "      <td>30,990</td>\n",
       "      <td>-</td>\n",
       "      <td>In stock</td>\n",
       "      <td>-</td>\n",
       "      <td>https://www.amazon.in/Voltas-Adjustable-173V-V...</td>\n",
       "    </tr>\n",
       "    <tr>\n",
       "      <th>3</th>\n",
       "      <td>Lloyd</td>\n",
       "      <td>-</td>\n",
       "      <td>32,799</td>\n",
       "      <td>10 days Replacement</td>\n",
       "      <td>-</td>\n",
       "      <td>FREE scheduled delivery as soon as Saturday, 1...</td>\n",
       "      <td>https://www.amazon.in/Lloyd-Inverter-Convertib...</td>\n",
       "    </tr>\n",
       "    <tr>\n",
       "      <th>4</th>\n",
       "      <td>LG</td>\n",
       "      <td>-</td>\n",
       "      <td>45,490</td>\n",
       "      <td>-</td>\n",
       "      <td>-</td>\n",
       "      <td>FREE scheduled delivery as soon as Saturday, 1...</td>\n",
       "      <td>https://www.amazon.in/LG-Convertible-Anti-Viru...</td>\n",
       "    </tr>\n",
       "    <tr>\n",
       "      <th>...</th>\n",
       "      <td>...</td>\n",
       "      <td>...</td>\n",
       "      <td>...</td>\n",
       "      <td>...</td>\n",
       "      <td>...</td>\n",
       "      <td>...</td>\n",
       "      <td>...</td>\n",
       "    </tr>\n",
       "    <tr>\n",
       "      <th>79</th>\n",
       "      <td>Voltas</td>\n",
       "      <td>Voltas 1.5 Ton, 5 Star, Inverter Split AC(Copp...</td>\n",
       "      <td>37,499</td>\n",
       "      <td>10 days Replacement</td>\n",
       "      <td>In stock</td>\n",
       "      <td>-</td>\n",
       "      <td>https://www.amazon.in/Voltas-Inverter-Split-Co...</td>\n",
       "    </tr>\n",
       "    <tr>\n",
       "      <th>80</th>\n",
       "      <td>Godrej</td>\n",
       "      <td>-</td>\n",
       "      <td>29,490</td>\n",
       "      <td>10 days Replacement</td>\n",
       "      <td>In stock</td>\n",
       "      <td>FREE scheduled delivery as soon as Saturday, 1...</td>\n",
       "      <td>https://www.amazon.in/Godrej-Convertible-Split...</td>\n",
       "    </tr>\n",
       "    <tr>\n",
       "      <th>81</th>\n",
       "      <td>-</td>\n",
       "      <td>Voltas 1 Ton 3 Star, Inverter Split AC(Copper,...</td>\n",
       "      <td>30,530</td>\n",
       "      <td>10 days Replacement</td>\n",
       "      <td>In stock</td>\n",
       "      <td>FREE scheduled delivery as soon as Saturday, 1...</td>\n",
       "      <td>https://www.amazon.in/Voltas-Adjustable-123V-V...</td>\n",
       "    </tr>\n",
       "    <tr>\n",
       "      <th>82</th>\n",
       "      <td>-</td>\n",
       "      <td>Godrej 1.5 Ton 3 Star, 5-In-1 Convertible, Inv...</td>\n",
       "      <td>-</td>\n",
       "      <td>10 days Replacement</td>\n",
       "      <td>In stock</td>\n",
       "      <td>FREE scheduled delivery as soon as Saturday, 1...</td>\n",
       "      <td>https://www.amazon.in/sspa/click?ie=UTF8&amp;spc=M...</td>\n",
       "    </tr>\n",
       "    <tr>\n",
       "      <th>83</th>\n",
       "      <td>Godrej</td>\n",
       "      <td>-</td>\n",
       "      <td>37,490</td>\n",
       "      <td>10 days Replacement</td>\n",
       "      <td>In stock</td>\n",
       "      <td>FREE scheduled delivery as soon as Saturday, 1...</td>\n",
       "      <td>https://www.amazon.in/sspa/click?ie=UTF8&amp;spc=M...</td>\n",
       "    </tr>\n",
       "  </tbody>\n",
       "</table>\n",
       "<p>84 rows × 7 columns</p>\n",
       "</div>"
      ],
      "text/plain": [
       "   Brand Name                                               Name   Price  \\\n",
       "0          LG  LG 1.5 Ton 5 Star AI DUAL Inverter Split AC (C...  45,490   \n",
       "1          LG  LG 1.5 Ton 2 Star DUAL Inverter Split AC (Copp...  33,490   \n",
       "2      Voltas                                                  -  30,990   \n",
       "3       Lloyd                                                  -  32,799   \n",
       "4          LG                                                  -  45,490   \n",
       "..        ...                                                ...     ...   \n",
       "79     Voltas  Voltas 1.5 Ton, 5 Star, Inverter Split AC(Copp...  37,499   \n",
       "80     Godrej                                                  -  29,490   \n",
       "81          -  Voltas 1 Ton 3 Star, Inverter Split AC(Copper,...  30,530   \n",
       "82          -  Godrej 1.5 Ton 3 Star, 5-In-1 Convertible, Inv...       -   \n",
       "83     Godrej                                                  -  37,490   \n",
       "\n",
       "        Return/Exchange Availaibilty  \\\n",
       "0   10 days Replacement     In stock   \n",
       "1   10 days Replacement            -   \n",
       "2                     -     In stock   \n",
       "3   10 days Replacement            -   \n",
       "4                     -            -   \n",
       "..                  ...          ...   \n",
       "79  10 days Replacement     In stock   \n",
       "80  10 days Replacement     In stock   \n",
       "81  10 days Replacement     In stock   \n",
       "82  10 days Replacement     In stock   \n",
       "83  10 days Replacement     In stock   \n",
       "\n",
       "                                    Expected Delivery  \\\n",
       "0   FREE scheduled delivery as soon as Saturday, 1...   \n",
       "1   FREE scheduled delivery as soon as Saturday, 1...   \n",
       "2                                                   -   \n",
       "3   FREE scheduled delivery as soon as Saturday, 1...   \n",
       "4   FREE scheduled delivery as soon as Saturday, 1...   \n",
       "..                                                ...   \n",
       "79                                                  -   \n",
       "80  FREE scheduled delivery as soon as Saturday, 1...   \n",
       "81  FREE scheduled delivery as soon as Saturday, 1...   \n",
       "82  FREE scheduled delivery as soon as Saturday, 1...   \n",
       "83  FREE scheduled delivery as soon as Saturday, 1...   \n",
       "\n",
       "                                             page Url  \n",
       "0   https://www.amazon.in/sspa/click?ie=UTF8&spc=M...  \n",
       "1   https://www.amazon.in/sspa/click?ie=UTF8&spc=M...  \n",
       "2   https://www.amazon.in/Voltas-Adjustable-173V-V...  \n",
       "3   https://www.amazon.in/Lloyd-Inverter-Convertib...  \n",
       "4   https://www.amazon.in/LG-Convertible-Anti-Viru...  \n",
       "..                                                ...  \n",
       "79  https://www.amazon.in/Voltas-Inverter-Split-Co...  \n",
       "80  https://www.amazon.in/Godrej-Convertible-Split...  \n",
       "81  https://www.amazon.in/Voltas-Adjustable-123V-V...  \n",
       "82  https://www.amazon.in/sspa/click?ie=UTF8&spc=M...  \n",
       "83  https://www.amazon.in/sspa/click?ie=UTF8&spc=M...  \n",
       "\n",
       "[84 rows x 7 columns]"
      ]
     },
     "execution_count": 29,
     "metadata": {},
     "output_type": "execute_result"
    }
   ],
   "source": [
    "df=pd.DataFrame({'Brand Name':brand_name,'Name':name,'Price':price,'Return/Exchange':exchange,'Availaibilty':availability,'Expected Delivery':expected_delivery,'page Url':product_url})\n",
    "df"
   ]
  },
  {
   "cell_type": "code",
   "execution_count": 58,
   "id": "16d286a1",
   "metadata": {},
   "outputs": [],
   "source": [
    "import selenium\n",
    "from selenium import webdriver\n",
    "import warnings\n",
    "warnings.filterwarnings('ignore')\n",
    "from selenium.webdriver.common.by import By\n",
    "from selenium.common.exceptions import NoSuchElementException,StaleElementReferenceException\n",
    "import numpy as np\n",
    "import pandas as pd\n",
    "from bs4 import BeautifulSoup\n",
    "import requests\n",
    "import time"
   ]
  },
  {
   "cell_type": "code",
   "execution_count": 59,
   "id": "ad307075",
   "metadata": {},
   "outputs": [],
   "source": [
    "driver=webdriver.Chrome(r\"chromedriver.exe\")"
   ]
  },
  {
   "cell_type": "code",
   "execution_count": 60,
   "id": "37217dae",
   "metadata": {},
   "outputs": [],
   "source": [
    "driver.get('https://images.google.com/')"
   ]
  },
  {
   "cell_type": "code",
   "execution_count": 61,
   "id": "2ab60095",
   "metadata": {},
   "outputs": [
    {
     "ename": "NoSuchElementException",
     "evalue": "Message: no such element: Unable to locate element: {\"method\":\"xpath\",\"selector\":\"/html/body/div/c-wiz/div/div/c-wiz/div/div/div/div[2]/div[2]/button\"}\n  (Session info: chrome=111.0.5563.149)\nStacktrace:\nBacktrace:\n\t(No symbol) [0x00B3DCE3]\n\t(No symbol) [0x00AD39D1]\n\t(No symbol) [0x009E4DA8]\n\t(No symbol) [0x00A1019F]\n\t(No symbol) [0x00A103AB]\n\t(No symbol) [0x00A3EE62]\n\t(No symbol) [0x00A2AF14]\n\t(No symbol) [0x00A3D57C]\n\t(No symbol) [0x00A2ACC6]\n\t(No symbol) [0x00A06F68]\n\t(No symbol) [0x00A080CD]\n\tGetHandleVerifier [0x00DB3832+2506274]\n\tGetHandleVerifier [0x00DE9794+2727300]\n\tGetHandleVerifier [0x00DEE36C+2746716]\n\tGetHandleVerifier [0x00BE6690+617600]\n\t(No symbol) [0x00ADC712]\n\t(No symbol) [0x00AE1FF8]\n\t(No symbol) [0x00AE20DB]\n\t(No symbol) [0x00AEC63B]\n\tBaseThreadInitThunk [0x77290099+25]\n\tRtlGetAppContainerNamedObjectPath [0x776E7B6E+286]\n\tRtlGetAppContainerNamedObjectPath [0x776E7B3E+238]\n",
     "output_type": "error",
     "traceback": [
      "\u001b[1;31m---------------------------------------------------------------------------\u001b[0m",
      "\u001b[1;31mNoSuchElementException\u001b[0m                    Traceback (most recent call last)",
      "\u001b[1;32m~\\AppData\\Local\\Temp\\ipykernel_10500\\2774001982.py\u001b[0m in \u001b[0;36m<module>\u001b[1;34m\u001b[0m\n\u001b[1;32m----> 1\u001b[1;33m \u001b[0mbut\u001b[0m\u001b[1;33m=\u001b[0m\u001b[0mdriver\u001b[0m\u001b[1;33m.\u001b[0m\u001b[0mfind_element\u001b[0m\u001b[1;33m(\u001b[0m\u001b[0mBy\u001b[0m\u001b[1;33m.\u001b[0m\u001b[0mXPATH\u001b[0m\u001b[1;33m,\u001b[0m\u001b[1;34m'/html/body/div/c-wiz/div/div/c-wiz/div/div/div/div[2]/div[2]/button'\u001b[0m\u001b[1;33m)\u001b[0m\u001b[1;33m\u001b[0m\u001b[1;33m\u001b[0m\u001b[0m\n\u001b[0m\u001b[0;32m      2\u001b[0m \u001b[0mbut\u001b[0m\u001b[1;33m.\u001b[0m\u001b[0mclick\u001b[0m\u001b[1;33m(\u001b[0m\u001b[1;33m)\u001b[0m\u001b[1;33m\u001b[0m\u001b[1;33m\u001b[0m\u001b[0m\n\u001b[0;32m      3\u001b[0m \u001b[1;33m\u001b[0m\u001b[0m\n",
      "\u001b[1;32mC:\\ana\\lib\\site-packages\\selenium\\webdriver\\remote\\webdriver.py\u001b[0m in \u001b[0;36mfind_element\u001b[1;34m(self, by, value)\u001b[0m\n\u001b[0;32m    829\u001b[0m             \u001b[0mvalue\u001b[0m \u001b[1;33m=\u001b[0m \u001b[1;34mf'[name=\"{value}\"]'\u001b[0m\u001b[1;33m\u001b[0m\u001b[1;33m\u001b[0m\u001b[0m\n\u001b[0;32m    830\u001b[0m \u001b[1;33m\u001b[0m\u001b[0m\n\u001b[1;32m--> 831\u001b[1;33m         \u001b[1;32mreturn\u001b[0m \u001b[0mself\u001b[0m\u001b[1;33m.\u001b[0m\u001b[0mexecute\u001b[0m\u001b[1;33m(\u001b[0m\u001b[0mCommand\u001b[0m\u001b[1;33m.\u001b[0m\u001b[0mFIND_ELEMENT\u001b[0m\u001b[1;33m,\u001b[0m \u001b[1;33m{\u001b[0m\u001b[1;34m\"using\"\u001b[0m\u001b[1;33m:\u001b[0m \u001b[0mby\u001b[0m\u001b[1;33m,\u001b[0m \u001b[1;34m\"value\"\u001b[0m\u001b[1;33m:\u001b[0m \u001b[0mvalue\u001b[0m\u001b[1;33m}\u001b[0m\u001b[1;33m)\u001b[0m\u001b[1;33m[\u001b[0m\u001b[1;34m\"value\"\u001b[0m\u001b[1;33m]\u001b[0m\u001b[1;33m\u001b[0m\u001b[1;33m\u001b[0m\u001b[0m\n\u001b[0m\u001b[0;32m    832\u001b[0m \u001b[1;33m\u001b[0m\u001b[0m\n\u001b[0;32m    833\u001b[0m     \u001b[1;32mdef\u001b[0m \u001b[0mfind_elements\u001b[0m\u001b[1;33m(\u001b[0m\u001b[0mself\u001b[0m\u001b[1;33m,\u001b[0m \u001b[0mby\u001b[0m\u001b[1;33m=\u001b[0m\u001b[0mBy\u001b[0m\u001b[1;33m.\u001b[0m\u001b[0mID\u001b[0m\u001b[1;33m,\u001b[0m \u001b[0mvalue\u001b[0m\u001b[1;33m:\u001b[0m \u001b[0mOptional\u001b[0m\u001b[1;33m[\u001b[0m\u001b[0mstr\u001b[0m\u001b[1;33m]\u001b[0m \u001b[1;33m=\u001b[0m \u001b[1;32mNone\u001b[0m\u001b[1;33m)\u001b[0m \u001b[1;33m->\u001b[0m \u001b[0mList\u001b[0m\u001b[1;33m[\u001b[0m\u001b[0mWebElement\u001b[0m\u001b[1;33m]\u001b[0m\u001b[1;33m:\u001b[0m\u001b[1;33m\u001b[0m\u001b[1;33m\u001b[0m\u001b[0m\n",
      "\u001b[1;32mC:\\ana\\lib\\site-packages\\selenium\\webdriver\\remote\\webdriver.py\u001b[0m in \u001b[0;36mexecute\u001b[1;34m(self, driver_command, params)\u001b[0m\n\u001b[0;32m    438\u001b[0m         \u001b[0mresponse\u001b[0m \u001b[1;33m=\u001b[0m \u001b[0mself\u001b[0m\u001b[1;33m.\u001b[0m\u001b[0mcommand_executor\u001b[0m\u001b[1;33m.\u001b[0m\u001b[0mexecute\u001b[0m\u001b[1;33m(\u001b[0m\u001b[0mdriver_command\u001b[0m\u001b[1;33m,\u001b[0m \u001b[0mparams\u001b[0m\u001b[1;33m)\u001b[0m\u001b[1;33m\u001b[0m\u001b[1;33m\u001b[0m\u001b[0m\n\u001b[0;32m    439\u001b[0m         \u001b[1;32mif\u001b[0m \u001b[0mresponse\u001b[0m\u001b[1;33m:\u001b[0m\u001b[1;33m\u001b[0m\u001b[1;33m\u001b[0m\u001b[0m\n\u001b[1;32m--> 440\u001b[1;33m             \u001b[0mself\u001b[0m\u001b[1;33m.\u001b[0m\u001b[0merror_handler\u001b[0m\u001b[1;33m.\u001b[0m\u001b[0mcheck_response\u001b[0m\u001b[1;33m(\u001b[0m\u001b[0mresponse\u001b[0m\u001b[1;33m)\u001b[0m\u001b[1;33m\u001b[0m\u001b[1;33m\u001b[0m\u001b[0m\n\u001b[0m\u001b[0;32m    441\u001b[0m             \u001b[0mresponse\u001b[0m\u001b[1;33m[\u001b[0m\u001b[1;34m\"value\"\u001b[0m\u001b[1;33m]\u001b[0m \u001b[1;33m=\u001b[0m \u001b[0mself\u001b[0m\u001b[1;33m.\u001b[0m\u001b[0m_unwrap_value\u001b[0m\u001b[1;33m(\u001b[0m\u001b[0mresponse\u001b[0m\u001b[1;33m.\u001b[0m\u001b[0mget\u001b[0m\u001b[1;33m(\u001b[0m\u001b[1;34m\"value\"\u001b[0m\u001b[1;33m,\u001b[0m \u001b[1;32mNone\u001b[0m\u001b[1;33m)\u001b[0m\u001b[1;33m)\u001b[0m\u001b[1;33m\u001b[0m\u001b[1;33m\u001b[0m\u001b[0m\n\u001b[0;32m    442\u001b[0m             \u001b[1;32mreturn\u001b[0m \u001b[0mresponse\u001b[0m\u001b[1;33m\u001b[0m\u001b[1;33m\u001b[0m\u001b[0m\n",
      "\u001b[1;32mC:\\ana\\lib\\site-packages\\selenium\\webdriver\\remote\\errorhandler.py\u001b[0m in \u001b[0;36mcheck_response\u001b[1;34m(self, response)\u001b[0m\n\u001b[0;32m    243\u001b[0m                 \u001b[0malert_text\u001b[0m \u001b[1;33m=\u001b[0m \u001b[0mvalue\u001b[0m\u001b[1;33m[\u001b[0m\u001b[1;34m\"alert\"\u001b[0m\u001b[1;33m]\u001b[0m\u001b[1;33m.\u001b[0m\u001b[0mget\u001b[0m\u001b[1;33m(\u001b[0m\u001b[1;34m\"text\"\u001b[0m\u001b[1;33m)\u001b[0m\u001b[1;33m\u001b[0m\u001b[1;33m\u001b[0m\u001b[0m\n\u001b[0;32m    244\u001b[0m             \u001b[1;32mraise\u001b[0m \u001b[0mexception_class\u001b[0m\u001b[1;33m(\u001b[0m\u001b[0mmessage\u001b[0m\u001b[1;33m,\u001b[0m \u001b[0mscreen\u001b[0m\u001b[1;33m,\u001b[0m \u001b[0mstacktrace\u001b[0m\u001b[1;33m,\u001b[0m \u001b[0malert_text\u001b[0m\u001b[1;33m)\u001b[0m  \u001b[1;31m# type: ignore[call-arg]  # mypy is not smart enough here\u001b[0m\u001b[1;33m\u001b[0m\u001b[1;33m\u001b[0m\u001b[0m\n\u001b[1;32m--> 245\u001b[1;33m         \u001b[1;32mraise\u001b[0m \u001b[0mexception_class\u001b[0m\u001b[1;33m(\u001b[0m\u001b[0mmessage\u001b[0m\u001b[1;33m,\u001b[0m \u001b[0mscreen\u001b[0m\u001b[1;33m,\u001b[0m \u001b[0mstacktrace\u001b[0m\u001b[1;33m)\u001b[0m\u001b[1;33m\u001b[0m\u001b[1;33m\u001b[0m\u001b[0m\n\u001b[0m",
      "\u001b[1;31mNoSuchElementException\u001b[0m: Message: no such element: Unable to locate element: {\"method\":\"xpath\",\"selector\":\"/html/body/div/c-wiz/div/div/c-wiz/div/div/div/div[2]/div[2]/button\"}\n  (Session info: chrome=111.0.5563.149)\nStacktrace:\nBacktrace:\n\t(No symbol) [0x00B3DCE3]\n\t(No symbol) [0x00AD39D1]\n\t(No symbol) [0x009E4DA8]\n\t(No symbol) [0x00A1019F]\n\t(No symbol) [0x00A103AB]\n\t(No symbol) [0x00A3EE62]\n\t(No symbol) [0x00A2AF14]\n\t(No symbol) [0x00A3D57C]\n\t(No symbol) [0x00A2ACC6]\n\t(No symbol) [0x00A06F68]\n\t(No symbol) [0x00A080CD]\n\tGetHandleVerifier [0x00DB3832+2506274]\n\tGetHandleVerifier [0x00DE9794+2727300]\n\tGetHandleVerifier [0x00DEE36C+2746716]\n\tGetHandleVerifier [0x00BE6690+617600]\n\t(No symbol) [0x00ADC712]\n\t(No symbol) [0x00AE1FF8]\n\t(No symbol) [0x00AE20DB]\n\t(No symbol) [0x00AEC63B]\n\tBaseThreadInitThunk [0x77290099+25]\n\tRtlGetAppContainerNamedObjectPath [0x776E7B6E+286]\n\tRtlGetAppContainerNamedObjectPath [0x776E7B3E+238]\n"
     ]
    }
   ],
   "source": [
    "but=driver.find_element(By.XPATH,'/html/body/div/c-wiz/div/div/c-wiz/div/div/div/div[2]/div[2]/button')\n",
    "but.click()\n",
    "                           "
   ]
  },
  {
   "cell_type": "code",
   "execution_count": 62,
   "id": "2bf09783",
   "metadata": {},
   "outputs": [],
   "source": [
    "search=driver.find_element(By.XPATH,'/html/body/div[1]/div[3]/form/div[1]/div[1]/div[1]/div/div[2]/textarea')\n",
    "search.send_keys('Fruits')"
   ]
  },
  {
   "cell_type": "code",
   "execution_count": 66,
   "id": "62aef9c4",
   "metadata": {},
   "outputs": [],
   "source": [
    "search_c=driver.find_element(By.XPATH,'/html/body/div[1]/div[3]/form/div[1]/div[1]/div[1]/button/div/span')\n",
    "search_c.click()"
   ]
  },
  {
   "cell_type": "code",
   "execution_count": 68,
   "id": "da630083",
   "metadata": {},
   "outputs": [],
   "source": [
    "import urllib"
   ]
  },
  {
   "cell_type": "code",
   "execution_count": 70,
   "id": "fff84b0b",
   "metadata": {},
   "outputs": [],
   "source": [
    "fruits=[]\n",
    "fruits_s=driver.find_elements(By.XPATH,'/html/body/div[2]/c-wiz/div[3]/div[1]/div/div/div/div/div[1]/div[1]/span/div[1]/div[1]/div[1]/a[1]/div[1]/img')\n",
    "for i in fruits_s[0:10]:\n",
    "    fruits.append(i.get_attribute('src'))"
   ]
  },
  {
   "cell_type": "code",
   "execution_count": 72,
   "id": "608688ec",
   "metadata": {},
   "outputs": [
    {
     "data": {
      "text/plain": [
       "1"
      ]
     },
     "execution_count": 72,
     "metadata": {},
     "output_type": "execute_result"
    }
   ],
   "source": [
    "len(fruits)"
   ]
  },
  {
   "cell_type": "code",
   "execution_count": 13,
   "id": "10af4b53",
   "metadata": {},
   "outputs": [],
   "source": [
    "driver=webdriver.Chrome(r\"chromedriver.exe\")"
   ]
  },
  {
   "cell_type": "code",
   "execution_count": 14,
   "id": "a9104f11",
   "metadata": {},
   "outputs": [],
   "source": [
    "driver.get('https://www.flipkart.com/')"
   ]
  },
  {
   "cell_type": "code",
   "execution_count": 15,
   "id": "34a22723",
   "metadata": {},
   "outputs": [],
   "source": [
    "button=driver.find_element(By.XPATH,'/html/body/div[2]/div/div/button')\n",
    "button.click()\n"
   ]
  },
  {
   "cell_type": "code",
   "execution_count": 16,
   "id": "eff4e0c0",
   "metadata": {},
   "outputs": [],
   "source": [
    "mobile=driver.find_element(By.XPATH,'/html/body/div[1]/div/div[1]/div[1]/div[2]/div[2]/form/div/div/input')\n",
    "mobile.send_keys('Oneplus Nord, pixel 4A')"
   ]
  },
  {
   "cell_type": "code",
   "execution_count": 17,
   "id": "9ef35083",
   "metadata": {},
   "outputs": [],
   "source": [
    "search=driver.find_element(By.XPATH,'/html/body/div[1]/div/div[1]/div[1]/div[2]/div[2]/form/div/button')\n",
    "search.click()"
   ]
  },
  {
   "cell_type": "code",
   "execution_count": 18,
   "id": "d2e5445a",
   "metadata": {},
   "outputs": [],
   "source": [
    "product_url=[]\n",
    "url=driver.find_elements(By.XPATH,'//a[@class=\"_1fQZEK\"]')\n",
    "for i in url:\n",
    "    product_url.append(i.get_attribute('href'))"
   ]
  },
  {
   "cell_type": "code",
   "execution_count": 19,
   "id": "1ae465b0",
   "metadata": {},
   "outputs": [
    {
     "data": {
      "text/plain": [
       "['https://www.flipkart.com/oneplus-nord-gray-onyx-256-gb/p/itm49f817b591982?pid=MOBFUE5GGWHFC37J&lid=LSTMOBFUE5GGWHFC37JNXZLYZ&marketplace=FLIPKART&q=Oneplus+Nord%2C+pixel+4A&store=tyy%2F4io&srno=s_1_1&otracker=search&otracker1=search&fm=organic&iid=ad5a3c8e-8e93-42fb-8497-f559b26207d5.MOBFUE5GGWHFC37J.SEARCH&ppt=hp&ppn=homepage&ssid=6vvuay1bio0000001681463195525&qH=51e22a8c2f127b5e',\n",
       " 'https://www.flipkart.com/oneplus-nord-blue-marble-256-gb/p/itm49f817b591982?pid=MOBFUE5HUU5ZYGRY&lid=LSTMOBFUE5HUU5ZYGRY4ZWZZN&marketplace=FLIPKART&q=Oneplus+Nord%2C+pixel+4A&store=tyy%2F4io&srno=s_1_2&otracker=search&otracker1=search&fm=organic&iid=ad5a3c8e-8e93-42fb-8497-f559b26207d5.MOBFUE5HUU5ZYGRY.SEARCH&ppt=hp&ppn=homepage&ssid=6vvuay1bio0000001681463195525&qH=51e22a8c2f127b5e',\n",
       " 'https://www.flipkart.com/oneplus-nord-blue-marble-128-gb/p/itm49f817b591982?pid=MOBFUE5JWYDZX6HX&lid=LSTMOBFUE5JWYDZX6HXJZSHIV&marketplace=FLIPKART&q=Oneplus+Nord%2C+pixel+4A&store=tyy%2F4io&srno=s_1_3&otracker=search&otracker1=search&fm=organic&iid=ad5a3c8e-8e93-42fb-8497-f559b26207d5.MOBFUE5JWYDZX6HX.SEARCH&ppt=hp&ppn=homepage&ssid=6vvuay1bio0000001681463195525&qH=51e22a8c2f127b5e',\n",
       " 'https://www.flipkart.com/oneplus-nord-gray-onyx-128-gb/p/itm49f817b591982?pid=MOBFUE5HW4XUUGBN&lid=LSTMOBFUE5HW4XUUGBNMZB8TR&marketplace=FLIPKART&q=Oneplus+Nord%2C+pixel+4A&store=tyy%2F4io&srno=s_1_4&otracker=search&otracker1=search&fm=organic&iid=ad5a3c8e-8e93-42fb-8497-f559b26207d5.MOBFUE5HW4XUUGBN.SEARCH&ppt=hp&ppn=homepage&ssid=6vvuay1bio0000001681463195525&qH=51e22a8c2f127b5e',\n",
       " 'https://www.flipkart.com/oneplus-nord-gray-onyx-64-gb/p/itm49f817b591982?pid=MOBFUE5H57THFNVJ&lid=LSTMOBFUE5H57THFNVJSYCAHJ&marketplace=FLIPKART&q=Oneplus+Nord%2C+pixel+4A&store=tyy%2F4io&srno=s_1_5&otracker=search&otracker1=search&fm=organic&iid=ad5a3c8e-8e93-42fb-8497-f559b26207d5.MOBFUE5H57THFNVJ.SEARCH&ppt=hp&ppn=homepage&ssid=6vvuay1bio0000001681463195525&qH=51e22a8c2f127b5e',\n",
       " 'https://www.flipkart.com/oneplus-nord-blue-marble-64-gb/p/itm49f817b591982?pid=MOBFUE5N7KAGZHHC&lid=LSTMOBFUE5N7KAGZHHC6NVUQL&marketplace=FLIPKART&q=Oneplus+Nord%2C+pixel+4A&store=tyy%2F4io&srno=s_1_6&otracker=search&otracker1=search&fm=organic&iid=ad5a3c8e-8e93-42fb-8497-f559b26207d5.MOBFUE5N7KAGZHHC.SEARCH&ppt=hp&ppn=homepage&ssid=6vvuay1bio0000001681463195525&qH=51e22a8c2f127b5e']"
      ]
     },
     "execution_count": 19,
     "metadata": {},
     "output_type": "execute_result"
    }
   ],
   "source": [
    "product_url"
   ]
  },
  {
   "cell_type": "code",
   "execution_count": 20,
   "id": "ff1f362c",
   "metadata": {},
   "outputs": [],
   "source": [
    "brand_name=[]\n",
    "name=[]\n",
    "colour=[]\n",
    "ram=[]\n",
    "rom=[]\n",
    "primary_camera=[]\n",
    "secondry_camera=[]\n",
    "display_size=[]\n",
    "battery_capacity=[]\n",
    "prize=[]\n"
   ]
  },
  {
   "cell_type": "code",
   "execution_count": 21,
   "id": "cab13c3b",
   "metadata": {},
   "outputs": [],
   "source": [
    "for i in product_url:\n",
    "    driver.get(i)\n",
    "    try:\n",
    "        b_name=driver.find_element(By.XPATH,'/html/body/div[1]/div/div[3]/div[1]/div[2]/div[1]/div[1]/div/div[4]')\n",
    "        brand_name.append(b_name.text)\n",
    "    except NoSuchElementException:\n",
    "        brand_name.append('-')\n",
    "for i in product_url:\n",
    "    driver.get(i)\n",
    "    try:\n",
    "        n_name=driver.find_element(By.XPATH,'/html/body/div[1]/div/div[3]/div[1]/div[2]/div[2]/div/div[1]/h1/span')\n",
    "        name.append(n_name.text)\n",
    "    except NoSuchElementException:\n",
    "        name.append('-')\n",
    "for i in product_url:\n",
    "    driver.get(i)\n",
    "    try:\n",
    "        c_colour=driver.find_element(By.XPATH,'/html/body/div[1]/div/div[3]/div[1]/div[2]/div[7]/div/div/div[4]/div/div[2]/div/div[1]/table/tbody/tr[4]/td[2]/ul/li')\n",
    "        colour.append(c_colour.text)\n",
    "    except NoSuchElementException:\n",
    "        colour.append('-')\n",
    "for i in product_url:\n",
    "    driver.get(i)\n",
    "    try:\n",
    "        r_ram=driver.find_element(By.XPATH,'/html/body/div[1]/div/div[3]/div[1]/div[2]/div[7]/div/div/div[4]/div/div[2]/div[1]/div[4]/table/tbody/tr[2]/td[2]/ul/li')\n",
    "        ram.append(r_ram.text)\n",
    "    except NoSuchElementException:\n",
    "        ram.append('-')\n",
    "for i in product_url:\n",
    "    driver.get(i)\n",
    "    try:\n",
    "        r_rom=driver.find_element(By.XPATH,'/html/body/div[1]/div/div[3]/div[1]/div[2]/div[7]/div/div/div[4]/div/div[2]/div[1]/div[4]/table/tbody/tr[1]/td[2]/ul')\n",
    "        rom.append(r_rom.text)\n",
    "    except NoSuchElementException:\n",
    "        rom.append('-')\n"
   ]
  },
  {
   "cell_type": "code",
   "execution_count": 25,
   "id": "d5004fd9",
   "metadata": {},
   "outputs": [
    {
     "data": {
      "text/plain": [
       "(['OnePlus Mobiles',\n",
       "  'OnePlus Mobiles',\n",
       "  'OnePlus Mobiles',\n",
       "  'OnePlus Mobiles',\n",
       "  'OnePlus Mobiles',\n",
       "  'OnePlus Mobiles'],\n",
       " ['OnePlus Nord (Gray Onyx, 256 GB)  (12 GB RAM)',\n",
       "  'OnePlus Nord (Blue Marble, 256 GB)  (12 GB RAM)',\n",
       "  'OnePlus Nord (Blue Marble, 128 GB)  (8 GB RAM)',\n",
       "  'OnePlus Nord (Gray Onyx, 128 GB)  (8 GB RAM)',\n",
       "  'OnePlus Nord (Gray Onyx, 64 GB)  (6 GB RAM)',\n",
       "  'OnePlus Nord (Blue Marble, 64 GB)  (6 GB RAM)'],\n",
       " ['Gray Onyx',\n",
       "  'Blue Marble',\n",
       "  'Blue Marble',\n",
       "  'Gray Onyx',\n",
       "  'Gray Onyx',\n",
       "  'Blue Marble'],\n",
       " ['', '', '', '', '', ''],\n",
       " ['', '', '', '', '', ''])"
      ]
     },
     "execution_count": 25,
     "metadata": {},
     "output_type": "execute_result"
    }
   ],
   "source": [
    "brand_name,name,colour,ram,rom"
   ]
  },
  {
   "cell_type": "code",
   "execution_count": null,
   "id": "d5a81dde",
   "metadata": {},
   "outputs": [],
   "source": [
    "for i in product_url:\n",
    "    driver.get(i)\n",
    "    try:\n",
    "        p_camera=driver.find_element(By.XPATH,'/html/body/div[1]/div/div[3]/div[1]/div[2]/div[2]/div/div[1]/h1/span')\n",
    "        primary_camera.append(p_camera.text)\n",
    "    except NoSuchElementException:\n",
    "        primary_camera.append('-')\n",
    "for i in product_url:\n",
    "    driver.get(i)\n",
    "    try:\n",
    "        s_camera=driver.find_element(By.XPATH,'/html/body/div[1]/div/div[3]/div[1]/div[2]/div[1]/div[1]/div/div[4]')\n",
    "        secondry_camera.append(s_camera.text)\n",
    "    except NoSuchElementException:\n",
    "        secondry_camera.append('-')\n",
    "for i in product_url:\n",
    "    driver.get(i)\n",
    "    try:\n",
    "        d_display=driver.find_element(By.XPATH,'/html/body/div[1]/div/div[3]/div[1]/div[2]/div[2]/div/div[1]/h1/span')\n",
    "        display_size.append(d_display.text)\n",
    "    except NoSuchElementException:\n",
    "        display_size.append('-')\n",
    "for i in product_url:\n",
    "    driver.get(i)\n",
    "    try:\n",
    "        b_battery=driver.find_element(By.XPATH,'/html/body/div[1]/div/div[3]/div[1]/div[2]/div[2]/div/div[1]/h1/span')\n",
    "        battery_capacity.append(b_battery.text)\n",
    "    except NoSuchElementException:\n",
    "        battery_capacity.append('-')\n",
    "for i in product_url:\n",
    "    driver.get(i)\n",
    "    try:\n",
    "        p_price=driver.find_element(By.XPATH,'/html/body/div[1]/div/div[3]/div[1]/div[2]/div[2]/div/div[1]/h1/span')\n",
    "        prize.append(p_price.text)\n",
    "    except NoSuchElementException:\n",
    "        prize.append('-')"
   ]
  }
 ],
 "metadata": {
  "kernelspec": {
   "display_name": "Python 3 (ipykernel)",
   "language": "python",
   "name": "python3"
  },
  "language_info": {
   "codemirror_mode": {
    "name": "ipython",
    "version": 3
   },
   "file_extension": ".py",
   "mimetype": "text/x-python",
   "name": "python",
   "nbconvert_exporter": "python",
   "pygments_lexer": "ipython3",
   "version": "3.9.13"
  }
 },
 "nbformat": 4,
 "nbformat_minor": 5
}
