{
 "cells": [
  {
   "cell_type": "code",
   "execution_count": 1,
   "id": "bb3ad82d",
   "metadata": {},
   "outputs": [
    {
     "name": "stdout",
     "output_type": "stream",
     "text": [
      "Requirement already satisfied: selenium in c:\\users\\nirik\\anaconda3\\lib\\site-packages (4.8.3)\n",
      "Requirement already satisfied: trio~=0.17 in c:\\users\\nirik\\anaconda3\\lib\\site-packages (from selenium) (0.22.0)\n",
      "Requirement already satisfied: certifi>=2021.10.8 in c:\\users\\nirik\\anaconda3\\lib\\site-packages (from selenium) (2022.9.14)\n",
      "Requirement already satisfied: trio-websocket~=0.9 in c:\\users\\nirik\\anaconda3\\lib\\site-packages (from selenium) (0.10.2)\n",
      "Requirement already satisfied: urllib3[socks]~=1.26 in c:\\users\\nirik\\anaconda3\\lib\\site-packages (from selenium) (1.26.11)\n",
      "Requirement already satisfied: sortedcontainers in c:\\users\\nirik\\anaconda3\\lib\\site-packages (from trio~=0.17->selenium) (2.4.0)\n",
      "Requirement already satisfied: idna in c:\\users\\nirik\\anaconda3\\lib\\site-packages (from trio~=0.17->selenium) (3.3)\n",
      "Requirement already satisfied: async-generator>=1.9 in c:\\users\\nirik\\anaconda3\\lib\\site-packages (from trio~=0.17->selenium) (1.10)\n",
      "Requirement already satisfied: exceptiongroup>=1.0.0rc9 in c:\\users\\nirik\\anaconda3\\lib\\site-packages (from trio~=0.17->selenium) (1.1.1)\n",
      "Requirement already satisfied: cffi>=1.14 in c:\\users\\nirik\\anaconda3\\lib\\site-packages (from trio~=0.17->selenium) (1.15.1)\n",
      "Requirement already satisfied: sniffio in c:\\users\\nirik\\anaconda3\\lib\\site-packages (from trio~=0.17->selenium) (1.2.0)\n",
      "Requirement already satisfied: outcome in c:\\users\\nirik\\anaconda3\\lib\\site-packages (from trio~=0.17->selenium) (1.2.0)\n",
      "Requirement already satisfied: attrs>=19.2.0 in c:\\users\\nirik\\anaconda3\\lib\\site-packages (from trio~=0.17->selenium) (21.4.0)\n",
      "Requirement already satisfied: wsproto>=0.14 in c:\\users\\nirik\\anaconda3\\lib\\site-packages (from trio-websocket~=0.9->selenium) (1.2.0)\n",
      "Requirement already satisfied: PySocks!=1.5.7,<2.0,>=1.5.6 in c:\\users\\nirik\\anaconda3\\lib\\site-packages (from urllib3[socks]~=1.26->selenium) (1.7.1)\n",
      "Requirement already satisfied: pycparser in c:\\users\\nirik\\anaconda3\\lib\\site-packages (from cffi>=1.14->trio~=0.17->selenium) (2.21)\n",
      "Requirement already satisfied: h11<1,>=0.9.0 in c:\\users\\nirik\\anaconda3\\lib\\site-packages (from wsproto>=0.14->trio-websocket~=0.9->selenium) (0.14.0)\n"
     ]
    }
   ],
   "source": [
    "!pip install selenium"
   ]
  },
  {
   "cell_type": "code",
   "execution_count": 96,
   "id": "00d1aafe",
   "metadata": {},
   "outputs": [],
   "source": [
    "import selenium\n",
    "from selenium import webdriver\n",
    "import warnings\n",
    "warnings.filterwarnings('ignore')\n",
    "from selenium.webdriver.common.by import By\n",
    "from selenium.common.exceptions import NoSuchElementException,StaleElementReferenceException\n",
    "import numpy as np\n",
    "import pandas as pd\n",
    "from bs4 import BeautifulSoup\n",
    "import requests\n",
    "import time"
   ]
  },
  {
   "cell_type": "code",
   "execution_count": 16,
   "id": "39bbbd12",
   "metadata": {},
   "outputs": [],
   "source": [
    "driver= webdriver.Chrome(r\"chromedriver.exe\")"
   ]
  },
  {
   "cell_type": "code",
   "execution_count": 17,
   "id": "2682a1c3",
   "metadata": {},
   "outputs": [],
   "source": [
    "driver.get('https://www.amazon.in/')"
   ]
  },
  {
   "cell_type": "code",
   "execution_count": 18,
   "id": "d73f57dc",
   "metadata": {},
   "outputs": [],
   "source": [
    "search=driver.find_element(By.XPATH,'/html/body/div[1]/header/div/div[1]/div[2]/div/form/div[2]/div[1]/input')\n",
    "search.send_keys('ac')"
   ]
  },
  {
   "cell_type": "code",
   "execution_count": 19,
   "id": "87d7c405",
   "metadata": {},
   "outputs": [],
   "source": [
    "button=driver.find_element(By.XPATH,'/html/body/div[1]/header/div/div[1]/div[2]/div/form/div[3]/div/span/input')\n",
    "button.click()"
   ]
  },
  {
   "cell_type": "code",
   "execution_count": 20,
   "id": "01aa0341",
   "metadata": {},
   "outputs": [],
   "source": [
    "product_url=[]\n",
    "start=0\n",
    "end=3\n",
    "for page in range(start,end):\n",
    "    \n",
    "    url=driver.find_elements(By.XPATH,'//a[@class=\"a-link-normal s-underline-text s-underline-link-text s-link-style a-text-normal\"]')\n",
    "    for i in url:\n",
    "        product_url.append(i.get_attribute('href'))\n",
    "        next_button=driver.find_elements(By.XPATH,'/html/body/div[1]/div[2]/div[1]/div[1]/div/span[1]/div[1]/div[31]/div/div/span/a[3]')"
   ]
  },
  {
   "cell_type": "code",
   "execution_count": 22,
   "id": "ea555e8a",
   "metadata": {},
   "outputs": [
    {
     "data": {
      "text/plain": [
       "66"
      ]
     },
     "execution_count": 22,
     "metadata": {},
     "output_type": "execute_result"
    }
   ],
   "source": [
    "len(product_url)"
   ]
  },
  {
   "cell_type": "code",
   "execution_count": 23,
   "id": "34d08bbd",
   "metadata": {},
   "outputs": [
    {
     "data": {
      "text/plain": [
       "['https://www.amazon.in/sspa/click?ie=UTF8&spc=MTo2NDA1NzY4ODQ0MTIzMjkxOjE2ODE0MDA1NTA6c3BfYXRmOjIwMDk5NDI1NzM5Njk4OjowOjo&url=%2FAmazon-Basics-Inverter-Bacterial-Copper%2Fdp%2FB0BCGHRM5F%2Fref%3Dsr_1_1_sspa%3Fcrid%3D1Y458EPT8NBJV%26keywords%3Dac%26qid%3D1681400550%26sprefix%3D%252Caps%252C285%26sr%3D8-1-spons%26sp_csd%3Dd2lkZ2V0TmFtZT1zcF9hdGY%26psc%3D1',\n",
       " 'https://www.amazon.in/sspa/click?ie=UTF8&spc=MTo2NDA1NzY4ODQ0MTIzMjkxOjE2ODE0MDA1NTA6c3BfYXRmOjIwMTEyMTg0OTY0ODk4OjowOjo&url=%2FBlue-Star-Convertible-Stabalizer-IA315YNU%2Fdp%2FB0BN6WFT1K%2Fref%3Dsr_1_2_sspa%3Fcrid%3D1Y458EPT8NBJV%26keywords%3Dac%26qid%3D1681400550%26sprefix%3D%252Caps%252C285%26sr%3D8-2-spons%26sp_csd%3Dd2lkZ2V0TmFtZT1zcF9hdGY%26psc%3D1',\n",
       " 'https://www.amazon.in/Voltas-Adjustable-173V-Vectra-Platina/dp/B0BRJ7N92P/ref=sr_1_3?crid=1Y458EPT8NBJV&keywords=ac&qid=1681400550&sprefix=%2Caps%2C285&sr=8-3',\n",
       " 'https://www.amazon.in/Lloyd-Inverter-Convertible-Anti-Viral-GLS18I3FWAMC/dp/B0BRKXTSBT/ref=sr_1_4?crid=1Y458EPT8NBJV&keywords=ac&qid=1681400550&sprefix=%2Caps%2C285&sr=8-4',\n",
       " 'https://www.amazon.in/LG-Convertible-Anti-Virus-Protection-RS-Q19YNZE/dp/B0BQ3MXML8/ref=sr_1_5?crid=1Y458EPT8NBJV&keywords=ac&qid=1681400550&sprefix=%2Caps%2C285&sr=8-5',\n",
       " 'https://www.amazon.in/Lloyd-Inverter-Convertible-Anti-Viral-GLS12I3FWAEV/dp/B0BRKX6FD5/ref=sr_1_6?crid=1Y458EPT8NBJV&keywords=ac&qid=1681400550&sprefix=%2Caps%2C285&sr=8-6',\n",
       " 'https://www.amazon.in/LG-Inverter-Convertible-Protection-Rs-Q13Jnye/dp/B0BPYN9JGF/ref=sr_1_7?crid=1Y458EPT8NBJV&keywords=ac&qid=1681400550&sprefix=%2Caps%2C285&sr=8-7',\n",
       " 'https://www.amazon.in/Panasonic-Convertible-additional-Purification-CU-NU18YKY5W/dp/B0BRJ1973T/ref=sr_1_8?crid=1Y458EPT8NBJV&keywords=ac&qid=1681400550&sprefix=%2Caps%2C285&sr=8-8',\n",
       " 'https://www.amazon.in/LG-Convertible-Anti-Virus-Protection-RS-Q19JNXE/dp/B0BQ3MJ1TG/ref=sr_1_9?crid=1Y458EPT8NBJV&keywords=ac&qid=1681400550&sprefix=%2Caps%2C285&sr=8-9',\n",
       " 'https://www.amazon.in/Lloyd-Inverter-Convertible-Anti-Viral-GLS18I5FWBEV/dp/B0BRKXBRMF/ref=sr_1_10?crid=1Y458EPT8NBJV&keywords=ac&qid=1681400550&sprefix=%2Caps%2C285&sr=8-10',\n",
       " 'https://www.amazon.in/sspa/click?ie=UTF8&spc=MTo2NDA1NzY4ODQ0MTIzMjkxOjE2ODE0MDA1NTA6c3BfbXRmOjIwMTE3ODkwODUxMDk4OjowOjo&url=%2FPanasonic-Convertible-additional-Purification-CU-NU18YKY5W%2Fdp%2FB0BRJ1973T%2Fref%3Dsr_1_11_sspa%3Fcrid%3D1Y458EPT8NBJV%26keywords%3Dac%26qid%3D1681400550%26sprefix%3D%252Caps%252C285%26sr%3D8-11-spons%26sp_csd%3Dd2lkZ2V0TmFtZT1zcF9tdGY%26psc%3D1',\n",
       " 'https://www.amazon.in/sspa/click?ie=UTF8&spc=MTo2NDA1NzY4ODQ0MTIzMjkxOjE2ODE0MDA1NTA6c3BfbXRmOjIwMTE3ODYyOTIxNDk4OjowOjo&url=%2FPanasonic-Convertible-additional-Purification-CU-SU18YKYWT%2Fdp%2FB0BRJ5QH8G%2Fref%3Dsr_1_12_sspa%3Fcrid%3D1Y458EPT8NBJV%26keywords%3Dac%26qid%3D1681400550%26sprefix%3D%252Caps%252C285%26sr%3D8-12-spons%26sp_csd%3Dd2lkZ2V0TmFtZT1zcF9tdGY%26psc%3D1',\n",
       " 'https://www.amazon.in/Panasonic-Convertible-additional-Purification-CU-NU12YKY5W/dp/B0BRHYBC3D/ref=sr_1_13?crid=1Y458EPT8NBJV&keywords=ac&qid=1681400550&sprefix=%2Caps%2C285&sr=8-13',\n",
       " 'https://www.amazon.in/LG-Convertible-Anti-Virus-Protection-Rs-Q14Ynze/dp/B0BPYL1R9N/ref=sr_1_14?crid=1Y458EPT8NBJV&keywords=ac&qid=1681400550&sprefix=%2Caps%2C285&sr=8-14',\n",
       " 'https://www.amazon.in/Whirlpool-Flexicool-Inverter-Convertible-Cooling/dp/B0BR5RF5KT/ref=sr_1_15?crid=1Y458EPT8NBJV&keywords=ac&qid=1681400550&sprefix=%2Caps%2C285&sr=8-15',\n",
       " 'https://www.amazon.in/Cruise-Inverter-Filtration-CWCVBG-VQ1W123-Dehumidifier/dp/B09474HJF5/ref=sr_1_16?crid=1Y458EPT8NBJV&keywords=ac&qid=1681400550&sprefix=%2Caps%2C285&sr=8-16',\n",
       " 'https://www.amazon.in/Samsung-Inverter-Convertible-Anti-Bacteria-AR18CYNZABE/dp/B0BRQD9Y92/ref=sr_1_17?crid=1Y458EPT8NBJV&keywords=ac&qid=1681400550&sprefix=%2Caps%2C285&sr=8-17',\n",
       " 'https://www.amazon.in/Godrej-Convertible-Split-AC-12TINV3R32-GWA/dp/B0BN37ZCF7/ref=sr_1_18?crid=1Y458EPT8NBJV&keywords=ac&qid=1681400550&sprefix=%2Caps%2C285&sr=8-18',\n",
       " 'https://www.amazon.in/Lloyd-Copper-Anti-Viral-Filter-GLS12C2XWASD/dp/B0BRKY7H99/ref=sr_1_19?crid=1Y458EPT8NBJV&keywords=ac&qid=1681400550&sprefix=%2Caps%2C285&sr=8-19',\n",
       " 'https://www.amazon.in/Blue-Star-Convertible-Stabalizer-IC512YNU/dp/B0BW9LFNRM/ref=sr_1_20?crid=1Y458EPT8NBJV&keywords=ac&qid=1681400550&sprefix=%2Caps%2C285&sr=8-20',\n",
       " 'https://www.amazon.in/sspa/click?ie=UTF8&spc=MTo2NDA1NzY4ODQ0MTIzMjkxOjE2ODE0MDA1NTA6c3BfYnRmOjIwMTE3ODg3ODE1Njk4OjowOjo&url=%2FPanasonic-Convertible-additional-Purification-CU-SU24YKYWA%2Fdp%2FB0BRJ6KMGS%2Fref%3Dsr_1_21_sspa%3Fcrid%3D1Y458EPT8NBJV%26keywords%3Dac%26qid%3D1681400550%26sprefix%3D%252Caps%252C285%26sr%3D8-21-spons%26sp_csd%3Dd2lkZ2V0TmFtZT1zcF9idGY%26psc%3D1',\n",
       " 'https://www.amazon.in/sspa/click?ie=UTF8&spc=MTo2NDA1NzY4ODQ0MTIzMjkxOjE2ODE0MDA1NTA6c3BfYnRmOjIwMTE3OTE1MjcyOTk4OjowOjo&url=%2FPanasonic-Convertible-additional-Purification-CU-NU18YKY4W%2Fdp%2FB0BRHZVBN1%2Fref%3Dsr_1_22_sspa%3Fcrid%3D1Y458EPT8NBJV%26keywords%3Dac%26qid%3D1681400550%26sprefix%3D%252Caps%252C285%26sr%3D8-22-spons%26sp_csd%3Dd2lkZ2V0TmFtZT1zcF9idGY%26psc%3D1',\n",
       " 'https://www.amazon.in/sspa/click?ie=UTF8&spc=MTo2NDA1NzY4ODQ0MTIzMjkxOjE2ODE0MDA1NTA6c3BfYXRmOjIwMDk5NDI1NzM5Njk4OjowOjo&url=%2FAmazon-Basics-Inverter-Bacterial-Copper%2Fdp%2FB0BCGHRM5F%2Fref%3Dsr_1_1_sspa%3Fcrid%3D1Y458EPT8NBJV%26keywords%3Dac%26qid%3D1681400550%26sprefix%3D%252Caps%252C285%26sr%3D8-1-spons%26sp_csd%3Dd2lkZ2V0TmFtZT1zcF9hdGY%26psc%3D1',\n",
       " 'https://www.amazon.in/sspa/click?ie=UTF8&spc=MTo2NDA1NzY4ODQ0MTIzMjkxOjE2ODE0MDA1NTA6c3BfYXRmOjIwMTEyMTg0OTY0ODk4OjowOjo&url=%2FBlue-Star-Convertible-Stabalizer-IA315YNU%2Fdp%2FB0BN6WFT1K%2Fref%3Dsr_1_2_sspa%3Fcrid%3D1Y458EPT8NBJV%26keywords%3Dac%26qid%3D1681400550%26sprefix%3D%252Caps%252C285%26sr%3D8-2-spons%26sp_csd%3Dd2lkZ2V0TmFtZT1zcF9hdGY%26psc%3D1',\n",
       " 'https://www.amazon.in/Voltas-Adjustable-173V-Vectra-Platina/dp/B0BRJ7N92P/ref=sr_1_3?crid=1Y458EPT8NBJV&keywords=ac&qid=1681400550&sprefix=%2Caps%2C285&sr=8-3',\n",
       " 'https://www.amazon.in/Lloyd-Inverter-Convertible-Anti-Viral-GLS18I3FWAMC/dp/B0BRKXTSBT/ref=sr_1_4?crid=1Y458EPT8NBJV&keywords=ac&qid=1681400550&sprefix=%2Caps%2C285&sr=8-4',\n",
       " 'https://www.amazon.in/LG-Convertible-Anti-Virus-Protection-RS-Q19YNZE/dp/B0BQ3MXML8/ref=sr_1_5?crid=1Y458EPT8NBJV&keywords=ac&qid=1681400550&sprefix=%2Caps%2C285&sr=8-5',\n",
       " 'https://www.amazon.in/Lloyd-Inverter-Convertible-Anti-Viral-GLS12I3FWAEV/dp/B0BRKX6FD5/ref=sr_1_6?crid=1Y458EPT8NBJV&keywords=ac&qid=1681400550&sprefix=%2Caps%2C285&sr=8-6',\n",
       " 'https://www.amazon.in/LG-Inverter-Convertible-Protection-Rs-Q13Jnye/dp/B0BPYN9JGF/ref=sr_1_7?crid=1Y458EPT8NBJV&keywords=ac&qid=1681400550&sprefix=%2Caps%2C285&sr=8-7',\n",
       " 'https://www.amazon.in/Panasonic-Convertible-additional-Purification-CU-NU18YKY5W/dp/B0BRJ1973T/ref=sr_1_8?crid=1Y458EPT8NBJV&keywords=ac&qid=1681400550&sprefix=%2Caps%2C285&sr=8-8',\n",
       " 'https://www.amazon.in/LG-Convertible-Anti-Virus-Protection-RS-Q19JNXE/dp/B0BQ3MJ1TG/ref=sr_1_9?crid=1Y458EPT8NBJV&keywords=ac&qid=1681400550&sprefix=%2Caps%2C285&sr=8-9',\n",
       " 'https://www.amazon.in/Lloyd-Inverter-Convertible-Anti-Viral-GLS18I5FWBEV/dp/B0BRKXBRMF/ref=sr_1_10?crid=1Y458EPT8NBJV&keywords=ac&qid=1681400550&sprefix=%2Caps%2C285&sr=8-10',\n",
       " 'https://www.amazon.in/sspa/click?ie=UTF8&spc=MTo2NDA1NzY4ODQ0MTIzMjkxOjE2ODE0MDA1NTA6c3BfbXRmOjIwMTE3ODkwODUxMDk4OjowOjo&url=%2FPanasonic-Convertible-additional-Purification-CU-NU18YKY5W%2Fdp%2FB0BRJ1973T%2Fref%3Dsr_1_11_sspa%3Fcrid%3D1Y458EPT8NBJV%26keywords%3Dac%26qid%3D1681400550%26sprefix%3D%252Caps%252C285%26sr%3D8-11-spons%26sp_csd%3Dd2lkZ2V0TmFtZT1zcF9tdGY%26psc%3D1',\n",
       " 'https://www.amazon.in/sspa/click?ie=UTF8&spc=MTo2NDA1NzY4ODQ0MTIzMjkxOjE2ODE0MDA1NTA6c3BfbXRmOjIwMTE3ODYyOTIxNDk4OjowOjo&url=%2FPanasonic-Convertible-additional-Purification-CU-SU18YKYWT%2Fdp%2FB0BRJ5QH8G%2Fref%3Dsr_1_12_sspa%3Fcrid%3D1Y458EPT8NBJV%26keywords%3Dac%26qid%3D1681400550%26sprefix%3D%252Caps%252C285%26sr%3D8-12-spons%26sp_csd%3Dd2lkZ2V0TmFtZT1zcF9tdGY%26psc%3D1',\n",
       " 'https://www.amazon.in/Panasonic-Convertible-additional-Purification-CU-NU12YKY5W/dp/B0BRHYBC3D/ref=sr_1_13?crid=1Y458EPT8NBJV&keywords=ac&qid=1681400550&sprefix=%2Caps%2C285&sr=8-13',\n",
       " 'https://www.amazon.in/LG-Convertible-Anti-Virus-Protection-Rs-Q14Ynze/dp/B0BPYL1R9N/ref=sr_1_14?crid=1Y458EPT8NBJV&keywords=ac&qid=1681400550&sprefix=%2Caps%2C285&sr=8-14',\n",
       " 'https://www.amazon.in/Whirlpool-Flexicool-Inverter-Convertible-Cooling/dp/B0BR5RF5KT/ref=sr_1_15?crid=1Y458EPT8NBJV&keywords=ac&qid=1681400550&sprefix=%2Caps%2C285&sr=8-15',\n",
       " 'https://www.amazon.in/Cruise-Inverter-Filtration-CWCVBG-VQ1W123-Dehumidifier/dp/B09474HJF5/ref=sr_1_16?crid=1Y458EPT8NBJV&keywords=ac&qid=1681400550&sprefix=%2Caps%2C285&sr=8-16',\n",
       " 'https://www.amazon.in/Samsung-Inverter-Convertible-Anti-Bacteria-AR18CYNZABE/dp/B0BRQD9Y92/ref=sr_1_17?crid=1Y458EPT8NBJV&keywords=ac&qid=1681400550&sprefix=%2Caps%2C285&sr=8-17',\n",
       " 'https://www.amazon.in/Godrej-Convertible-Split-AC-12TINV3R32-GWA/dp/B0BN37ZCF7/ref=sr_1_18?crid=1Y458EPT8NBJV&keywords=ac&qid=1681400550&sprefix=%2Caps%2C285&sr=8-18',\n",
       " 'https://www.amazon.in/Lloyd-Copper-Anti-Viral-Filter-GLS12C2XWASD/dp/B0BRKY7H99/ref=sr_1_19?crid=1Y458EPT8NBJV&keywords=ac&qid=1681400550&sprefix=%2Caps%2C285&sr=8-19',\n",
       " 'https://www.amazon.in/Blue-Star-Convertible-Stabalizer-IC512YNU/dp/B0BW9LFNRM/ref=sr_1_20?crid=1Y458EPT8NBJV&keywords=ac&qid=1681400550&sprefix=%2Caps%2C285&sr=8-20',\n",
       " 'https://www.amazon.in/sspa/click?ie=UTF8&spc=MTo2NDA1NzY4ODQ0MTIzMjkxOjE2ODE0MDA1NTA6c3BfYnRmOjIwMTE3ODg3ODE1Njk4OjowOjo&url=%2FPanasonic-Convertible-additional-Purification-CU-SU24YKYWA%2Fdp%2FB0BRJ6KMGS%2Fref%3Dsr_1_21_sspa%3Fcrid%3D1Y458EPT8NBJV%26keywords%3Dac%26qid%3D1681400550%26sprefix%3D%252Caps%252C285%26sr%3D8-21-spons%26sp_csd%3Dd2lkZ2V0TmFtZT1zcF9idGY%26psc%3D1',\n",
       " 'https://www.amazon.in/sspa/click?ie=UTF8&spc=MTo2NDA1NzY4ODQ0MTIzMjkxOjE2ODE0MDA1NTA6c3BfYnRmOjIwMTE3OTE1MjcyOTk4OjowOjo&url=%2FPanasonic-Convertible-additional-Purification-CU-NU18YKY4W%2Fdp%2FB0BRHZVBN1%2Fref%3Dsr_1_22_sspa%3Fcrid%3D1Y458EPT8NBJV%26keywords%3Dac%26qid%3D1681400550%26sprefix%3D%252Caps%252C285%26sr%3D8-22-spons%26sp_csd%3Dd2lkZ2V0TmFtZT1zcF9idGY%26psc%3D1',\n",
       " 'https://www.amazon.in/sspa/click?ie=UTF8&spc=MTo2NDA1NzY4ODQ0MTIzMjkxOjE2ODE0MDA1NTA6c3BfYXRmOjIwMDk5NDI1NzM5Njk4OjowOjo&url=%2FAmazon-Basics-Inverter-Bacterial-Copper%2Fdp%2FB0BCGHRM5F%2Fref%3Dsr_1_1_sspa%3Fcrid%3D1Y458EPT8NBJV%26keywords%3Dac%26qid%3D1681400550%26sprefix%3D%252Caps%252C285%26sr%3D8-1-spons%26sp_csd%3Dd2lkZ2V0TmFtZT1zcF9hdGY%26psc%3D1',\n",
       " 'https://www.amazon.in/sspa/click?ie=UTF8&spc=MTo2NDA1NzY4ODQ0MTIzMjkxOjE2ODE0MDA1NTA6c3BfYXRmOjIwMTEyMTg0OTY0ODk4OjowOjo&url=%2FBlue-Star-Convertible-Stabalizer-IA315YNU%2Fdp%2FB0BN6WFT1K%2Fref%3Dsr_1_2_sspa%3Fcrid%3D1Y458EPT8NBJV%26keywords%3Dac%26qid%3D1681400550%26sprefix%3D%252Caps%252C285%26sr%3D8-2-spons%26sp_csd%3Dd2lkZ2V0TmFtZT1zcF9hdGY%26psc%3D1',\n",
       " 'https://www.amazon.in/Voltas-Adjustable-173V-Vectra-Platina/dp/B0BRJ7N92P/ref=sr_1_3?crid=1Y458EPT8NBJV&keywords=ac&qid=1681400550&sprefix=%2Caps%2C285&sr=8-3',\n",
       " 'https://www.amazon.in/Lloyd-Inverter-Convertible-Anti-Viral-GLS18I3FWAMC/dp/B0BRKXTSBT/ref=sr_1_4?crid=1Y458EPT8NBJV&keywords=ac&qid=1681400550&sprefix=%2Caps%2C285&sr=8-4',\n",
       " 'https://www.amazon.in/LG-Convertible-Anti-Virus-Protection-RS-Q19YNZE/dp/B0BQ3MXML8/ref=sr_1_5?crid=1Y458EPT8NBJV&keywords=ac&qid=1681400550&sprefix=%2Caps%2C285&sr=8-5',\n",
       " 'https://www.amazon.in/Lloyd-Inverter-Convertible-Anti-Viral-GLS12I3FWAEV/dp/B0BRKX6FD5/ref=sr_1_6?crid=1Y458EPT8NBJV&keywords=ac&qid=1681400550&sprefix=%2Caps%2C285&sr=8-6',\n",
       " 'https://www.amazon.in/LG-Inverter-Convertible-Protection-Rs-Q13Jnye/dp/B0BPYN9JGF/ref=sr_1_7?crid=1Y458EPT8NBJV&keywords=ac&qid=1681400550&sprefix=%2Caps%2C285&sr=8-7',\n",
       " 'https://www.amazon.in/Panasonic-Convertible-additional-Purification-CU-NU18YKY5W/dp/B0BRJ1973T/ref=sr_1_8?crid=1Y458EPT8NBJV&keywords=ac&qid=1681400550&sprefix=%2Caps%2C285&sr=8-8',\n",
       " 'https://www.amazon.in/LG-Convertible-Anti-Virus-Protection-RS-Q19JNXE/dp/B0BQ3MJ1TG/ref=sr_1_9?crid=1Y458EPT8NBJV&keywords=ac&qid=1681400550&sprefix=%2Caps%2C285&sr=8-9',\n",
       " 'https://www.amazon.in/Lloyd-Inverter-Convertible-Anti-Viral-GLS18I5FWBEV/dp/B0BRKXBRMF/ref=sr_1_10?crid=1Y458EPT8NBJV&keywords=ac&qid=1681400550&sprefix=%2Caps%2C285&sr=8-10',\n",
       " 'https://www.amazon.in/sspa/click?ie=UTF8&spc=MTo2NDA1NzY4ODQ0MTIzMjkxOjE2ODE0MDA1NTA6c3BfbXRmOjIwMTE3ODkwODUxMDk4OjowOjo&url=%2FPanasonic-Convertible-additional-Purification-CU-NU18YKY5W%2Fdp%2FB0BRJ1973T%2Fref%3Dsr_1_11_sspa%3Fcrid%3D1Y458EPT8NBJV%26keywords%3Dac%26qid%3D1681400550%26sprefix%3D%252Caps%252C285%26sr%3D8-11-spons%26sp_csd%3Dd2lkZ2V0TmFtZT1zcF9tdGY%26psc%3D1',\n",
       " 'https://www.amazon.in/sspa/click?ie=UTF8&spc=MTo2NDA1NzY4ODQ0MTIzMjkxOjE2ODE0MDA1NTA6c3BfbXRmOjIwMTE3ODYyOTIxNDk4OjowOjo&url=%2FPanasonic-Convertible-additional-Purification-CU-SU18YKYWT%2Fdp%2FB0BRJ5QH8G%2Fref%3Dsr_1_12_sspa%3Fcrid%3D1Y458EPT8NBJV%26keywords%3Dac%26qid%3D1681400550%26sprefix%3D%252Caps%252C285%26sr%3D8-12-spons%26sp_csd%3Dd2lkZ2V0TmFtZT1zcF9tdGY%26psc%3D1',\n",
       " 'https://www.amazon.in/Panasonic-Convertible-additional-Purification-CU-NU12YKY5W/dp/B0BRHYBC3D/ref=sr_1_13?crid=1Y458EPT8NBJV&keywords=ac&qid=1681400550&sprefix=%2Caps%2C285&sr=8-13',\n",
       " 'https://www.amazon.in/LG-Convertible-Anti-Virus-Protection-Rs-Q14Ynze/dp/B0BPYL1R9N/ref=sr_1_14?crid=1Y458EPT8NBJV&keywords=ac&qid=1681400550&sprefix=%2Caps%2C285&sr=8-14',\n",
       " 'https://www.amazon.in/Whirlpool-Flexicool-Inverter-Convertible-Cooling/dp/B0BR5RF5KT/ref=sr_1_15?crid=1Y458EPT8NBJV&keywords=ac&qid=1681400550&sprefix=%2Caps%2C285&sr=8-15',\n",
       " 'https://www.amazon.in/Cruise-Inverter-Filtration-CWCVBG-VQ1W123-Dehumidifier/dp/B09474HJF5/ref=sr_1_16?crid=1Y458EPT8NBJV&keywords=ac&qid=1681400550&sprefix=%2Caps%2C285&sr=8-16',\n",
       " 'https://www.amazon.in/Samsung-Inverter-Convertible-Anti-Bacteria-AR18CYNZABE/dp/B0BRQD9Y92/ref=sr_1_17?crid=1Y458EPT8NBJV&keywords=ac&qid=1681400550&sprefix=%2Caps%2C285&sr=8-17',\n",
       " 'https://www.amazon.in/Godrej-Convertible-Split-AC-12TINV3R32-GWA/dp/B0BN37ZCF7/ref=sr_1_18?crid=1Y458EPT8NBJV&keywords=ac&qid=1681400550&sprefix=%2Caps%2C285&sr=8-18',\n",
       " 'https://www.amazon.in/Lloyd-Copper-Anti-Viral-Filter-GLS12C2XWASD/dp/B0BRKY7H99/ref=sr_1_19?crid=1Y458EPT8NBJV&keywords=ac&qid=1681400550&sprefix=%2Caps%2C285&sr=8-19',\n",
       " 'https://www.amazon.in/Blue-Star-Convertible-Stabalizer-IC512YNU/dp/B0BW9LFNRM/ref=sr_1_20?crid=1Y458EPT8NBJV&keywords=ac&qid=1681400550&sprefix=%2Caps%2C285&sr=8-20',\n",
       " 'https://www.amazon.in/sspa/click?ie=UTF8&spc=MTo2NDA1NzY4ODQ0MTIzMjkxOjE2ODE0MDA1NTA6c3BfYnRmOjIwMTE3ODg3ODE1Njk4OjowOjo&url=%2FPanasonic-Convertible-additional-Purification-CU-SU24YKYWA%2Fdp%2FB0BRJ6KMGS%2Fref%3Dsr_1_21_sspa%3Fcrid%3D1Y458EPT8NBJV%26keywords%3Dac%26qid%3D1681400550%26sprefix%3D%252Caps%252C285%26sr%3D8-21-spons%26sp_csd%3Dd2lkZ2V0TmFtZT1zcF9idGY%26psc%3D1',\n",
       " 'https://www.amazon.in/sspa/click?ie=UTF8&spc=MTo2NDA1NzY4ODQ0MTIzMjkxOjE2ODE0MDA1NTA6c3BfYnRmOjIwMTE3OTE1MjcyOTk4OjowOjo&url=%2FPanasonic-Convertible-additional-Purification-CU-NU18YKY4W%2Fdp%2FB0BRHZVBN1%2Fref%3Dsr_1_22_sspa%3Fcrid%3D1Y458EPT8NBJV%26keywords%3Dac%26qid%3D1681400550%26sprefix%3D%252Caps%252C285%26sr%3D8-22-spons%26sp_csd%3Dd2lkZ2V0TmFtZT1zcF9idGY%26psc%3D1']"
      ]
     },
     "execution_count": 23,
     "metadata": {},
     "output_type": "execute_result"
    }
   ],
   "source": [
    "product_url"
   ]
  },
  {
   "cell_type": "code",
   "execution_count": 31,
   "id": "beeeccfc",
   "metadata": {},
   "outputs": [],
   "source": [
    "brand_name=[]\n",
    "for i in product_url:\n",
    "    driver.get(i)\n",
    "    try:\n",
    "        bname=driver.find_element(By.XPATH,'/html/body/div[2]/div[2]/div[5]/div[3]/div[4]/div[40]/div/table/tbody/tr[1]/td[2]/span')\n",
    "        brand_name.append(bname.text)\n",
    "    except NoSuchElementException :\n",
    "        brand_name.append('-')"
   ]
  },
  {
   "cell_type": "code",
   "execution_count": 32,
   "id": "c5fe2e05",
   "metadata": {},
   "outputs": [
    {
     "data": {
      "text/plain": [
       "66"
      ]
     },
     "execution_count": 32,
     "metadata": {},
     "output_type": "execute_result"
    }
   ],
   "source": [
    "len(brand_name)"
   ]
  },
  {
   "cell_type": "code",
   "execution_count": 33,
   "id": "5095172a",
   "metadata": {},
   "outputs": [
    {
     "data": {
      "text/plain": [
       "['AmazonBasics',\n",
       " 'Blue Star',\n",
       " 'Voltas',\n",
       " 'Lloyd',\n",
       " 'LG',\n",
       " 'Lloyd',\n",
       " 'LG',\n",
       " 'Panasonic',\n",
       " 'LG',\n",
       " 'Lloyd',\n",
       " 'Panasonic',\n",
       " 'Panasonic',\n",
       " 'Panasonic',\n",
       " 'LG',\n",
       " 'Whirlpool',\n",
       " 'Cruise',\n",
       " 'Samsung',\n",
       " 'Godrej',\n",
       " 'Lloyd',\n",
       " 'Blue Star',\n",
       " 'Panasonic',\n",
       " 'Panasonic',\n",
       " 'AmazonBasics',\n",
       " 'Blue Star',\n",
       " 'Voltas',\n",
       " 'Lloyd',\n",
       " 'LG',\n",
       " 'Lloyd',\n",
       " 'LG',\n",
       " 'Panasonic',\n",
       " 'LG',\n",
       " 'Lloyd',\n",
       " 'Panasonic',\n",
       " 'Panasonic',\n",
       " 'Panasonic',\n",
       " 'LG',\n",
       " 'Whirlpool',\n",
       " 'Cruise',\n",
       " 'Samsung',\n",
       " 'Godrej',\n",
       " 'Lloyd',\n",
       " 'Blue Star',\n",
       " 'Panasonic',\n",
       " 'Panasonic',\n",
       " 'AmazonBasics',\n",
       " 'Blue Star',\n",
       " 'Voltas',\n",
       " 'Lloyd',\n",
       " 'LG',\n",
       " 'Lloyd',\n",
       " 'LG',\n",
       " 'Panasonic',\n",
       " 'LG',\n",
       " 'Lloyd',\n",
       " 'Panasonic',\n",
       " 'Panasonic',\n",
       " 'Panasonic',\n",
       " 'LG',\n",
       " 'Whirlpool',\n",
       " 'Cruise',\n",
       " 'Samsung',\n",
       " 'Godrej',\n",
       " 'Lloyd',\n",
       " 'Blue Star',\n",
       " 'Panasonic',\n",
       " 'Panasonic']"
      ]
     },
     "execution_count": 33,
     "metadata": {},
     "output_type": "execute_result"
    }
   ],
   "source": [
    "brand_name"
   ]
  },
  {
   "cell_type": "code",
   "execution_count": null,
   "id": "d64fc72a",
   "metadata": {},
   "outputs": [],
   "source": []
  },
  {
   "cell_type": "raw",
   "id": "d3f9f00b",
   "metadata": {},
   "source": []
  },
  {
   "cell_type": "code",
   "execution_count": 34,
   "id": "209d14e5",
   "metadata": {},
   "outputs": [],
   "source": [
    "name=[]\n",
    "for i in product_url:\n",
    "    driver.get(i)\n",
    "    try:\n",
    "        name_s=driver.find_element(By.XPATH,'/html/body/div[2]/div[2]/div[5]/div[3]/div[4]/div[1]/div/h1/span')\n",
    "        name.append(name_s.text)\n",
    "    except NoSuchElementException:\n",
    "        name.append('-')"
   ]
  },
  {
   "cell_type": "code",
   "execution_count": 35,
   "id": "f98420a6",
   "metadata": {},
   "outputs": [
    {
     "data": {
      "text/plain": [
       "['AmazonBasics 1 Ton 3 Star Inverter Split AC (White, Anti Bacterial, Copper)',\n",
       " 'Blue Star 1.2 Ton 3 Star Convertible 4 in 1 Cooling Inverter Split AC (Copper, Smart Ready, Auto Defrost, Multi Sensors, Stabalizer Free Operations, Dust Filters, Blue Fins, 2023Model, IA315YNU,White)',\n",
       " 'Voltas 1.4 Ton 3 Star Inverter Split AC(Copper, Adjustable Cooling, Anti-dust Filter, 2023 Model, 173V Vectra Platina, White)',\n",
       " 'Lloyd 1.5 Ton 3 Star Inverter Split AC (5 in 1 Convertible, Copper, Anti-Viral + PM 2.5 Filter, 2023 Model, White, GLS18I3FWAMC)',\n",
       " 'LG 1.5 Ton 5 Star AI DUAL Inverter Split AC (Copper, Super Convertible 6-in-1 Cooling, HD Filter with Anti-Virus Protection, 2023 Model, RS-Q19YNZE, White)',\n",
       " 'Lloyd 1.0 Ton 3 Star Inverter Split AC (5 in 1 Convertible, Copper, Anti-Viral + PM 2.5 Filter, 2023 Model, White with Chrome Deco Strip, GLS12I3FWAEV)',\n",
       " 'LG 1 Ton 4 Star Ai Dual Inverter Split Ac (Copper, Super Convertible 6-In-1 Cooling, Hd Filter With Anti Virus Protection, 2023 Model, Rs-Q13Jnye, White)',\n",
       " 'Panasonic 1.5 Ton 5 Star Wi-Fi Inverter Smart Split AC (Copper Condenser, 7 in 1 Convertible with additional AI Mode, 4 Way Swing, PM 0.1 Air Purification Filter, CS/CU-NU18YKY5W,2023 Model, White)',\n",
       " 'LG 1.5 Ton 3 Star AI DUAL Inverter Split AC (Copper, Super Convertible 6-in-1 Cooling, HD Filter with Anti-Virus Protection, 2023 Model, RS-Q19JNXE, White)',\n",
       " 'Lloyd 1.5 Ton 5 Star Inverter Split AC (5 in 1 Convertible, Copper, Anti-Viral + PM 2.5 Filter, 2023 Model, White with Chrome Deco Strip, GLS18I5FWBEV)',\n",
       " 'Panasonic 1.5 Ton 5 Star Wi-Fi Inverter Smart Split AC (Copper Condenser, 7 in 1 Convertible with additional AI Mode, 4 Way Swing, PM 0.1 Air Purification Filter, CS/CU-NU18YKY5W,2023 Model, White)',\n",
       " 'Panasonic 1.5 Ton 3 Star Wi-Fi Inverter Smart Split AC (Copper Condenser, 7 in 1 Convertible with additional AI Mode, PM 0.1 Air Purification Filter, CS/CU-SU18YKYWT,2023 Model, White)',\n",
       " 'Panasonic 1 Ton 5 Star Wi-Fi Inverter Smart Split AC (Copper Condenser, 7 in 1 Convertible with additional AI Mode, 4 Way Swing, PM 0.1 Air Purification Filter, CS/CU-NU12YKY5W,2023 Model, White)',\n",
       " 'LG 1 Ton 5 Star Ai Dual Inverter Split Ac (Copper, Super Convertible 6-In-1 Cooling, Hd Filter With Anti-Virus Protection, 2023 Model, Rs-Q14Ynze, White)',\n",
       " 'Whirlpool 1.5 Ton 3 Star, Flexicool Inverter Split AC (Copper, Convertible 4-in-1 Cooling Mode, HD Filter 2023 Model, S3K1PPO, White)',\n",
       " 'Cruise 1 Ton 3 Star Inverter Split AC with 7-Stage Air Filtration (100% Copper, Convertible 4-in-1, PM 2.5 Filter, 2022 Model, CWCVBH-VQ1W123, White)',\n",
       " 'Samsung 1.5 Ton 5 Star Inverter Split AC (Copper, Convertible 5-in-1 Cooling Mode, Anti-Bacteria, 2023 Model AR18CYNZABE White)',\n",
       " 'Godrej 1 Ton 3 Star, 5-In-1 Convertible Cooling, Inverter Split AC (Copper, I-Sense Technology, 2023 Model, AC 1T EI 12TINV3R32-GWA Split, White)',\n",
       " 'Lloyd 1.0 Ton 2 Star Fixed Speed Split AC (Copper, Anti-Viral + PM 2.5 Filter, 2023 Model, White, GLS12C2XWASD)',\n",
       " 'Blue Star 1 Ton 5 Star Convertible 5 in 1 Cooling Inverter Split AC (Copper, Multi Sensors, Stabalizer Free Operation, Dust Filters, Smart Ready, Blue Fins, Self Diagnosis, 2023Model, IC512YNU,White)',\n",
       " 'Panasonic 2 Ton 3 Star Wi-Fi Inverter Smart Split AC (Copper Condenser, 7 in 1 Convertible with additional AI Mode, PM 0.1 Air Purification Filter, CS/CU-SU24YKYWA,2023 Model, White)',\n",
       " 'Panasonic 1.5 Ton 4 Star Wi-Fi Inverter Smart Split AC (Copper Condenser, 7 in 1 Convertible with additional AI Mode, 4 Way Swing, PM 0.1 Air Purification Filter, CS/CU-NU18YKY4W,2023 Model, White)',\n",
       " 'AmazonBasics 1 Ton 3 Star Inverter Split AC (White, Anti Bacterial, Copper)',\n",
       " 'Blue Star 1.2 Ton 3 Star Convertible 4 in 1 Cooling Inverter Split AC (Copper, Smart Ready, Auto Defrost, Multi Sensors, Stabalizer Free Operations, Dust Filters, Blue Fins, 2023Model, IA315YNU,White)',\n",
       " 'Voltas 1.4 Ton 3 Star Inverter Split AC(Copper, Adjustable Cooling, Anti-dust Filter, 2023 Model, 173V Vectra Platina, White)',\n",
       " 'Lloyd 1.5 Ton 3 Star Inverter Split AC (5 in 1 Convertible, Copper, Anti-Viral + PM 2.5 Filter, 2023 Model, White, GLS18I3FWAMC)',\n",
       " 'LG 1.5 Ton 5 Star AI DUAL Inverter Split AC (Copper, Super Convertible 6-in-1 Cooling, HD Filter with Anti-Virus Protection, 2023 Model, RS-Q19YNZE, White)',\n",
       " 'Lloyd 1.0 Ton 3 Star Inverter Split AC (5 in 1 Convertible, Copper, Anti-Viral + PM 2.5 Filter, 2023 Model, White with Chrome Deco Strip, GLS12I3FWAEV)',\n",
       " 'LG 1 Ton 4 Star Ai Dual Inverter Split Ac (Copper, Super Convertible 6-In-1 Cooling, Hd Filter With Anti Virus Protection, 2023 Model, Rs-Q13Jnye, White)',\n",
       " 'Panasonic 1.5 Ton 5 Star Wi-Fi Inverter Smart Split AC (Copper Condenser, 7 in 1 Convertible with additional AI Mode, 4 Way Swing, PM 0.1 Air Purification Filter, CS/CU-NU18YKY5W,2023 Model, White)',\n",
       " 'LG 1.5 Ton 3 Star AI DUAL Inverter Split AC (Copper, Super Convertible 6-in-1 Cooling, HD Filter with Anti-Virus Protection, 2023 Model, RS-Q19JNXE, White)',\n",
       " 'Lloyd 1.5 Ton 5 Star Inverter Split AC (5 in 1 Convertible, Copper, Anti-Viral + PM 2.5 Filter, 2023 Model, White with Chrome Deco Strip, GLS18I5FWBEV)',\n",
       " 'Panasonic 1.5 Ton 5 Star Wi-Fi Inverter Smart Split AC (Copper Condenser, 7 in 1 Convertible with additional AI Mode, 4 Way Swing, PM 0.1 Air Purification Filter, CS/CU-NU18YKY5W,2023 Model, White)',\n",
       " 'Panasonic 1.5 Ton 3 Star Wi-Fi Inverter Smart Split AC (Copper Condenser, 7 in 1 Convertible with additional AI Mode, PM 0.1 Air Purification Filter, CS/CU-SU18YKYWT,2023 Model, White)',\n",
       " 'Panasonic 1 Ton 5 Star Wi-Fi Inverter Smart Split AC (Copper Condenser, 7 in 1 Convertible with additional AI Mode, 4 Way Swing, PM 0.1 Air Purification Filter, CS/CU-NU12YKY5W,2023 Model, White)',\n",
       " 'LG 1 Ton 5 Star Ai Dual Inverter Split Ac (Copper, Super Convertible 6-In-1 Cooling, Hd Filter With Anti-Virus Protection, 2023 Model, Rs-Q14Ynze, White)',\n",
       " 'Whirlpool 1.5 Ton 3 Star, Flexicool Inverter Split AC (Copper, Convertible 4-in-1 Cooling Mode, HD Filter 2023 Model, S3K1PPO, White)',\n",
       " 'Cruise 1 Ton 3 Star Inverter Split AC with 7-Stage Air Filtration (100% Copper, Convertible 4-in-1, PM 2.5 Filter, 2022 Model, CWCVBH-VQ1W123, White)',\n",
       " 'Samsung 1.5 Ton 5 Star Inverter Split AC (Copper, Convertible 5-in-1 Cooling Mode, Anti-Bacteria, 2023 Model AR18CYNZABE White)',\n",
       " 'Godrej 1 Ton 3 Star, 5-In-1 Convertible Cooling, Inverter Split AC (Copper, I-Sense Technology, 2023 Model, AC 1T EI 12TINV3R32-GWA Split, White)',\n",
       " 'Lloyd 1.0 Ton 2 Star Fixed Speed Split AC (Copper, Anti-Viral + PM 2.5 Filter, 2023 Model, White, GLS12C2XWASD)',\n",
       " 'Blue Star 1 Ton 5 Star Convertible 5 in 1 Cooling Inverter Split AC (Copper, Multi Sensors, Stabalizer Free Operation, Dust Filters, Smart Ready, Blue Fins, Self Diagnosis, 2023Model, IC512YNU,White)',\n",
       " 'Panasonic 2 Ton 3 Star Wi-Fi Inverter Smart Split AC (Copper Condenser, 7 in 1 Convertible with additional AI Mode, PM 0.1 Air Purification Filter, CS/CU-SU24YKYWA,2023 Model, White)',\n",
       " 'Panasonic 1.5 Ton 4 Star Wi-Fi Inverter Smart Split AC (Copper Condenser, 7 in 1 Convertible with additional AI Mode, 4 Way Swing, PM 0.1 Air Purification Filter, CS/CU-NU18YKY4W,2023 Model, White)',\n",
       " 'AmazonBasics 1 Ton 3 Star Inverter Split AC (White, Anti Bacterial, Copper)',\n",
       " 'Blue Star 1.2 Ton 3 Star Convertible 4 in 1 Cooling Inverter Split AC (Copper, Smart Ready, Auto Defrost, Multi Sensors, Stabalizer Free Operations, Dust Filters, Blue Fins, 2023Model, IA315YNU,White)',\n",
       " 'Voltas 1.4 Ton 3 Star Inverter Split AC(Copper, Adjustable Cooling, Anti-dust Filter, 2023 Model, 173V Vectra Platina, White)',\n",
       " 'Lloyd 1.5 Ton 3 Star Inverter Split AC (5 in 1 Convertible, Copper, Anti-Viral + PM 2.5 Filter, 2023 Model, White, GLS18I3FWAMC)',\n",
       " 'LG 1.5 Ton 5 Star AI DUAL Inverter Split AC (Copper, Super Convertible 6-in-1 Cooling, HD Filter with Anti-Virus Protection, 2023 Model, RS-Q19YNZE, White)',\n",
       " 'Lloyd 1.0 Ton 3 Star Inverter Split AC (5 in 1 Convertible, Copper, Anti-Viral + PM 2.5 Filter, 2023 Model, White with Chrome Deco Strip, GLS12I3FWAEV)',\n",
       " 'LG 1 Ton 4 Star Ai Dual Inverter Split Ac (Copper, Super Convertible 6-In-1 Cooling, Hd Filter With Anti Virus Protection, 2023 Model, Rs-Q13Jnye, White)',\n",
       " 'Panasonic 1.5 Ton 5 Star Wi-Fi Inverter Smart Split AC (Copper Condenser, 7 in 1 Convertible with additional AI Mode, 4 Way Swing, PM 0.1 Air Purification Filter, CS/CU-NU18YKY5W,2023 Model, White)',\n",
       " 'LG 1.5 Ton 3 Star AI DUAL Inverter Split AC (Copper, Super Convertible 6-in-1 Cooling, HD Filter with Anti-Virus Protection, 2023 Model, RS-Q19JNXE, White)',\n",
       " 'Lloyd 1.5 Ton 5 Star Inverter Split AC (5 in 1 Convertible, Copper, Anti-Viral + PM 2.5 Filter, 2023 Model, White with Chrome Deco Strip, GLS18I5FWBEV)',\n",
       " 'Panasonic 1.5 Ton 5 Star Wi-Fi Inverter Smart Split AC (Copper Condenser, 7 in 1 Convertible with additional AI Mode, 4 Way Swing, PM 0.1 Air Purification Filter, CS/CU-NU18YKY5W,2023 Model, White)',\n",
       " 'Panasonic 1.5 Ton 3 Star Wi-Fi Inverter Smart Split AC (Copper Condenser, 7 in 1 Convertible with additional AI Mode, PM 0.1 Air Purification Filter, CS/CU-SU18YKYWT,2023 Model, White)',\n",
       " 'Panasonic 1 Ton 5 Star Wi-Fi Inverter Smart Split AC (Copper Condenser, 7 in 1 Convertible with additional AI Mode, 4 Way Swing, PM 0.1 Air Purification Filter, CS/CU-NU12YKY5W,2023 Model, White)',\n",
       " 'LG 1 Ton 5 Star Ai Dual Inverter Split Ac (Copper, Super Convertible 6-In-1 Cooling, Hd Filter With Anti-Virus Protection, 2023 Model, Rs-Q14Ynze, White)',\n",
       " 'Whirlpool 1.5 Ton 3 Star, Flexicool Inverter Split AC (Copper, Convertible 4-in-1 Cooling Mode, HD Filter 2023 Model, S3K1PPO, White)',\n",
       " 'Cruise 1 Ton 3 Star Inverter Split AC with 7-Stage Air Filtration (100% Copper, Convertible 4-in-1, PM 2.5 Filter, 2022 Model, CWCVBH-VQ1W123, White)',\n",
       " 'Samsung 1.5 Ton 5 Star Inverter Split AC (Copper, Convertible 5-in-1 Cooling Mode, Anti-Bacteria, 2023 Model AR18CYNZABE White)',\n",
       " 'Godrej 1 Ton 3 Star, 5-In-1 Convertible Cooling, Inverter Split AC (Copper, I-Sense Technology, 2023 Model, AC 1T EI 12TINV3R32-GWA Split, White)',\n",
       " 'Lloyd 1.0 Ton 2 Star Fixed Speed Split AC (Copper, Anti-Viral + PM 2.5 Filter, 2023 Model, White, GLS12C2XWASD)',\n",
       " 'Blue Star 1 Ton 5 Star Convertible 5 in 1 Cooling Inverter Split AC (Copper, Multi Sensors, Stabalizer Free Operation, Dust Filters, Smart Ready, Blue Fins, Self Diagnosis, 2023Model, IC512YNU,White)',\n",
       " 'Panasonic 2 Ton 3 Star Wi-Fi Inverter Smart Split AC (Copper Condenser, 7 in 1 Convertible with additional AI Mode, PM 0.1 Air Purification Filter, CS/CU-SU24YKYWA,2023 Model, White)',\n",
       " 'Panasonic 1.5 Ton 4 Star Wi-Fi Inverter Smart Split AC (Copper Condenser, 7 in 1 Convertible with additional AI Mode, 4 Way Swing, PM 0.1 Air Purification Filter, CS/CU-NU18YKY4W,2023 Model, White)']"
      ]
     },
     "execution_count": 35,
     "metadata": {},
     "output_type": "execute_result"
    }
   ],
   "source": [
    "name"
   ]
  },
  {
   "cell_type": "code",
   "execution_count": 41,
   "id": "5b769c04",
   "metadata": {},
   "outputs": [],
   "source": [
    "price=[]\n",
    "for i in product_url:\n",
    "    driver.get(i)\n",
    "    try:\n",
    "        price_p=driver.find_element(By.XPATH,'/html/body/div[2]/div[2]/div[5]/div[3]/div[4]/div[10]/div[3]/div[1]/span[2]/span[2]')\n",
    "        price.append(price_p.text)\n",
    "    except NoSuchElementException:\n",
    "        price.append('-')"
   ]
  },
  {
   "cell_type": "code",
   "execution_count": 42,
   "id": "fa99898c",
   "metadata": {},
   "outputs": [
    {
     "data": {
      "text/plain": [
       "66"
      ]
     },
     "execution_count": 42,
     "metadata": {},
     "output_type": "execute_result"
    }
   ],
   "source": [
    "len(price)"
   ]
  },
  {
   "cell_type": "code",
   "execution_count": 43,
   "id": "99e236fb",
   "metadata": {},
   "outputs": [
    {
     "data": {
      "text/plain": [
       "['-',\n",
       " '-',\n",
       " '-',\n",
       " '-',\n",
       " '-',\n",
       " '-',\n",
       " '-',\n",
       " '-',\n",
       " '-',\n",
       " '-',\n",
       " '-',\n",
       " '-',\n",
       " '-',\n",
       " '-',\n",
       " '-',\n",
       " '-',\n",
       " '-',\n",
       " '-',\n",
       " '-',\n",
       " '-',\n",
       " '-',\n",
       " '-',\n",
       " '-',\n",
       " '-',\n",
       " '-',\n",
       " '-',\n",
       " '-',\n",
       " '-',\n",
       " '-',\n",
       " '-',\n",
       " '-',\n",
       " '-',\n",
       " '-',\n",
       " '-',\n",
       " '-',\n",
       " '-',\n",
       " '-',\n",
       " '-',\n",
       " '-',\n",
       " '-',\n",
       " '-',\n",
       " '-',\n",
       " '-',\n",
       " '-',\n",
       " '-',\n",
       " '-',\n",
       " '-',\n",
       " '-',\n",
       " '-',\n",
       " '-',\n",
       " '-',\n",
       " '-',\n",
       " '-',\n",
       " '-',\n",
       " '-',\n",
       " '-',\n",
       " '-',\n",
       " '-',\n",
       " '-',\n",
       " '-',\n",
       " '-',\n",
       " '-',\n",
       " '-',\n",
       " '-',\n",
       " '-',\n",
       " '-']"
      ]
     },
     "execution_count": 43,
     "metadata": {},
     "output_type": "execute_result"
    }
   ],
   "source": [
    "price"
   ]
  },
  {
   "cell_type": "code",
   "execution_count": 65,
   "id": "5c887e4b",
   "metadata": {},
   "outputs": [],
   "source": [
    "driver=webdriver.Chrome(r\"chromedriver.exe\")"
   ]
  },
  {
   "cell_type": "code",
   "execution_count": 66,
   "id": "34b6e594",
   "metadata": {},
   "outputs": [],
   "source": [
    "driver.get('https://www.flipkart.com/')"
   ]
  },
  {
   "cell_type": "code",
   "execution_count": 67,
   "id": "462d9e59",
   "metadata": {},
   "outputs": [],
   "source": [
    "button=driver.find_element(By.XPATH,'/html/body/div[2]/div/div/button')\n",
    "button.click()"
   ]
  },
  {
   "cell_type": "code",
   "execution_count": 68,
   "id": "120ef7cd",
   "metadata": {},
   "outputs": [],
   "source": [
    "mobile=driver.find_element(By.XPATH,'/html/body/div[1]/div/div[1]/div[1]/div[2]/div[2]/form/div/div/input')\n",
    "mobile.send_keys('Oneplus Nord, pixel 4A')"
   ]
  },
  {
   "cell_type": "code",
   "execution_count": 69,
   "id": "25000c19",
   "metadata": {},
   "outputs": [],
   "source": [
    "search=driver.find_element(By.XPATH,'/html/body/div[1]/div/div[1]/div[1]/div[2]/div[2]/form/div/button')\n",
    "search.click()"
   ]
  },
  {
   "cell_type": "code",
   "execution_count": 70,
   "id": "e4e0a8af",
   "metadata": {},
   "outputs": [],
   "source": [
    "product_url=[]\n",
    "url=driver.find_elements(By.XPATH,'//a[@class=\"_1fQZEK\"]')\n",
    "for i in url:\n",
    "    product_url.append(i.get_attribute('href'))"
   ]
  },
  {
   "cell_type": "code",
   "execution_count": 71,
   "id": "e81d667e",
   "metadata": {},
   "outputs": [
    {
     "data": {
      "text/plain": [
       "['https://www.flipkart.com/oneplus-nord-gray-onyx-256-gb/p/itm49f817b591982?pid=MOBFUE5GGWHFC37J&lid=LSTMOBFUE5GGWHFC37JNXZLYZ&marketplace=FLIPKART&q=Oneplus+Nord%2C+pixel+4A&store=tyy%2F4io&srno=s_1_1&otracker=search&otracker1=search&fm=organic&iid=c1b717bf-5b12-4214-a30e-429f8d2222f9.MOBFUE5GGWHFC37J.SEARCH&ppt=hp&ppn=homepage&ssid=k9ixzpjb4w0000001681490408464&qH=51e22a8c2f127b5e',\n",
       " 'https://www.flipkart.com/oneplus-nord-blue-marble-256-gb/p/itm49f817b591982?pid=MOBFUE5HUU5ZYGRY&lid=LSTMOBFUE5HUU5ZYGRY4ZWZZN&marketplace=FLIPKART&q=Oneplus+Nord%2C+pixel+4A&store=tyy%2F4io&srno=s_1_2&otracker=search&otracker1=search&fm=organic&iid=c1b717bf-5b12-4214-a30e-429f8d2222f9.MOBFUE5HUU5ZYGRY.SEARCH&ppt=hp&ppn=homepage&ssid=k9ixzpjb4w0000001681490408464&qH=51e22a8c2f127b5e',\n",
       " 'https://www.flipkart.com/oneplus-nord-gray-onyx-128-gb/p/itm49f817b591982?pid=MOBFUE5HW4XUUGBN&lid=LSTMOBFUE5HW4XUUGBNMZB8TR&marketplace=FLIPKART&q=Oneplus+Nord%2C+pixel+4A&store=tyy%2F4io&srno=s_1_3&otracker=search&otracker1=search&fm=organic&iid=c1b717bf-5b12-4214-a30e-429f8d2222f9.MOBFUE5HW4XUUGBN.SEARCH&ppt=hp&ppn=homepage&ssid=k9ixzpjb4w0000001681490408464&qH=51e22a8c2f127b5e',\n",
       " 'https://www.flipkart.com/oneplus-nord-blue-marble-128-gb/p/itm49f817b591982?pid=MOBFUE5JWYDZX6HX&lid=LSTMOBFUE5JWYDZX6HXJZSHIV&marketplace=FLIPKART&q=Oneplus+Nord%2C+pixel+4A&store=tyy%2F4io&srno=s_1_4&otracker=search&otracker1=search&fm=organic&iid=c1b717bf-5b12-4214-a30e-429f8d2222f9.MOBFUE5JWYDZX6HX.SEARCH&ppt=hp&ppn=homepage&ssid=k9ixzpjb4w0000001681490408464&qH=51e22a8c2f127b5e',\n",
       " 'https://www.flipkart.com/oneplus-nord-gray-onyx-64-gb/p/itm49f817b591982?pid=MOBFUE5H57THFNVJ&lid=LSTMOBFUE5H57THFNVJSYCAHJ&marketplace=FLIPKART&q=Oneplus+Nord%2C+pixel+4A&store=tyy%2F4io&srno=s_1_5&otracker=search&otracker1=search&fm=organic&iid=c1b717bf-5b12-4214-a30e-429f8d2222f9.MOBFUE5H57THFNVJ.SEARCH&ppt=hp&ppn=homepage&ssid=k9ixzpjb4w0000001681490408464&qH=51e22a8c2f127b5e',\n",
       " 'https://www.flipkart.com/oneplus-nord-blue-marble-64-gb/p/itm49f817b591982?pid=MOBFUE5N7KAGZHHC&lid=LSTMOBFUE5N7KAGZHHC6NVUQL&marketplace=FLIPKART&q=Oneplus+Nord%2C+pixel+4A&store=tyy%2F4io&srno=s_1_6&otracker=search&otracker1=search&fm=organic&iid=c1b717bf-5b12-4214-a30e-429f8d2222f9.MOBFUE5N7KAGZHHC.SEARCH&ppt=hp&ppn=homepage&ssid=k9ixzpjb4w0000001681490408464&qH=51e22a8c2f127b5e',\n",
       " 'https://www.flipkart.com/oneplus-nord-ce-2-5g-gray-mirror-128-gb/p/itme3c94dc3fc910?pid=MOBGJMUHX7ACJ44Z&lid=LSTMOBGJMUHX7ACJ44ZRM2XKB&marketplace=FLIPKART&q=Oneplus+Nord%2C+pixel+4A&store=tyy%2F4io&srno=s_1_7&otracker=search&otracker1=search&fm=organic&iid=c1b717bf-5b12-4214-a30e-429f8d2222f9.MOBGJMUHX7ACJ44Z.SEARCH&ppt=hp&ppn=homepage&ssid=k9ixzpjb4w0000001681490408464&qH=51e22a8c2f127b5e',\n",
       " 'https://www.flipkart.com/oneplus-nord-ce-2-5g-gray-mirror-128-gb/p/itm2a9883679c57c?pid=MOBGDHWMFQBKFV5F&lid=LSTMOBGDHWMFQBKFV5FJL44RI&marketplace=FLIPKART&q=Oneplus+Nord%2C+pixel+4A&store=tyy%2F4io&srno=s_1_8&otracker=search&otracker1=search&fm=organic&iid=c1b717bf-5b12-4214-a30e-429f8d2222f9.MOBGDHWMFQBKFV5F.SEARCH&ppt=hp&ppn=homepage&ssid=k9ixzpjb4w0000001681490408464&qH=51e22a8c2f127b5e']"
      ]
     },
     "execution_count": 71,
     "metadata": {},
     "output_type": "execute_result"
    }
   ],
   "source": [
    "product_url"
   ]
  },
  {
   "cell_type": "code",
   "execution_count": 72,
   "id": "bde9117b",
   "metadata": {},
   "outputs": [
    {
     "data": {
      "text/plain": [
       "8"
      ]
     },
     "execution_count": 72,
     "metadata": {},
     "output_type": "execute_result"
    }
   ],
   "source": [
    "len(product_url)"
   ]
  },
  {
   "cell_type": "code",
   "execution_count": 73,
   "id": "7da2e8e4",
   "metadata": {},
   "outputs": [],
   "source": [
    "brand_name=[]\n",
    "name=[]\n",
    "colour=[]\n",
    "ram=[]\n",
    "rom=[]\n",
    "primary_camera=[]\n",
    "secondry_camera=[]\n",
    "display_size=[]\n",
    "battery_capacity=[]\n",
    "prize=[]"
   ]
  },
  {
   "cell_type": "code",
   "execution_count": 74,
   "id": "b0b12131",
   "metadata": {},
   "outputs": [],
   "source": [
    "for i in product_url:\n",
    "    driver.get(i)\n",
    "    try:\n",
    "        b_name=driver.find_element(By.XPATH,'/html/body/div[1]/div/div[3]/div[1]/div[2]/div[1]/div[1]/div/div[4]')\n",
    "        brand_name.append(b_name.text)\n",
    "    except NoSuchElementException:\n",
    "        brand_name.append('-')\n",
    "for i in product_url:\n",
    "    driver.get(i)\n",
    "    try:\n",
    "        n_name=driver.find_element(By.XPATH,'/html/body/div[1]/div/div[3]/div[1]/div[2]/div[2]/div/div[1]/h1/span')\n",
    "        name.append(n_name.text)\n",
    "    except NoSuchElementException:\n",
    "        name.append('-')\n",
    "for i in product_url:\n",
    "    driver.get(i)\n",
    "    try:\n",
    "        c_colour=driver.find_element(By.XPATH,'/html/body/div[1]/div/div[3]/div[1]/div[2]/div[7]/div/div/div[4]/div/div[2]/div/div[1]/table/tbody/tr[4]/td[2]/ul/li')\n",
    "        colour.append(c_colour.text)\n",
    "    except NoSuchElementException:\n",
    "        colour.append('-')\n",
    "for i in product_url:\n",
    "    driver.get(i)\n",
    "    try:\n",
    "        p_camera=driver.find_element(By.XPATH,'/html/body/div[1]/div/div[3]/div[1]/div[2]/div[6]/div[1]/div/div[2]/ul/li[3]')\n",
    "        primary_camera.append(p_camera.text)\n",
    "    except NoSuchElementException:\n",
    "        primary_camera.append('-')\n",
    "for i in product_url:\n",
    "    driver.get(i)\n",
    "    try:\n",
    "        d_display=driver.find_element(By.XPATH,'/html/body/div[1]/div/div[3]/div[1]/div[2]/div[6]/div[1]/div/div[2]/ul/li[2]')\n",
    "        display_size.append(d_display.text)\n",
    "    except NoSuchElementException:\n",
    "        display_size.append('-')\n",
    "for i in product_url:\n",
    "    driver.get(i)\n",
    "    try:\n",
    "        b_battery=driver.find_element(By.XPATH,'/html/body/div[1]/div/div[3]/div[1]/div[2]/div[6]/div[1]/div/div[2]/ul/li[4]')\n",
    "        battery_capacity.append(b_battery.text)\n",
    "    except NoSuchElementException:\n",
    "        battery_capacity.append('-')\n",
    "for i in product_url:\n",
    "    driver.get(i)\n",
    "    try:\n",
    "        p_price=driver.find_element(By.XPATH,'/html/body/div[1]/div/div[3]/div[1]/div[2]/div[2]/div/div[3]/div[1]/div/div')\n",
    "        prize.append(p_price.text)\n",
    "    except NoSuchElementException:\n",
    "        prize.append('-')\n",
    "for i in product_url:\n",
    "    driver.get(i)\n",
    "    try:\n",
    "        r_rom=driver.find_element(By.XPATH,'/html/body/div[1]/div/div[3]/div[1]/div[2]/div[6]/div[1]/div/div[2]/ul/li[1]')\n",
    "        rom.append(r_rom.text)\n",
    "    except NoSuchElementException:\n",
    "        rom.append('-')\n",
    "\n",
    "\n",
    "\n",
    "\n",
    "\n"
   ]
  },
  {
   "cell_type": "code",
   "execution_count": 75,
   "id": "8460233b",
   "metadata": {},
   "outputs": [
    {
     "data": {
      "text/plain": [
       "(['OnePlus Mobiles',\n",
       "  'OnePlus Mobiles',\n",
       "  'OnePlus Mobiles',\n",
       "  'OnePlus Mobiles',\n",
       "  'OnePlus Mobiles',\n",
       "  'OnePlus Mobiles',\n",
       "  'OnePlus Mobiles',\n",
       "  'OnePlus Mobiles'],\n",
       " ['OnePlus Nord (Gray Onyx, 256 GB)  (12 GB RAM)',\n",
       "  'OnePlus Nord (Blue Marble, 256 GB)  (12 GB RAM)',\n",
       "  'OnePlus Nord (Gray Onyx, 128 GB)  (8 GB RAM)',\n",
       "  'OnePlus Nord (Blue Marble, 128 GB)  (8 GB RAM)',\n",
       "  'OnePlus Nord (Gray Onyx, 64 GB)  (6 GB RAM)',\n",
       "  'OnePlus Nord (Blue Marble, 64 GB)  (6 GB RAM)',\n",
       "  'OnePlus Nord CE 2 5G (Gray Mirror, 128 GB)  (6 GB RAM)',\n",
       "  'OnePlus Nord CE 2 5G (Gray Mirror, 128 GB)  (8 GB RAM)'],\n",
       " ['Gray Onyx',\n",
       "  'Blue Marble',\n",
       "  'Gray Onyx',\n",
       "  'Blue Marble',\n",
       "  'Gray Onyx',\n",
       "  'Blue Marble',\n",
       "  'Gray Mirror',\n",
       "  'Gray Mirror'],\n",
       " ['12 GB RAM | 256 GB ROM',\n",
       "  '12 GB RAM | 256 GB ROM',\n",
       "  '8 GB RAM | 128 GB ROM',\n",
       "  '8 GB RAM | 128 GB ROM',\n",
       "  '6 GB RAM | 64 GB ROM',\n",
       "  '6 GB RAM | 64 GB ROM',\n",
       "  '6 GB RAM | 128 GB ROM',\n",
       "  '8 GB RAM | 128 GB ROM'],\n",
       " ['₹29,999',\n",
       "  '₹29,999',\n",
       "  '₹27,999',\n",
       "  '₹27,999',\n",
       "  '₹24,999',\n",
       "  '₹24,999',\n",
       "  '₹19,999',\n",
       "  '₹24,990'],\n",
       " ['4115 mAh Battery',\n",
       "  '4115 mAh Battery',\n",
       "  '4115 mAh Battery',\n",
       "  '4115 mAh Battery',\n",
       "  '4115 mAh Battery',\n",
       "  '4115 mAh Battery',\n",
       "  '4500 mAh Battery',\n",
       "  '4500 mAh Battery'],\n",
       " ['16.36 cm (6.44 inch) Full HD+ Display',\n",
       "  '16.36 cm (6.44 inch) Full HD+ Display',\n",
       "  '16.36 cm (6.44 inch) Full HD+ Display',\n",
       "  '16.36 cm (6.44 inch) Full HD+ Display',\n",
       "  '16.36 cm (6.44 inch) Full HD+ Display',\n",
       "  '16.36 cm (6.44 inch) Full HD+ Display',\n",
       "  '16.33 cm (6.43 inch) Display',\n",
       "  '16.33 cm (6.43 inch) Display'],\n",
       " ['Gray Onyx',\n",
       "  'Blue Marble',\n",
       "  'Gray Onyx',\n",
       "  'Blue Marble',\n",
       "  'Gray Onyx',\n",
       "  'Blue Marble',\n",
       "  'Gray Mirror',\n",
       "  'Gray Mirror'])"
      ]
     },
     "execution_count": 75,
     "metadata": {},
     "output_type": "execute_result"
    }
   ],
   "source": [
    "brand_name,name,colour,rom,prize,battery_capacity,display_size,colour"
   ]
  },
  {
   "cell_type": "code",
   "execution_count": 76,
   "id": "9e118465",
   "metadata": {},
   "outputs": [
    {
     "data": {
      "text/html": [
       "<div>\n",
       "<style scoped>\n",
       "    .dataframe tbody tr th:only-of-type {\n",
       "        vertical-align: middle;\n",
       "    }\n",
       "\n",
       "    .dataframe tbody tr th {\n",
       "        vertical-align: top;\n",
       "    }\n",
       "\n",
       "    .dataframe thead th {\n",
       "        text-align: right;\n",
       "    }\n",
       "</style>\n",
       "<table border=\"1\" class=\"dataframe\">\n",
       "  <thead>\n",
       "    <tr style=\"text-align: right;\">\n",
       "      <th></th>\n",
       "      <th>Brand Name</th>\n",
       "      <th>Name</th>\n",
       "      <th>Colour</th>\n",
       "      <th>Ram/Rom</th>\n",
       "      <th>Display Size</th>\n",
       "      <th>Battery Capacity</th>\n",
       "      <th>Price</th>\n",
       "      <th>Product Url</th>\n",
       "    </tr>\n",
       "  </thead>\n",
       "  <tbody>\n",
       "    <tr>\n",
       "      <th>0</th>\n",
       "      <td>OnePlus Mobiles</td>\n",
       "      <td>OnePlus Nord (Gray Onyx, 256 GB)  (12 GB RAM)</td>\n",
       "      <td>Gray Onyx</td>\n",
       "      <td>12 GB RAM | 256 GB ROM</td>\n",
       "      <td>16.36 cm (6.44 inch) Full HD+ Display</td>\n",
       "      <td>4115 mAh Battery</td>\n",
       "      <td>₹29,999</td>\n",
       "      <td>https://www.flipkart.com/oneplus-nord-gray-ony...</td>\n",
       "    </tr>\n",
       "    <tr>\n",
       "      <th>1</th>\n",
       "      <td>OnePlus Mobiles</td>\n",
       "      <td>OnePlus Nord (Blue Marble, 256 GB)  (12 GB RAM)</td>\n",
       "      <td>Blue Marble</td>\n",
       "      <td>12 GB RAM | 256 GB ROM</td>\n",
       "      <td>16.36 cm (6.44 inch) Full HD+ Display</td>\n",
       "      <td>4115 mAh Battery</td>\n",
       "      <td>₹29,999</td>\n",
       "      <td>https://www.flipkart.com/oneplus-nord-blue-mar...</td>\n",
       "    </tr>\n",
       "    <tr>\n",
       "      <th>2</th>\n",
       "      <td>OnePlus Mobiles</td>\n",
       "      <td>OnePlus Nord (Gray Onyx, 128 GB)  (8 GB RAM)</td>\n",
       "      <td>Gray Onyx</td>\n",
       "      <td>8 GB RAM | 128 GB ROM</td>\n",
       "      <td>16.36 cm (6.44 inch) Full HD+ Display</td>\n",
       "      <td>4115 mAh Battery</td>\n",
       "      <td>₹27,999</td>\n",
       "      <td>https://www.flipkart.com/oneplus-nord-gray-ony...</td>\n",
       "    </tr>\n",
       "    <tr>\n",
       "      <th>3</th>\n",
       "      <td>OnePlus Mobiles</td>\n",
       "      <td>OnePlus Nord (Blue Marble, 128 GB)  (8 GB RAM)</td>\n",
       "      <td>Blue Marble</td>\n",
       "      <td>8 GB RAM | 128 GB ROM</td>\n",
       "      <td>16.36 cm (6.44 inch) Full HD+ Display</td>\n",
       "      <td>4115 mAh Battery</td>\n",
       "      <td>₹27,999</td>\n",
       "      <td>https://www.flipkart.com/oneplus-nord-blue-mar...</td>\n",
       "    </tr>\n",
       "    <tr>\n",
       "      <th>4</th>\n",
       "      <td>OnePlus Mobiles</td>\n",
       "      <td>OnePlus Nord (Gray Onyx, 64 GB)  (6 GB RAM)</td>\n",
       "      <td>Gray Onyx</td>\n",
       "      <td>6 GB RAM | 64 GB ROM</td>\n",
       "      <td>16.36 cm (6.44 inch) Full HD+ Display</td>\n",
       "      <td>4115 mAh Battery</td>\n",
       "      <td>₹24,999</td>\n",
       "      <td>https://www.flipkart.com/oneplus-nord-gray-ony...</td>\n",
       "    </tr>\n",
       "    <tr>\n",
       "      <th>5</th>\n",
       "      <td>OnePlus Mobiles</td>\n",
       "      <td>OnePlus Nord (Blue Marble, 64 GB)  (6 GB RAM)</td>\n",
       "      <td>Blue Marble</td>\n",
       "      <td>6 GB RAM | 64 GB ROM</td>\n",
       "      <td>16.36 cm (6.44 inch) Full HD+ Display</td>\n",
       "      <td>4115 mAh Battery</td>\n",
       "      <td>₹24,999</td>\n",
       "      <td>https://www.flipkart.com/oneplus-nord-blue-mar...</td>\n",
       "    </tr>\n",
       "    <tr>\n",
       "      <th>6</th>\n",
       "      <td>OnePlus Mobiles</td>\n",
       "      <td>OnePlus Nord CE 2 5G (Gray Mirror, 128 GB)  (6...</td>\n",
       "      <td>Gray Mirror</td>\n",
       "      <td>6 GB RAM | 128 GB ROM</td>\n",
       "      <td>16.33 cm (6.43 inch) Display</td>\n",
       "      <td>4500 mAh Battery</td>\n",
       "      <td>₹19,999</td>\n",
       "      <td>https://www.flipkart.com/oneplus-nord-ce-2-5g-...</td>\n",
       "    </tr>\n",
       "    <tr>\n",
       "      <th>7</th>\n",
       "      <td>OnePlus Mobiles</td>\n",
       "      <td>OnePlus Nord CE 2 5G (Gray Mirror, 128 GB)  (8...</td>\n",
       "      <td>Gray Mirror</td>\n",
       "      <td>8 GB RAM | 128 GB ROM</td>\n",
       "      <td>16.33 cm (6.43 inch) Display</td>\n",
       "      <td>4500 mAh Battery</td>\n",
       "      <td>₹24,990</td>\n",
       "      <td>https://www.flipkart.com/oneplus-nord-ce-2-5g-...</td>\n",
       "    </tr>\n",
       "  </tbody>\n",
       "</table>\n",
       "</div>"
      ],
      "text/plain": [
       "        Brand Name                                               Name  \\\n",
       "0  OnePlus Mobiles      OnePlus Nord (Gray Onyx, 256 GB)  (12 GB RAM)   \n",
       "1  OnePlus Mobiles    OnePlus Nord (Blue Marble, 256 GB)  (12 GB RAM)   \n",
       "2  OnePlus Mobiles       OnePlus Nord (Gray Onyx, 128 GB)  (8 GB RAM)   \n",
       "3  OnePlus Mobiles     OnePlus Nord (Blue Marble, 128 GB)  (8 GB RAM)   \n",
       "4  OnePlus Mobiles        OnePlus Nord (Gray Onyx, 64 GB)  (6 GB RAM)   \n",
       "5  OnePlus Mobiles      OnePlus Nord (Blue Marble, 64 GB)  (6 GB RAM)   \n",
       "6  OnePlus Mobiles  OnePlus Nord CE 2 5G (Gray Mirror, 128 GB)  (6...   \n",
       "7  OnePlus Mobiles  OnePlus Nord CE 2 5G (Gray Mirror, 128 GB)  (8...   \n",
       "\n",
       "        Colour                 Ram/Rom                           Display Size  \\\n",
       "0    Gray Onyx  12 GB RAM | 256 GB ROM  16.36 cm (6.44 inch) Full HD+ Display   \n",
       "1  Blue Marble  12 GB RAM | 256 GB ROM  16.36 cm (6.44 inch) Full HD+ Display   \n",
       "2    Gray Onyx   8 GB RAM | 128 GB ROM  16.36 cm (6.44 inch) Full HD+ Display   \n",
       "3  Blue Marble   8 GB RAM | 128 GB ROM  16.36 cm (6.44 inch) Full HD+ Display   \n",
       "4    Gray Onyx    6 GB RAM | 64 GB ROM  16.36 cm (6.44 inch) Full HD+ Display   \n",
       "5  Blue Marble    6 GB RAM | 64 GB ROM  16.36 cm (6.44 inch) Full HD+ Display   \n",
       "6  Gray Mirror   6 GB RAM | 128 GB ROM           16.33 cm (6.43 inch) Display   \n",
       "7  Gray Mirror   8 GB RAM | 128 GB ROM           16.33 cm (6.43 inch) Display   \n",
       "\n",
       "   Battery Capacity    Price  \\\n",
       "0  4115 mAh Battery  ₹29,999   \n",
       "1  4115 mAh Battery  ₹29,999   \n",
       "2  4115 mAh Battery  ₹27,999   \n",
       "3  4115 mAh Battery  ₹27,999   \n",
       "4  4115 mAh Battery  ₹24,999   \n",
       "5  4115 mAh Battery  ₹24,999   \n",
       "6  4500 mAh Battery  ₹19,999   \n",
       "7  4500 mAh Battery  ₹24,990   \n",
       "\n",
       "                                         Product Url  \n",
       "0  https://www.flipkart.com/oneplus-nord-gray-ony...  \n",
       "1  https://www.flipkart.com/oneplus-nord-blue-mar...  \n",
       "2  https://www.flipkart.com/oneplus-nord-gray-ony...  \n",
       "3  https://www.flipkart.com/oneplus-nord-blue-mar...  \n",
       "4  https://www.flipkart.com/oneplus-nord-gray-ony...  \n",
       "5  https://www.flipkart.com/oneplus-nord-blue-mar...  \n",
       "6  https://www.flipkart.com/oneplus-nord-ce-2-5g-...  \n",
       "7  https://www.flipkart.com/oneplus-nord-ce-2-5g-...  "
      ]
     },
     "execution_count": 76,
     "metadata": {},
     "output_type": "execute_result"
    }
   ],
   "source": [
    "df=pd.DataFrame({'Brand Name':brand_name,'Name':name,'Colour':colour,'Ram/Rom':rom,'Display Size':display_size,'Battery Capacity':battery_capacity,'Price':prize,'Product Url':product_url})\n",
    "df\n"
   ]
  },
  {
   "cell_type": "code",
   "execution_count": 42,
   "id": "c2846548",
   "metadata": {},
   "outputs": [],
   "source": [
    "for i in product_url:\n",
    "    driver.get(i)\n",
    "    try:\n",
    "        p_camera=driver.find_element(By.XPATH,'/html/body/div[1]/div/div[3]/div[1]/div[2]/div[6]/div[1]/div/div[2]/ul/li[3]')\n",
    "        primary_camera.append(p_camera.text)\n",
    "    except NoSuchElementException:\n",
    "        primary_camera.append('-')\n"
   ]
  },
  {
   "cell_type": "code",
   "execution_count": 43,
   "id": "667fcd7a",
   "metadata": {},
   "outputs": [
    {
     "data": {
      "text/plain": [
       "['48MP + 8MP | 32MP + 8MP Dual Front Camera',\n",
       " '48MP + 8MP | 32MP + 8MP Dual Front Camera',\n",
       " '48MP + 8MP | 32MP + 8MP Dual Front Camera',\n",
       " '48MP + 8MP | 32MP + 8MP Dual Front Camera',\n",
       " '48MP + 8MP | 32MP + 8MP Dual Front Camera',\n",
       " '48MP + 8MP | 32MP + 8MP Dual Front Camera',\n",
       " '64MP Rear Camera',\n",
       " '64MP Rear Camera']"
      ]
     },
     "execution_count": 43,
     "metadata": {},
     "output_type": "execute_result"
    }
   ],
   "source": [
    "primary_camera.split"
   ]
  },
  {
   "cell_type": "code",
   "execution_count": 57,
   "id": "b842f1e1",
   "metadata": {},
   "outputs": [],
   "source": [
    "for i in product_url:\n",
    "    driver.get(i)\n",
    "    try:\n",
    "        d_display=driver.find_element(By.XPATH,'/html/body/div[1]/div/div[3]/div[1]/div[2]/div[6]/div[1]/div/div[2]/ul/li[2]')\n",
    "        display_size.append(d_display.text)\n",
    "    except NoSuchElementException:\n",
    "        display_size.append('-')"
   ]
  },
  {
   "cell_type": "code",
   "execution_count": 58,
   "id": "3ac8d5cf",
   "metadata": {},
   "outputs": [
    {
     "data": {
      "text/plain": [
       "['',\n",
       " '',\n",
       " '',\n",
       " '',\n",
       " '',\n",
       " '',\n",
       " '',\n",
       " '',\n",
       " '',\n",
       " '',\n",
       " '',\n",
       " '',\n",
       " '',\n",
       " '',\n",
       " '',\n",
       " '',\n",
       " '',\n",
       " '',\n",
       " '',\n",
       " '',\n",
       " '',\n",
       " '',\n",
       " '',\n",
       " '',\n",
       " '16.36 cm (6.44 inch) Full HD+ Display',\n",
       " '16.36 cm (6.44 inch) Full HD+ Display',\n",
       " '16.36 cm (6.44 inch) Full HD+ Display',\n",
       " '16.36 cm (6.44 inch) Full HD+ Display',\n",
       " '16.36 cm (6.44 inch) Full HD+ Display',\n",
       " '16.36 cm (6.44 inch) Full HD+ Display',\n",
       " '16.33 cm (6.43 inch) Display',\n",
       " '16.33 cm (6.43 inch) Display']"
      ]
     },
     "execution_count": 58,
     "metadata": {},
     "output_type": "execute_result"
    }
   ],
   "source": [
    "display_size"
   ]
  },
  {
   "cell_type": "code",
   "execution_count": 59,
   "id": "c440bba6",
   "metadata": {},
   "outputs": [],
   "source": [
    "for i in product_url:\n",
    "    driver.get(i)\n",
    "    try:\n",
    "        b_battery=driver.find_element(By.XPATH,'/html/body/div[1]/div/div[3]/div[1]/div[2]/div[6]/div[1]/div/div[2]/ul/li[4]')\n",
    "        battery_capacity.append(b_battery.text)\n",
    "    except NoSuchElementException:\n",
    "        battery_capacity.append('-')"
   ]
  },
  {
   "cell_type": "code",
   "execution_count": 60,
   "id": "86b85d88",
   "metadata": {},
   "outputs": [
    {
     "data": {
      "text/plain": [
       "['4115 mAh Battery',\n",
       " '4115 mAh Battery',\n",
       " '4115 mAh Battery',\n",
       " '4115 mAh Battery',\n",
       " '4115 mAh Battery',\n",
       " '4115 mAh Battery',\n",
       " '4500 mAh Battery',\n",
       " '4500 mAh Battery']"
      ]
     },
     "execution_count": 60,
     "metadata": {},
     "output_type": "execute_result"
    }
   ],
   "source": [
    "battery_capacity"
   ]
  },
  {
   "cell_type": "code",
   "execution_count": 61,
   "id": "9db949f2",
   "metadata": {},
   "outputs": [],
   "source": [
    "for i in product_url:\n",
    "    driver.get(i)\n",
    "    try:\n",
    "        p_price=driver.find_element(By.XPATH,'/html/body/div[1]/div/div[3]/div[1]/div[2]/div[2]/div/div[3]/div[1]/div/div')\n",
    "        prize.append(p_price.text)\n",
    "    except NoSuchElementException:\n",
    "        prize.append('-')"
   ]
  },
  {
   "cell_type": "code",
   "execution_count": 62,
   "id": "061abb07",
   "metadata": {},
   "outputs": [
    {
     "data": {
      "text/plain": [
       "['₹29,999',\n",
       " '₹29,999',\n",
       " '₹27,999',\n",
       " '₹27,999',\n",
       " '₹24,999',\n",
       " '₹24,999',\n",
       " '₹19,999',\n",
       " '₹24,990']"
      ]
     },
     "execution_count": 62,
     "metadata": {},
     "output_type": "execute_result"
    }
   ],
   "source": [
    "prize"
   ]
  },
  {
   "cell_type": "code",
   "execution_count": 63,
   "id": "e90f80b2",
   "metadata": {},
   "outputs": [],
   "source": [
    "for i in product_url:\n",
    "    driver.get(i)\n",
    "    try:\n",
    "        r_rom=driver.find_element(By.XPATH,'/html/body/div[1]/div/div[3]/div[1]/div[2]/div[6]/div[1]/div/div[2]/ul/li[1]')\n",
    "        rom.append(r_rom.text)\n",
    "    except NoSuchElementException:\n",
    "        rom.append('-')"
   ]
  },
  {
   "cell_type": "code",
   "execution_count": 64,
   "id": "1a142154",
   "metadata": {},
   "outputs": [
    {
     "data": {
      "text/plain": [
       "['12 GB RAM | 256 GB ROM',\n",
       " '12 GB RAM | 256 GB ROM',\n",
       " '8 GB RAM | 128 GB ROM',\n",
       " '8 GB RAM | 128 GB ROM',\n",
       " '6 GB RAM | 64 GB ROM',\n",
       " '6 GB RAM | 64 GB ROM',\n",
       " '6 GB RAM | 128 GB ROM',\n",
       " '8 GB RAM | 128 GB ROM']"
      ]
     },
     "execution_count": 64,
     "metadata": {},
     "output_type": "execute_result"
    }
   ],
   "source": [
    "rom"
   ]
  },
  {
   "cell_type": "code",
   "execution_count": 103,
   "id": "a7053b81",
   "metadata": {},
   "outputs": [],
   "source": [
    "driver=webdriver.Chrome(r\"chromedriver.exe\")"
   ]
  },
  {
   "cell_type": "code",
   "execution_count": 104,
   "id": "96bc272b",
   "metadata": {},
   "outputs": [],
   "source": [
    "driver.get('https://www.forbes.com/')"
   ]
  },
  {
   "cell_type": "code",
   "execution_count": 105,
   "id": "d4304140",
   "metadata": {},
   "outputs": [],
   "source": [
    "select=driver.find_element(By.CLASS_NAME,\"_8FT-x3t4\")\n",
    "select.click()"
   ]
  },
  {
   "cell_type": "code",
   "execution_count": 107,
   "id": "ec333283",
   "metadata": {},
   "outputs": [],
   "source": [
    "bill=driver.find_element(By.CLASS_NAME,\"mpBfVZz3\")\n",
    "bill.click()"
   ]
  },
  {
   "cell_type": "code",
   "execution_count": 108,
   "id": "499ee963",
   "metadata": {},
   "outputs": [
    {
     "ename": "NoSuchElementException",
     "evalue": "Message: no such element: Unable to locate element: {\"method\":\"css selector\",\"selector\":\".kcBbh5qO\"}\n  (Session info: chrome=112.0.5615.87)\nStacktrace:\nBacktrace:\n\tGetHandleVerifier [0x005CDCE3+50899]\n\t(No symbol) [0x0055E111]\n\t(No symbol) [0x00465588]\n\t(No symbol) [0x004908F9]\n\t(No symbol) [0x00490AFB]\n\t(No symbol) [0x004BF902]\n\t(No symbol) [0x004AB944]\n\t(No symbol) [0x004BE01C]\n\t(No symbol) [0x004AB6F6]\n\t(No symbol) [0x00487708]\n\t(No symbol) [0x0048886D]\n\tGetHandleVerifier [0x00833EAE+2566302]\n\tGetHandleVerifier [0x008692B1+2784417]\n\tGetHandleVerifier [0x0086327C+2759788]\n\tGetHandleVerifier [0x00665740+672048]\n\t(No symbol) [0x00568872]\n\t(No symbol) [0x005641C8]\n\t(No symbol) [0x005642AB]\n\t(No symbol) [0x005571B7]\n\tBaseThreadInitThunk [0x76196B89+25]\n\tRtlGetFullPathName_UEx [0x77D88F9F+1215]\n\tRtlGetFullPathName_UEx [0x77D88F6D+1165]\n",
     "output_type": "error",
     "traceback": [
      "\u001b[1;31m---------------------------------------------------------------------------\u001b[0m",
      "\u001b[1;31mNoSuchElementException\u001b[0m                    Traceback (most recent call last)",
      "\u001b[1;32m~\\AppData\\Local\\Temp\\ipykernel_8768\\999253304.py\u001b[0m in \u001b[0;36m<module>\u001b[1;34m\u001b[0m\n\u001b[1;32m----> 1\u001b[1;33m \u001b[0mall\u001b[0m\u001b[1;33m=\u001b[0m\u001b[0mdriver\u001b[0m\u001b[1;33m.\u001b[0m\u001b[0mfind_element\u001b[0m\u001b[1;33m(\u001b[0m\u001b[0mBy\u001b[0m\u001b[1;33m.\u001b[0m\u001b[0mCLASS_NAME\u001b[0m\u001b[1;33m,\u001b[0m\u001b[1;34m\"kcBbh5qO\"\u001b[0m\u001b[1;33m)\u001b[0m\u001b[1;33m\u001b[0m\u001b[1;33m\u001b[0m\u001b[0m\n\u001b[0m\u001b[0;32m      2\u001b[0m \u001b[0mall\u001b[0m\u001b[1;33m.\u001b[0m\u001b[0mclick\u001b[0m\u001b[1;33m(\u001b[0m\u001b[1;33m)\u001b[0m\u001b[1;33m\u001b[0m\u001b[1;33m\u001b[0m\u001b[0m\n",
      "\u001b[1;32m~\\anaconda3\\lib\\site-packages\\selenium\\webdriver\\remote\\webdriver.py\u001b[0m in \u001b[0;36mfind_element\u001b[1;34m(self, by, value)\u001b[0m\n\u001b[0;32m    829\u001b[0m             \u001b[0mvalue\u001b[0m \u001b[1;33m=\u001b[0m \u001b[1;34mf'[name=\"{value}\"]'\u001b[0m\u001b[1;33m\u001b[0m\u001b[1;33m\u001b[0m\u001b[0m\n\u001b[0;32m    830\u001b[0m \u001b[1;33m\u001b[0m\u001b[0m\n\u001b[1;32m--> 831\u001b[1;33m         \u001b[1;32mreturn\u001b[0m \u001b[0mself\u001b[0m\u001b[1;33m.\u001b[0m\u001b[0mexecute\u001b[0m\u001b[1;33m(\u001b[0m\u001b[0mCommand\u001b[0m\u001b[1;33m.\u001b[0m\u001b[0mFIND_ELEMENT\u001b[0m\u001b[1;33m,\u001b[0m \u001b[1;33m{\u001b[0m\u001b[1;34m\"using\"\u001b[0m\u001b[1;33m:\u001b[0m \u001b[0mby\u001b[0m\u001b[1;33m,\u001b[0m \u001b[1;34m\"value\"\u001b[0m\u001b[1;33m:\u001b[0m \u001b[0mvalue\u001b[0m\u001b[1;33m}\u001b[0m\u001b[1;33m)\u001b[0m\u001b[1;33m[\u001b[0m\u001b[1;34m\"value\"\u001b[0m\u001b[1;33m]\u001b[0m\u001b[1;33m\u001b[0m\u001b[1;33m\u001b[0m\u001b[0m\n\u001b[0m\u001b[0;32m    832\u001b[0m \u001b[1;33m\u001b[0m\u001b[0m\n\u001b[0;32m    833\u001b[0m     \u001b[1;32mdef\u001b[0m \u001b[0mfind_elements\u001b[0m\u001b[1;33m(\u001b[0m\u001b[0mself\u001b[0m\u001b[1;33m,\u001b[0m \u001b[0mby\u001b[0m\u001b[1;33m=\u001b[0m\u001b[0mBy\u001b[0m\u001b[1;33m.\u001b[0m\u001b[0mID\u001b[0m\u001b[1;33m,\u001b[0m \u001b[0mvalue\u001b[0m\u001b[1;33m:\u001b[0m \u001b[0mOptional\u001b[0m\u001b[1;33m[\u001b[0m\u001b[0mstr\u001b[0m\u001b[1;33m]\u001b[0m \u001b[1;33m=\u001b[0m \u001b[1;32mNone\u001b[0m\u001b[1;33m)\u001b[0m \u001b[1;33m->\u001b[0m \u001b[0mList\u001b[0m\u001b[1;33m[\u001b[0m\u001b[0mWebElement\u001b[0m\u001b[1;33m]\u001b[0m\u001b[1;33m:\u001b[0m\u001b[1;33m\u001b[0m\u001b[1;33m\u001b[0m\u001b[0m\n",
      "\u001b[1;32m~\\anaconda3\\lib\\site-packages\\selenium\\webdriver\\remote\\webdriver.py\u001b[0m in \u001b[0;36mexecute\u001b[1;34m(self, driver_command, params)\u001b[0m\n\u001b[0;32m    438\u001b[0m         \u001b[0mresponse\u001b[0m \u001b[1;33m=\u001b[0m \u001b[0mself\u001b[0m\u001b[1;33m.\u001b[0m\u001b[0mcommand_executor\u001b[0m\u001b[1;33m.\u001b[0m\u001b[0mexecute\u001b[0m\u001b[1;33m(\u001b[0m\u001b[0mdriver_command\u001b[0m\u001b[1;33m,\u001b[0m \u001b[0mparams\u001b[0m\u001b[1;33m)\u001b[0m\u001b[1;33m\u001b[0m\u001b[1;33m\u001b[0m\u001b[0m\n\u001b[0;32m    439\u001b[0m         \u001b[1;32mif\u001b[0m \u001b[0mresponse\u001b[0m\u001b[1;33m:\u001b[0m\u001b[1;33m\u001b[0m\u001b[1;33m\u001b[0m\u001b[0m\n\u001b[1;32m--> 440\u001b[1;33m             \u001b[0mself\u001b[0m\u001b[1;33m.\u001b[0m\u001b[0merror_handler\u001b[0m\u001b[1;33m.\u001b[0m\u001b[0mcheck_response\u001b[0m\u001b[1;33m(\u001b[0m\u001b[0mresponse\u001b[0m\u001b[1;33m)\u001b[0m\u001b[1;33m\u001b[0m\u001b[1;33m\u001b[0m\u001b[0m\n\u001b[0m\u001b[0;32m    441\u001b[0m             \u001b[0mresponse\u001b[0m\u001b[1;33m[\u001b[0m\u001b[1;34m\"value\"\u001b[0m\u001b[1;33m]\u001b[0m \u001b[1;33m=\u001b[0m \u001b[0mself\u001b[0m\u001b[1;33m.\u001b[0m\u001b[0m_unwrap_value\u001b[0m\u001b[1;33m(\u001b[0m\u001b[0mresponse\u001b[0m\u001b[1;33m.\u001b[0m\u001b[0mget\u001b[0m\u001b[1;33m(\u001b[0m\u001b[1;34m\"value\"\u001b[0m\u001b[1;33m,\u001b[0m \u001b[1;32mNone\u001b[0m\u001b[1;33m)\u001b[0m\u001b[1;33m)\u001b[0m\u001b[1;33m\u001b[0m\u001b[1;33m\u001b[0m\u001b[0m\n\u001b[0;32m    442\u001b[0m             \u001b[1;32mreturn\u001b[0m \u001b[0mresponse\u001b[0m\u001b[1;33m\u001b[0m\u001b[1;33m\u001b[0m\u001b[0m\n",
      "\u001b[1;32m~\\anaconda3\\lib\\site-packages\\selenium\\webdriver\\remote\\errorhandler.py\u001b[0m in \u001b[0;36mcheck_response\u001b[1;34m(self, response)\u001b[0m\n\u001b[0;32m    243\u001b[0m                 \u001b[0malert_text\u001b[0m \u001b[1;33m=\u001b[0m \u001b[0mvalue\u001b[0m\u001b[1;33m[\u001b[0m\u001b[1;34m\"alert\"\u001b[0m\u001b[1;33m]\u001b[0m\u001b[1;33m.\u001b[0m\u001b[0mget\u001b[0m\u001b[1;33m(\u001b[0m\u001b[1;34m\"text\"\u001b[0m\u001b[1;33m)\u001b[0m\u001b[1;33m\u001b[0m\u001b[1;33m\u001b[0m\u001b[0m\n\u001b[0;32m    244\u001b[0m             \u001b[1;32mraise\u001b[0m \u001b[0mexception_class\u001b[0m\u001b[1;33m(\u001b[0m\u001b[0mmessage\u001b[0m\u001b[1;33m,\u001b[0m \u001b[0mscreen\u001b[0m\u001b[1;33m,\u001b[0m \u001b[0mstacktrace\u001b[0m\u001b[1;33m,\u001b[0m \u001b[0malert_text\u001b[0m\u001b[1;33m)\u001b[0m  \u001b[1;31m# type: ignore[call-arg]  # mypy is not smart enough here\u001b[0m\u001b[1;33m\u001b[0m\u001b[1;33m\u001b[0m\u001b[0m\n\u001b[1;32m--> 245\u001b[1;33m         \u001b[1;32mraise\u001b[0m \u001b[0mexception_class\u001b[0m\u001b[1;33m(\u001b[0m\u001b[0mmessage\u001b[0m\u001b[1;33m,\u001b[0m \u001b[0mscreen\u001b[0m\u001b[1;33m,\u001b[0m \u001b[0mstacktrace\u001b[0m\u001b[1;33m)\u001b[0m\u001b[1;33m\u001b[0m\u001b[1;33m\u001b[0m\u001b[0m\n\u001b[0m",
      "\u001b[1;31mNoSuchElementException\u001b[0m: Message: no such element: Unable to locate element: {\"method\":\"css selector\",\"selector\":\".kcBbh5qO\"}\n  (Session info: chrome=112.0.5615.87)\nStacktrace:\nBacktrace:\n\tGetHandleVerifier [0x005CDCE3+50899]\n\t(No symbol) [0x0055E111]\n\t(No symbol) [0x00465588]\n\t(No symbol) [0x004908F9]\n\t(No symbol) [0x00490AFB]\n\t(No symbol) [0x004BF902]\n\t(No symbol) [0x004AB944]\n\t(No symbol) [0x004BE01C]\n\t(No symbol) [0x004AB6F6]\n\t(No symbol) [0x00487708]\n\t(No symbol) [0x0048886D]\n\tGetHandleVerifier [0x00833EAE+2566302]\n\tGetHandleVerifier [0x008692B1+2784417]\n\tGetHandleVerifier [0x0086327C+2759788]\n\tGetHandleVerifier [0x00665740+672048]\n\t(No symbol) [0x00568872]\n\t(No symbol) [0x005641C8]\n\t(No symbol) [0x005642AB]\n\t(No symbol) [0x005571B7]\n\tBaseThreadInitThunk [0x76196B89+25]\n\tRtlGetFullPathName_UEx [0x77D88F9F+1215]\n\tRtlGetFullPathName_UEx [0x77D88F6D+1165]\n"
     ]
    }
   ],
   "source": [
    "all=driver.find_element(By.CLASS_NAME,\"kcBbh5qO\")\n",
    "all.click()"
   ]
  },
  {
   "cell_type": "code",
   "execution_count": 83,
   "id": "9e0b0328",
   "metadata": {},
   "outputs": [],
   "source": [
    "world=driver.find_element(By.CLASS_NAME,\"vwg1_\")\n",
    "world.click()"
   ]
  },
  {
   "cell_type": "code",
   "execution_count": 90,
   "id": "153534e2",
   "metadata": {},
   "outputs": [
    {
     "ename": "SyntaxError",
     "evalue": "invalid syntax (1997862608.py, line 6)",
     "output_type": "error",
     "traceback": [
      "\u001b[1;36m  File \u001b[1;32m\"C:\\Users\\nirik\\AppData\\Local\\Temp\\ipykernel_8768\\1997862608.py\"\u001b[1;36m, line \u001b[1;32m6\u001b[0m\n\u001b[1;33m    name.append(names.)\u001b[0m\n\u001b[1;37m                      ^\u001b[0m\n\u001b[1;31mSyntaxError\u001b[0m\u001b[1;31m:\u001b[0m invalid syntax\n"
     ]
    }
   ],
   "source": [
    "name=[]\n",
    "start=0\n",
    "end=14\n",
    "for page in range(start,end):\n",
    "    names=driver.find_elements(By.XPATH,'//div[@class=\"Table_dataCell__2QCve\"]')\n",
    "    name.append(names.t)\n",
    "    next=driver.find_elements(By.XPATH,'/html/body/div[1]/div[2]/div[3]/div[2]/div[2]/div[2]/div[2]/div[2]/div[1]/button[2]/div/span[2]/svg')"
   ]
  },
  {
   "cell_type": "code",
   "execution_count": 88,
   "id": "cd755c9c",
   "metadata": {},
   "outputs": [
    {
     "data": {
      "text/plain": [
       "['Bernard Arnault & family',\n",
       " 'Bernard Arnault & family',\n",
       " 'Bernard Arnault & family',\n",
       " 'Bernard Arnault & family',\n",
       " 'Bernard Arnault & family',\n",
       " 'Bernard Arnault & family',\n",
       " 'Bernard Arnault & family',\n",
       " 'Bernard Arnault & family',\n",
       " 'Bernard Arnault & family',\n",
       " 'Bernard Arnault & family',\n",
       " 'Bernard Arnault & family',\n",
       " 'Bernard Arnault & family',\n",
       " 'Bernard Arnault & family',\n",
       " 'Bernard Arnault & family']"
      ]
     },
     "execution_count": 88,
     "metadata": {},
     "output_type": "execute_result"
    }
   ],
   "source": [
    "name\n"
   ]
  },
  {
   "cell_type": "code",
   "execution_count": null,
   "id": "a3a27eb5",
   "metadata": {},
   "outputs": [],
   "source": []
  }
 ],
 "metadata": {
  "kernelspec": {
   "display_name": "Python 3 (ipykernel)",
   "language": "python",
   "name": "python3"
  },
  "language_info": {
   "codemirror_mode": {
    "name": "ipython",
    "version": 3
   },
   "file_extension": ".py",
   "mimetype": "text/x-python",
   "name": "python",
   "nbconvert_exporter": "python",
   "pygments_lexer": "ipython3",
   "version": "3.9.13"
  }
 },
 "nbformat": 4,
 "nbformat_minor": 5
}
