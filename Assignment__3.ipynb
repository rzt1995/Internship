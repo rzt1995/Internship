{
 "cells": [
  {
   "cell_type": "code",
   "execution_count": 1,
   "id": "bb3ad82d",
   "metadata": {},
   "outputs": [
    {
     "name": "stdout",
     "output_type": "stream",
     "text": [
      "Requirement already satisfied: selenium in c:\\users\\nirik\\anaconda3\\lib\\site-packages (4.8.3)\n",
      "Requirement already satisfied: trio~=0.17 in c:\\users\\nirik\\anaconda3\\lib\\site-packages (from selenium) (0.22.0)\n",
      "Requirement already satisfied: certifi>=2021.10.8 in c:\\users\\nirik\\anaconda3\\lib\\site-packages (from selenium) (2022.9.14)\n",
      "Requirement already satisfied: trio-websocket~=0.9 in c:\\users\\nirik\\anaconda3\\lib\\site-packages (from selenium) (0.10.2)\n",
      "Requirement already satisfied: urllib3[socks]~=1.26 in c:\\users\\nirik\\anaconda3\\lib\\site-packages (from selenium) (1.26.11)\n",
      "Requirement already satisfied: sortedcontainers in c:\\users\\nirik\\anaconda3\\lib\\site-packages (from trio~=0.17->selenium) (2.4.0)\n",
      "Requirement already satisfied: idna in c:\\users\\nirik\\anaconda3\\lib\\site-packages (from trio~=0.17->selenium) (3.3)\n",
      "Requirement already satisfied: async-generator>=1.9 in c:\\users\\nirik\\anaconda3\\lib\\site-packages (from trio~=0.17->selenium) (1.10)\n",
      "Requirement already satisfied: exceptiongroup>=1.0.0rc9 in c:\\users\\nirik\\anaconda3\\lib\\site-packages (from trio~=0.17->selenium) (1.1.1)\n",
      "Requirement already satisfied: cffi>=1.14 in c:\\users\\nirik\\anaconda3\\lib\\site-packages (from trio~=0.17->selenium) (1.15.1)\n",
      "Requirement already satisfied: sniffio in c:\\users\\nirik\\anaconda3\\lib\\site-packages (from trio~=0.17->selenium) (1.2.0)\n",
      "Requirement already satisfied: outcome in c:\\users\\nirik\\anaconda3\\lib\\site-packages (from trio~=0.17->selenium) (1.2.0)\n",
      "Requirement already satisfied: attrs>=19.2.0 in c:\\users\\nirik\\anaconda3\\lib\\site-packages (from trio~=0.17->selenium) (21.4.0)\n",
      "Requirement already satisfied: wsproto>=0.14 in c:\\users\\nirik\\anaconda3\\lib\\site-packages (from trio-websocket~=0.9->selenium) (1.2.0)\n",
      "Requirement already satisfied: PySocks!=1.5.7,<2.0,>=1.5.6 in c:\\users\\nirik\\anaconda3\\lib\\site-packages (from urllib3[socks]~=1.26->selenium) (1.7.1)\n",
      "Requirement already satisfied: pycparser in c:\\users\\nirik\\anaconda3\\lib\\site-packages (from cffi>=1.14->trio~=0.17->selenium) (2.21)\n",
      "Requirement already satisfied: h11<1,>=0.9.0 in c:\\users\\nirik\\anaconda3\\lib\\site-packages (from wsproto>=0.14->trio-websocket~=0.9->selenium) (0.14.0)\n"
     ]
    }
   ],
   "source": [
    "!pip install selenium"
   ]
  },
  {
   "cell_type": "code",
   "execution_count": 51,
   "id": "00d1aafe",
   "metadata": {},
   "outputs": [],
   "source": [
    "import selenium\n",
    "from selenium import webdriver\n",
    "import warnings\n",
    "warnings.filterwarnings('ignore')\n",
    "from selenium.webdriver.common.by import By\n",
    "from selenium.common.exceptions import NoSuchElementException,StaleElementReferenceException\n",
    "import numpy as np\n",
    "import pandas as pd\n",
    "from bs4 import BeautifulSoup\n",
    "import requests\n",
    "import time"
   ]
  },
  {
   "cell_type": "code",
   "execution_count": 16,
   "id": "39bbbd12",
   "metadata": {},
   "outputs": [],
   "source": [
    "driver= webdriver.Chrome(r\"chromedriver.exe\")"
   ]
  },
  {
   "cell_type": "code",
   "execution_count": 17,
   "id": "2682a1c3",
   "metadata": {},
   "outputs": [],
   "source": [
    "driver.get('https://www.amazon.in/')"
   ]
  },
  {
   "cell_type": "code",
   "execution_count": 18,
   "id": "d73f57dc",
   "metadata": {},
   "outputs": [],
   "source": [
    "search=driver.find_element(By.XPATH,'/html/body/div[1]/header/div/div[1]/div[2]/div/form/div[2]/div[1]/input')\n",
    "search.send_keys('ac')"
   ]
  },
  {
   "cell_type": "code",
   "execution_count": 19,
   "id": "87d7c405",
   "metadata": {},
   "outputs": [],
   "source": [
    "button=driver.find_element(By.XPATH,'/html/body/div[1]/header/div/div[1]/div[2]/div/form/div[3]/div/span/input')\n",
    "button.click()"
   ]
  },
  {
   "cell_type": "code",
   "execution_count": 20,
   "id": "01aa0341",
   "metadata": {},
   "outputs": [],
   "source": [
    "product_url=[]\n",
    "start=0\n",
    "end=3\n",
    "for page in range(start,end):\n",
    "    \n",
    "    url=driver.find_elements(By.XPATH,'//a[@class=\"a-link-normal s-underline-text s-underline-link-text s-link-style a-text-normal\"]')\n",
    "    for i in url:\n",
    "        product_url.append(i.get_attribute('href'))\n",
    "        next_button=driver.find_elements(By.XPATH,'/html/body/div[1]/div[2]/div[1]/div[1]/div/span[1]/div[1]/div[31]/div/div/span/a[3]')"
   ]
  },
  {
   "cell_type": "code",
   "execution_count": 22,
   "id": "ea555e8a",
   "metadata": {},
   "outputs": [
    {
     "data": {
      "text/plain": [
       "66"
      ]
     },
     "execution_count": 22,
     "metadata": {},
     "output_type": "execute_result"
    }
   ],
   "source": [
    "len(product_url)"
   ]
  },
  {
   "cell_type": "code",
   "execution_count": 23,
   "id": "34d08bbd",
   "metadata": {},
   "outputs": [
    {
     "data": {
      "text/plain": [
       "['https://www.amazon.in/sspa/click?ie=UTF8&spc=MTo2NDA1NzY4ODQ0MTIzMjkxOjE2ODE0MDA1NTA6c3BfYXRmOjIwMDk5NDI1NzM5Njk4OjowOjo&url=%2FAmazon-Basics-Inverter-Bacterial-Copper%2Fdp%2FB0BCGHRM5F%2Fref%3Dsr_1_1_sspa%3Fcrid%3D1Y458EPT8NBJV%26keywords%3Dac%26qid%3D1681400550%26sprefix%3D%252Caps%252C285%26sr%3D8-1-spons%26sp_csd%3Dd2lkZ2V0TmFtZT1zcF9hdGY%26psc%3D1',\n",
       " 'https://www.amazon.in/sspa/click?ie=UTF8&spc=MTo2NDA1NzY4ODQ0MTIzMjkxOjE2ODE0MDA1NTA6c3BfYXRmOjIwMTEyMTg0OTY0ODk4OjowOjo&url=%2FBlue-Star-Convertible-Stabalizer-IA315YNU%2Fdp%2FB0BN6WFT1K%2Fref%3Dsr_1_2_sspa%3Fcrid%3D1Y458EPT8NBJV%26keywords%3Dac%26qid%3D1681400550%26sprefix%3D%252Caps%252C285%26sr%3D8-2-spons%26sp_csd%3Dd2lkZ2V0TmFtZT1zcF9hdGY%26psc%3D1',\n",
       " 'https://www.amazon.in/Voltas-Adjustable-173V-Vectra-Platina/dp/B0BRJ7N92P/ref=sr_1_3?crid=1Y458EPT8NBJV&keywords=ac&qid=1681400550&sprefix=%2Caps%2C285&sr=8-3',\n",
       " 'https://www.amazon.in/Lloyd-Inverter-Convertible-Anti-Viral-GLS18I3FWAMC/dp/B0BRKXTSBT/ref=sr_1_4?crid=1Y458EPT8NBJV&keywords=ac&qid=1681400550&sprefix=%2Caps%2C285&sr=8-4',\n",
       " 'https://www.amazon.in/LG-Convertible-Anti-Virus-Protection-RS-Q19YNZE/dp/B0BQ3MXML8/ref=sr_1_5?crid=1Y458EPT8NBJV&keywords=ac&qid=1681400550&sprefix=%2Caps%2C285&sr=8-5',\n",
       " 'https://www.amazon.in/Lloyd-Inverter-Convertible-Anti-Viral-GLS12I3FWAEV/dp/B0BRKX6FD5/ref=sr_1_6?crid=1Y458EPT8NBJV&keywords=ac&qid=1681400550&sprefix=%2Caps%2C285&sr=8-6',\n",
       " 'https://www.amazon.in/LG-Inverter-Convertible-Protection-Rs-Q13Jnye/dp/B0BPYN9JGF/ref=sr_1_7?crid=1Y458EPT8NBJV&keywords=ac&qid=1681400550&sprefix=%2Caps%2C285&sr=8-7',\n",
       " 'https://www.amazon.in/Panasonic-Convertible-additional-Purification-CU-NU18YKY5W/dp/B0BRJ1973T/ref=sr_1_8?crid=1Y458EPT8NBJV&keywords=ac&qid=1681400550&sprefix=%2Caps%2C285&sr=8-8',\n",
       " 'https://www.amazon.in/LG-Convertible-Anti-Virus-Protection-RS-Q19JNXE/dp/B0BQ3MJ1TG/ref=sr_1_9?crid=1Y458EPT8NBJV&keywords=ac&qid=1681400550&sprefix=%2Caps%2C285&sr=8-9',\n",
       " 'https://www.amazon.in/Lloyd-Inverter-Convertible-Anti-Viral-GLS18I5FWBEV/dp/B0BRKXBRMF/ref=sr_1_10?crid=1Y458EPT8NBJV&keywords=ac&qid=1681400550&sprefix=%2Caps%2C285&sr=8-10',\n",
       " 'https://www.amazon.in/sspa/click?ie=UTF8&spc=MTo2NDA1NzY4ODQ0MTIzMjkxOjE2ODE0MDA1NTA6c3BfbXRmOjIwMTE3ODkwODUxMDk4OjowOjo&url=%2FPanasonic-Convertible-additional-Purification-CU-NU18YKY5W%2Fdp%2FB0BRJ1973T%2Fref%3Dsr_1_11_sspa%3Fcrid%3D1Y458EPT8NBJV%26keywords%3Dac%26qid%3D1681400550%26sprefix%3D%252Caps%252C285%26sr%3D8-11-spons%26sp_csd%3Dd2lkZ2V0TmFtZT1zcF9tdGY%26psc%3D1',\n",
       " 'https://www.amazon.in/sspa/click?ie=UTF8&spc=MTo2NDA1NzY4ODQ0MTIzMjkxOjE2ODE0MDA1NTA6c3BfbXRmOjIwMTE3ODYyOTIxNDk4OjowOjo&url=%2FPanasonic-Convertible-additional-Purification-CU-SU18YKYWT%2Fdp%2FB0BRJ5QH8G%2Fref%3Dsr_1_12_sspa%3Fcrid%3D1Y458EPT8NBJV%26keywords%3Dac%26qid%3D1681400550%26sprefix%3D%252Caps%252C285%26sr%3D8-12-spons%26sp_csd%3Dd2lkZ2V0TmFtZT1zcF9tdGY%26psc%3D1',\n",
       " 'https://www.amazon.in/Panasonic-Convertible-additional-Purification-CU-NU12YKY5W/dp/B0BRHYBC3D/ref=sr_1_13?crid=1Y458EPT8NBJV&keywords=ac&qid=1681400550&sprefix=%2Caps%2C285&sr=8-13',\n",
       " 'https://www.amazon.in/LG-Convertible-Anti-Virus-Protection-Rs-Q14Ynze/dp/B0BPYL1R9N/ref=sr_1_14?crid=1Y458EPT8NBJV&keywords=ac&qid=1681400550&sprefix=%2Caps%2C285&sr=8-14',\n",
       " 'https://www.amazon.in/Whirlpool-Flexicool-Inverter-Convertible-Cooling/dp/B0BR5RF5KT/ref=sr_1_15?crid=1Y458EPT8NBJV&keywords=ac&qid=1681400550&sprefix=%2Caps%2C285&sr=8-15',\n",
       " 'https://www.amazon.in/Cruise-Inverter-Filtration-CWCVBG-VQ1W123-Dehumidifier/dp/B09474HJF5/ref=sr_1_16?crid=1Y458EPT8NBJV&keywords=ac&qid=1681400550&sprefix=%2Caps%2C285&sr=8-16',\n",
       " 'https://www.amazon.in/Samsung-Inverter-Convertible-Anti-Bacteria-AR18CYNZABE/dp/B0BRQD9Y92/ref=sr_1_17?crid=1Y458EPT8NBJV&keywords=ac&qid=1681400550&sprefix=%2Caps%2C285&sr=8-17',\n",
       " 'https://www.amazon.in/Godrej-Convertible-Split-AC-12TINV3R32-GWA/dp/B0BN37ZCF7/ref=sr_1_18?crid=1Y458EPT8NBJV&keywords=ac&qid=1681400550&sprefix=%2Caps%2C285&sr=8-18',\n",
       " 'https://www.amazon.in/Lloyd-Copper-Anti-Viral-Filter-GLS12C2XWASD/dp/B0BRKY7H99/ref=sr_1_19?crid=1Y458EPT8NBJV&keywords=ac&qid=1681400550&sprefix=%2Caps%2C285&sr=8-19',\n",
       " 'https://www.amazon.in/Blue-Star-Convertible-Stabalizer-IC512YNU/dp/B0BW9LFNRM/ref=sr_1_20?crid=1Y458EPT8NBJV&keywords=ac&qid=1681400550&sprefix=%2Caps%2C285&sr=8-20',\n",
       " 'https://www.amazon.in/sspa/click?ie=UTF8&spc=MTo2NDA1NzY4ODQ0MTIzMjkxOjE2ODE0MDA1NTA6c3BfYnRmOjIwMTE3ODg3ODE1Njk4OjowOjo&url=%2FPanasonic-Convertible-additional-Purification-CU-SU24YKYWA%2Fdp%2FB0BRJ6KMGS%2Fref%3Dsr_1_21_sspa%3Fcrid%3D1Y458EPT8NBJV%26keywords%3Dac%26qid%3D1681400550%26sprefix%3D%252Caps%252C285%26sr%3D8-21-spons%26sp_csd%3Dd2lkZ2V0TmFtZT1zcF9idGY%26psc%3D1',\n",
       " 'https://www.amazon.in/sspa/click?ie=UTF8&spc=MTo2NDA1NzY4ODQ0MTIzMjkxOjE2ODE0MDA1NTA6c3BfYnRmOjIwMTE3OTE1MjcyOTk4OjowOjo&url=%2FPanasonic-Convertible-additional-Purification-CU-NU18YKY4W%2Fdp%2FB0BRHZVBN1%2Fref%3Dsr_1_22_sspa%3Fcrid%3D1Y458EPT8NBJV%26keywords%3Dac%26qid%3D1681400550%26sprefix%3D%252Caps%252C285%26sr%3D8-22-spons%26sp_csd%3Dd2lkZ2V0TmFtZT1zcF9idGY%26psc%3D1',\n",
       " 'https://www.amazon.in/sspa/click?ie=UTF8&spc=MTo2NDA1NzY4ODQ0MTIzMjkxOjE2ODE0MDA1NTA6c3BfYXRmOjIwMDk5NDI1NzM5Njk4OjowOjo&url=%2FAmazon-Basics-Inverter-Bacterial-Copper%2Fdp%2FB0BCGHRM5F%2Fref%3Dsr_1_1_sspa%3Fcrid%3D1Y458EPT8NBJV%26keywords%3Dac%26qid%3D1681400550%26sprefix%3D%252Caps%252C285%26sr%3D8-1-spons%26sp_csd%3Dd2lkZ2V0TmFtZT1zcF9hdGY%26psc%3D1',\n",
       " 'https://www.amazon.in/sspa/click?ie=UTF8&spc=MTo2NDA1NzY4ODQ0MTIzMjkxOjE2ODE0MDA1NTA6c3BfYXRmOjIwMTEyMTg0OTY0ODk4OjowOjo&url=%2FBlue-Star-Convertible-Stabalizer-IA315YNU%2Fdp%2FB0BN6WFT1K%2Fref%3Dsr_1_2_sspa%3Fcrid%3D1Y458EPT8NBJV%26keywords%3Dac%26qid%3D1681400550%26sprefix%3D%252Caps%252C285%26sr%3D8-2-spons%26sp_csd%3Dd2lkZ2V0TmFtZT1zcF9hdGY%26psc%3D1',\n",
       " 'https://www.amazon.in/Voltas-Adjustable-173V-Vectra-Platina/dp/B0BRJ7N92P/ref=sr_1_3?crid=1Y458EPT8NBJV&keywords=ac&qid=1681400550&sprefix=%2Caps%2C285&sr=8-3',\n",
       " 'https://www.amazon.in/Lloyd-Inverter-Convertible-Anti-Viral-GLS18I3FWAMC/dp/B0BRKXTSBT/ref=sr_1_4?crid=1Y458EPT8NBJV&keywords=ac&qid=1681400550&sprefix=%2Caps%2C285&sr=8-4',\n",
       " 'https://www.amazon.in/LG-Convertible-Anti-Virus-Protection-RS-Q19YNZE/dp/B0BQ3MXML8/ref=sr_1_5?crid=1Y458EPT8NBJV&keywords=ac&qid=1681400550&sprefix=%2Caps%2C285&sr=8-5',\n",
       " 'https://www.amazon.in/Lloyd-Inverter-Convertible-Anti-Viral-GLS12I3FWAEV/dp/B0BRKX6FD5/ref=sr_1_6?crid=1Y458EPT8NBJV&keywords=ac&qid=1681400550&sprefix=%2Caps%2C285&sr=8-6',\n",
       " 'https://www.amazon.in/LG-Inverter-Convertible-Protection-Rs-Q13Jnye/dp/B0BPYN9JGF/ref=sr_1_7?crid=1Y458EPT8NBJV&keywords=ac&qid=1681400550&sprefix=%2Caps%2C285&sr=8-7',\n",
       " 'https://www.amazon.in/Panasonic-Convertible-additional-Purification-CU-NU18YKY5W/dp/B0BRJ1973T/ref=sr_1_8?crid=1Y458EPT8NBJV&keywords=ac&qid=1681400550&sprefix=%2Caps%2C285&sr=8-8',\n",
       " 'https://www.amazon.in/LG-Convertible-Anti-Virus-Protection-RS-Q19JNXE/dp/B0BQ3MJ1TG/ref=sr_1_9?crid=1Y458EPT8NBJV&keywords=ac&qid=1681400550&sprefix=%2Caps%2C285&sr=8-9',\n",
       " 'https://www.amazon.in/Lloyd-Inverter-Convertible-Anti-Viral-GLS18I5FWBEV/dp/B0BRKXBRMF/ref=sr_1_10?crid=1Y458EPT8NBJV&keywords=ac&qid=1681400550&sprefix=%2Caps%2C285&sr=8-10',\n",
       " 'https://www.amazon.in/sspa/click?ie=UTF8&spc=MTo2NDA1NzY4ODQ0MTIzMjkxOjE2ODE0MDA1NTA6c3BfbXRmOjIwMTE3ODkwODUxMDk4OjowOjo&url=%2FPanasonic-Convertible-additional-Purification-CU-NU18YKY5W%2Fdp%2FB0BRJ1973T%2Fref%3Dsr_1_11_sspa%3Fcrid%3D1Y458EPT8NBJV%26keywords%3Dac%26qid%3D1681400550%26sprefix%3D%252Caps%252C285%26sr%3D8-11-spons%26sp_csd%3Dd2lkZ2V0TmFtZT1zcF9tdGY%26psc%3D1',\n",
       " 'https://www.amazon.in/sspa/click?ie=UTF8&spc=MTo2NDA1NzY4ODQ0MTIzMjkxOjE2ODE0MDA1NTA6c3BfbXRmOjIwMTE3ODYyOTIxNDk4OjowOjo&url=%2FPanasonic-Convertible-additional-Purification-CU-SU18YKYWT%2Fdp%2FB0BRJ5QH8G%2Fref%3Dsr_1_12_sspa%3Fcrid%3D1Y458EPT8NBJV%26keywords%3Dac%26qid%3D1681400550%26sprefix%3D%252Caps%252C285%26sr%3D8-12-spons%26sp_csd%3Dd2lkZ2V0TmFtZT1zcF9tdGY%26psc%3D1',\n",
       " 'https://www.amazon.in/Panasonic-Convertible-additional-Purification-CU-NU12YKY5W/dp/B0BRHYBC3D/ref=sr_1_13?crid=1Y458EPT8NBJV&keywords=ac&qid=1681400550&sprefix=%2Caps%2C285&sr=8-13',\n",
       " 'https://www.amazon.in/LG-Convertible-Anti-Virus-Protection-Rs-Q14Ynze/dp/B0BPYL1R9N/ref=sr_1_14?crid=1Y458EPT8NBJV&keywords=ac&qid=1681400550&sprefix=%2Caps%2C285&sr=8-14',\n",
       " 'https://www.amazon.in/Whirlpool-Flexicool-Inverter-Convertible-Cooling/dp/B0BR5RF5KT/ref=sr_1_15?crid=1Y458EPT8NBJV&keywords=ac&qid=1681400550&sprefix=%2Caps%2C285&sr=8-15',\n",
       " 'https://www.amazon.in/Cruise-Inverter-Filtration-CWCVBG-VQ1W123-Dehumidifier/dp/B09474HJF5/ref=sr_1_16?crid=1Y458EPT8NBJV&keywords=ac&qid=1681400550&sprefix=%2Caps%2C285&sr=8-16',\n",
       " 'https://www.amazon.in/Samsung-Inverter-Convertible-Anti-Bacteria-AR18CYNZABE/dp/B0BRQD9Y92/ref=sr_1_17?crid=1Y458EPT8NBJV&keywords=ac&qid=1681400550&sprefix=%2Caps%2C285&sr=8-17',\n",
       " 'https://www.amazon.in/Godrej-Convertible-Split-AC-12TINV3R32-GWA/dp/B0BN37ZCF7/ref=sr_1_18?crid=1Y458EPT8NBJV&keywords=ac&qid=1681400550&sprefix=%2Caps%2C285&sr=8-18',\n",
       " 'https://www.amazon.in/Lloyd-Copper-Anti-Viral-Filter-GLS12C2XWASD/dp/B0BRKY7H99/ref=sr_1_19?crid=1Y458EPT8NBJV&keywords=ac&qid=1681400550&sprefix=%2Caps%2C285&sr=8-19',\n",
       " 'https://www.amazon.in/Blue-Star-Convertible-Stabalizer-IC512YNU/dp/B0BW9LFNRM/ref=sr_1_20?crid=1Y458EPT8NBJV&keywords=ac&qid=1681400550&sprefix=%2Caps%2C285&sr=8-20',\n",
       " 'https://www.amazon.in/sspa/click?ie=UTF8&spc=MTo2NDA1NzY4ODQ0MTIzMjkxOjE2ODE0MDA1NTA6c3BfYnRmOjIwMTE3ODg3ODE1Njk4OjowOjo&url=%2FPanasonic-Convertible-additional-Purification-CU-SU24YKYWA%2Fdp%2FB0BRJ6KMGS%2Fref%3Dsr_1_21_sspa%3Fcrid%3D1Y458EPT8NBJV%26keywords%3Dac%26qid%3D1681400550%26sprefix%3D%252Caps%252C285%26sr%3D8-21-spons%26sp_csd%3Dd2lkZ2V0TmFtZT1zcF9idGY%26psc%3D1',\n",
       " 'https://www.amazon.in/sspa/click?ie=UTF8&spc=MTo2NDA1NzY4ODQ0MTIzMjkxOjE2ODE0MDA1NTA6c3BfYnRmOjIwMTE3OTE1MjcyOTk4OjowOjo&url=%2FPanasonic-Convertible-additional-Purification-CU-NU18YKY4W%2Fdp%2FB0BRHZVBN1%2Fref%3Dsr_1_22_sspa%3Fcrid%3D1Y458EPT8NBJV%26keywords%3Dac%26qid%3D1681400550%26sprefix%3D%252Caps%252C285%26sr%3D8-22-spons%26sp_csd%3Dd2lkZ2V0TmFtZT1zcF9idGY%26psc%3D1',\n",
       " 'https://www.amazon.in/sspa/click?ie=UTF8&spc=MTo2NDA1NzY4ODQ0MTIzMjkxOjE2ODE0MDA1NTA6c3BfYXRmOjIwMDk5NDI1NzM5Njk4OjowOjo&url=%2FAmazon-Basics-Inverter-Bacterial-Copper%2Fdp%2FB0BCGHRM5F%2Fref%3Dsr_1_1_sspa%3Fcrid%3D1Y458EPT8NBJV%26keywords%3Dac%26qid%3D1681400550%26sprefix%3D%252Caps%252C285%26sr%3D8-1-spons%26sp_csd%3Dd2lkZ2V0TmFtZT1zcF9hdGY%26psc%3D1',\n",
       " 'https://www.amazon.in/sspa/click?ie=UTF8&spc=MTo2NDA1NzY4ODQ0MTIzMjkxOjE2ODE0MDA1NTA6c3BfYXRmOjIwMTEyMTg0OTY0ODk4OjowOjo&url=%2FBlue-Star-Convertible-Stabalizer-IA315YNU%2Fdp%2FB0BN6WFT1K%2Fref%3Dsr_1_2_sspa%3Fcrid%3D1Y458EPT8NBJV%26keywords%3Dac%26qid%3D1681400550%26sprefix%3D%252Caps%252C285%26sr%3D8-2-spons%26sp_csd%3Dd2lkZ2V0TmFtZT1zcF9hdGY%26psc%3D1',\n",
       " 'https://www.amazon.in/Voltas-Adjustable-173V-Vectra-Platina/dp/B0BRJ7N92P/ref=sr_1_3?crid=1Y458EPT8NBJV&keywords=ac&qid=1681400550&sprefix=%2Caps%2C285&sr=8-3',\n",
       " 'https://www.amazon.in/Lloyd-Inverter-Convertible-Anti-Viral-GLS18I3FWAMC/dp/B0BRKXTSBT/ref=sr_1_4?crid=1Y458EPT8NBJV&keywords=ac&qid=1681400550&sprefix=%2Caps%2C285&sr=8-4',\n",
       " 'https://www.amazon.in/LG-Convertible-Anti-Virus-Protection-RS-Q19YNZE/dp/B0BQ3MXML8/ref=sr_1_5?crid=1Y458EPT8NBJV&keywords=ac&qid=1681400550&sprefix=%2Caps%2C285&sr=8-5',\n",
       " 'https://www.amazon.in/Lloyd-Inverter-Convertible-Anti-Viral-GLS12I3FWAEV/dp/B0BRKX6FD5/ref=sr_1_6?crid=1Y458EPT8NBJV&keywords=ac&qid=1681400550&sprefix=%2Caps%2C285&sr=8-6',\n",
       " 'https://www.amazon.in/LG-Inverter-Convertible-Protection-Rs-Q13Jnye/dp/B0BPYN9JGF/ref=sr_1_7?crid=1Y458EPT8NBJV&keywords=ac&qid=1681400550&sprefix=%2Caps%2C285&sr=8-7',\n",
       " 'https://www.amazon.in/Panasonic-Convertible-additional-Purification-CU-NU18YKY5W/dp/B0BRJ1973T/ref=sr_1_8?crid=1Y458EPT8NBJV&keywords=ac&qid=1681400550&sprefix=%2Caps%2C285&sr=8-8',\n",
       " 'https://www.amazon.in/LG-Convertible-Anti-Virus-Protection-RS-Q19JNXE/dp/B0BQ3MJ1TG/ref=sr_1_9?crid=1Y458EPT8NBJV&keywords=ac&qid=1681400550&sprefix=%2Caps%2C285&sr=8-9',\n",
       " 'https://www.amazon.in/Lloyd-Inverter-Convertible-Anti-Viral-GLS18I5FWBEV/dp/B0BRKXBRMF/ref=sr_1_10?crid=1Y458EPT8NBJV&keywords=ac&qid=1681400550&sprefix=%2Caps%2C285&sr=8-10',\n",
       " 'https://www.amazon.in/sspa/click?ie=UTF8&spc=MTo2NDA1NzY4ODQ0MTIzMjkxOjE2ODE0MDA1NTA6c3BfbXRmOjIwMTE3ODkwODUxMDk4OjowOjo&url=%2FPanasonic-Convertible-additional-Purification-CU-NU18YKY5W%2Fdp%2FB0BRJ1973T%2Fref%3Dsr_1_11_sspa%3Fcrid%3D1Y458EPT8NBJV%26keywords%3Dac%26qid%3D1681400550%26sprefix%3D%252Caps%252C285%26sr%3D8-11-spons%26sp_csd%3Dd2lkZ2V0TmFtZT1zcF9tdGY%26psc%3D1',\n",
       " 'https://www.amazon.in/sspa/click?ie=UTF8&spc=MTo2NDA1NzY4ODQ0MTIzMjkxOjE2ODE0MDA1NTA6c3BfbXRmOjIwMTE3ODYyOTIxNDk4OjowOjo&url=%2FPanasonic-Convertible-additional-Purification-CU-SU18YKYWT%2Fdp%2FB0BRJ5QH8G%2Fref%3Dsr_1_12_sspa%3Fcrid%3D1Y458EPT8NBJV%26keywords%3Dac%26qid%3D1681400550%26sprefix%3D%252Caps%252C285%26sr%3D8-12-spons%26sp_csd%3Dd2lkZ2V0TmFtZT1zcF9tdGY%26psc%3D1',\n",
       " 'https://www.amazon.in/Panasonic-Convertible-additional-Purification-CU-NU12YKY5W/dp/B0BRHYBC3D/ref=sr_1_13?crid=1Y458EPT8NBJV&keywords=ac&qid=1681400550&sprefix=%2Caps%2C285&sr=8-13',\n",
       " 'https://www.amazon.in/LG-Convertible-Anti-Virus-Protection-Rs-Q14Ynze/dp/B0BPYL1R9N/ref=sr_1_14?crid=1Y458EPT8NBJV&keywords=ac&qid=1681400550&sprefix=%2Caps%2C285&sr=8-14',\n",
       " 'https://www.amazon.in/Whirlpool-Flexicool-Inverter-Convertible-Cooling/dp/B0BR5RF5KT/ref=sr_1_15?crid=1Y458EPT8NBJV&keywords=ac&qid=1681400550&sprefix=%2Caps%2C285&sr=8-15',\n",
       " 'https://www.amazon.in/Cruise-Inverter-Filtration-CWCVBG-VQ1W123-Dehumidifier/dp/B09474HJF5/ref=sr_1_16?crid=1Y458EPT8NBJV&keywords=ac&qid=1681400550&sprefix=%2Caps%2C285&sr=8-16',\n",
       " 'https://www.amazon.in/Samsung-Inverter-Convertible-Anti-Bacteria-AR18CYNZABE/dp/B0BRQD9Y92/ref=sr_1_17?crid=1Y458EPT8NBJV&keywords=ac&qid=1681400550&sprefix=%2Caps%2C285&sr=8-17',\n",
       " 'https://www.amazon.in/Godrej-Convertible-Split-AC-12TINV3R32-GWA/dp/B0BN37ZCF7/ref=sr_1_18?crid=1Y458EPT8NBJV&keywords=ac&qid=1681400550&sprefix=%2Caps%2C285&sr=8-18',\n",
       " 'https://www.amazon.in/Lloyd-Copper-Anti-Viral-Filter-GLS12C2XWASD/dp/B0BRKY7H99/ref=sr_1_19?crid=1Y458EPT8NBJV&keywords=ac&qid=1681400550&sprefix=%2Caps%2C285&sr=8-19',\n",
       " 'https://www.amazon.in/Blue-Star-Convertible-Stabalizer-IC512YNU/dp/B0BW9LFNRM/ref=sr_1_20?crid=1Y458EPT8NBJV&keywords=ac&qid=1681400550&sprefix=%2Caps%2C285&sr=8-20',\n",
       " 'https://www.amazon.in/sspa/click?ie=UTF8&spc=MTo2NDA1NzY4ODQ0MTIzMjkxOjE2ODE0MDA1NTA6c3BfYnRmOjIwMTE3ODg3ODE1Njk4OjowOjo&url=%2FPanasonic-Convertible-additional-Purification-CU-SU24YKYWA%2Fdp%2FB0BRJ6KMGS%2Fref%3Dsr_1_21_sspa%3Fcrid%3D1Y458EPT8NBJV%26keywords%3Dac%26qid%3D1681400550%26sprefix%3D%252Caps%252C285%26sr%3D8-21-spons%26sp_csd%3Dd2lkZ2V0TmFtZT1zcF9idGY%26psc%3D1',\n",
       " 'https://www.amazon.in/sspa/click?ie=UTF8&spc=MTo2NDA1NzY4ODQ0MTIzMjkxOjE2ODE0MDA1NTA6c3BfYnRmOjIwMTE3OTE1MjcyOTk4OjowOjo&url=%2FPanasonic-Convertible-additional-Purification-CU-NU18YKY4W%2Fdp%2FB0BRHZVBN1%2Fref%3Dsr_1_22_sspa%3Fcrid%3D1Y458EPT8NBJV%26keywords%3Dac%26qid%3D1681400550%26sprefix%3D%252Caps%252C285%26sr%3D8-22-spons%26sp_csd%3Dd2lkZ2V0TmFtZT1zcF9idGY%26psc%3D1']"
      ]
     },
     "execution_count": 23,
     "metadata": {},
     "output_type": "execute_result"
    }
   ],
   "source": [
    "product_url"
   ]
  },
  {
   "cell_type": "code",
   "execution_count": 31,
   "id": "beeeccfc",
   "metadata": {},
   "outputs": [],
   "source": [
    "brand_name=[]\n",
    "for i in product_url:\n",
    "    driver.get(i)\n",
    "    try:\n",
    "        bname=driver.find_element(By.XPATH,'/html/body/div[2]/div[2]/div[5]/div[3]/div[4]/div[40]/div/table/tbody/tr[1]/td[2]/span')\n",
    "        brand_name.append(bname.text)\n",
    "    except NoSuchElementException :\n",
    "        brand_name.append('-')"
   ]
  },
  {
   "cell_type": "code",
   "execution_count": 32,
   "id": "c5fe2e05",
   "metadata": {},
   "outputs": [
    {
     "data": {
      "text/plain": [
       "66"
      ]
     },
     "execution_count": 32,
     "metadata": {},
     "output_type": "execute_result"
    }
   ],
   "source": [
    "len(brand_name)"
   ]
  },
  {
   "cell_type": "code",
   "execution_count": 33,
   "id": "5095172a",
   "metadata": {},
   "outputs": [
    {
     "data": {
      "text/plain": [
       "['AmazonBasics',\n",
       " 'Blue Star',\n",
       " 'Voltas',\n",
       " 'Lloyd',\n",
       " 'LG',\n",
       " 'Lloyd',\n",
       " 'LG',\n",
       " 'Panasonic',\n",
       " 'LG',\n",
       " 'Lloyd',\n",
       " 'Panasonic',\n",
       " 'Panasonic',\n",
       " 'Panasonic',\n",
       " 'LG',\n",
       " 'Whirlpool',\n",
       " 'Cruise',\n",
       " 'Samsung',\n",
       " 'Godrej',\n",
       " 'Lloyd',\n",
       " 'Blue Star',\n",
       " 'Panasonic',\n",
       " 'Panasonic',\n",
       " 'AmazonBasics',\n",
       " 'Blue Star',\n",
       " 'Voltas',\n",
       " 'Lloyd',\n",
       " 'LG',\n",
       " 'Lloyd',\n",
       " 'LG',\n",
       " 'Panasonic',\n",
       " 'LG',\n",
       " 'Lloyd',\n",
       " 'Panasonic',\n",
       " 'Panasonic',\n",
       " 'Panasonic',\n",
       " 'LG',\n",
       " 'Whirlpool',\n",
       " 'Cruise',\n",
       " 'Samsung',\n",
       " 'Godrej',\n",
       " 'Lloyd',\n",
       " 'Blue Star',\n",
       " 'Panasonic',\n",
       " 'Panasonic',\n",
       " 'AmazonBasics',\n",
       " 'Blue Star',\n",
       " 'Voltas',\n",
       " 'Lloyd',\n",
       " 'LG',\n",
       " 'Lloyd',\n",
       " 'LG',\n",
       " 'Panasonic',\n",
       " 'LG',\n",
       " 'Lloyd',\n",
       " 'Panasonic',\n",
       " 'Panasonic',\n",
       " 'Panasonic',\n",
       " 'LG',\n",
       " 'Whirlpool',\n",
       " 'Cruise',\n",
       " 'Samsung',\n",
       " 'Godrej',\n",
       " 'Lloyd',\n",
       " 'Blue Star',\n",
       " 'Panasonic',\n",
       " 'Panasonic']"
      ]
     },
     "execution_count": 33,
     "metadata": {},
     "output_type": "execute_result"
    }
   ],
   "source": [
    "brand_name"
   ]
  },
  {
   "cell_type": "code",
   "execution_count": null,
   "id": "d64fc72a",
   "metadata": {},
   "outputs": [],
   "source": []
  },
  {
   "cell_type": "raw",
   "id": "d3f9f00b",
   "metadata": {},
   "source": []
  },
  {
   "cell_type": "code",
   "execution_count": 34,
   "id": "209d14e5",
   "metadata": {},
   "outputs": [],
   "source": [
    "name=[]\n",
    "for i in product_url:\n",
    "    driver.get(i)\n",
    "    try:\n",
    "        name_s=driver.find_element(By.XPATH,'/html/body/div[2]/div[2]/div[5]/div[3]/div[4]/div[1]/div/h1/span')\n",
    "        name.append(name_s.text)\n",
    "    except NoSuchElementException:\n",
    "        name.append('-')"
   ]
  },
  {
   "cell_type": "code",
   "execution_count": 35,
   "id": "f98420a6",
   "metadata": {},
   "outputs": [
    {
     "data": {
      "text/plain": [
       "['AmazonBasics 1 Ton 3 Star Inverter Split AC (White, Anti Bacterial, Copper)',\n",
       " 'Blue Star 1.2 Ton 3 Star Convertible 4 in 1 Cooling Inverter Split AC (Copper, Smart Ready, Auto Defrost, Multi Sensors, Stabalizer Free Operations, Dust Filters, Blue Fins, 2023Model, IA315YNU,White)',\n",
       " 'Voltas 1.4 Ton 3 Star Inverter Split AC(Copper, Adjustable Cooling, Anti-dust Filter, 2023 Model, 173V Vectra Platina, White)',\n",
       " 'Lloyd 1.5 Ton 3 Star Inverter Split AC (5 in 1 Convertible, Copper, Anti-Viral + PM 2.5 Filter, 2023 Model, White, GLS18I3FWAMC)',\n",
       " 'LG 1.5 Ton 5 Star AI DUAL Inverter Split AC (Copper, Super Convertible 6-in-1 Cooling, HD Filter with Anti-Virus Protection, 2023 Model, RS-Q19YNZE, White)',\n",
       " 'Lloyd 1.0 Ton 3 Star Inverter Split AC (5 in 1 Convertible, Copper, Anti-Viral + PM 2.5 Filter, 2023 Model, White with Chrome Deco Strip, GLS12I3FWAEV)',\n",
       " 'LG 1 Ton 4 Star Ai Dual Inverter Split Ac (Copper, Super Convertible 6-In-1 Cooling, Hd Filter With Anti Virus Protection, 2023 Model, Rs-Q13Jnye, White)',\n",
       " 'Panasonic 1.5 Ton 5 Star Wi-Fi Inverter Smart Split AC (Copper Condenser, 7 in 1 Convertible with additional AI Mode, 4 Way Swing, PM 0.1 Air Purification Filter, CS/CU-NU18YKY5W,2023 Model, White)',\n",
       " 'LG 1.5 Ton 3 Star AI DUAL Inverter Split AC (Copper, Super Convertible 6-in-1 Cooling, HD Filter with Anti-Virus Protection, 2023 Model, RS-Q19JNXE, White)',\n",
       " 'Lloyd 1.5 Ton 5 Star Inverter Split AC (5 in 1 Convertible, Copper, Anti-Viral + PM 2.5 Filter, 2023 Model, White with Chrome Deco Strip, GLS18I5FWBEV)',\n",
       " 'Panasonic 1.5 Ton 5 Star Wi-Fi Inverter Smart Split AC (Copper Condenser, 7 in 1 Convertible with additional AI Mode, 4 Way Swing, PM 0.1 Air Purification Filter, CS/CU-NU18YKY5W,2023 Model, White)',\n",
       " 'Panasonic 1.5 Ton 3 Star Wi-Fi Inverter Smart Split AC (Copper Condenser, 7 in 1 Convertible with additional AI Mode, PM 0.1 Air Purification Filter, CS/CU-SU18YKYWT,2023 Model, White)',\n",
       " 'Panasonic 1 Ton 5 Star Wi-Fi Inverter Smart Split AC (Copper Condenser, 7 in 1 Convertible with additional AI Mode, 4 Way Swing, PM 0.1 Air Purification Filter, CS/CU-NU12YKY5W,2023 Model, White)',\n",
       " 'LG 1 Ton 5 Star Ai Dual Inverter Split Ac (Copper, Super Convertible 6-In-1 Cooling, Hd Filter With Anti-Virus Protection, 2023 Model, Rs-Q14Ynze, White)',\n",
       " 'Whirlpool 1.5 Ton 3 Star, Flexicool Inverter Split AC (Copper, Convertible 4-in-1 Cooling Mode, HD Filter 2023 Model, S3K1PPO, White)',\n",
       " 'Cruise 1 Ton 3 Star Inverter Split AC with 7-Stage Air Filtration (100% Copper, Convertible 4-in-1, PM 2.5 Filter, 2022 Model, CWCVBH-VQ1W123, White)',\n",
       " 'Samsung 1.5 Ton 5 Star Inverter Split AC (Copper, Convertible 5-in-1 Cooling Mode, Anti-Bacteria, 2023 Model AR18CYNZABE White)',\n",
       " 'Godrej 1 Ton 3 Star, 5-In-1 Convertible Cooling, Inverter Split AC (Copper, I-Sense Technology, 2023 Model, AC 1T EI 12TINV3R32-GWA Split, White)',\n",
       " 'Lloyd 1.0 Ton 2 Star Fixed Speed Split AC (Copper, Anti-Viral + PM 2.5 Filter, 2023 Model, White, GLS12C2XWASD)',\n",
       " 'Blue Star 1 Ton 5 Star Convertible 5 in 1 Cooling Inverter Split AC (Copper, Multi Sensors, Stabalizer Free Operation, Dust Filters, Smart Ready, Blue Fins, Self Diagnosis, 2023Model, IC512YNU,White)',\n",
       " 'Panasonic 2 Ton 3 Star Wi-Fi Inverter Smart Split AC (Copper Condenser, 7 in 1 Convertible with additional AI Mode, PM 0.1 Air Purification Filter, CS/CU-SU24YKYWA,2023 Model, White)',\n",
       " 'Panasonic 1.5 Ton 4 Star Wi-Fi Inverter Smart Split AC (Copper Condenser, 7 in 1 Convertible with additional AI Mode, 4 Way Swing, PM 0.1 Air Purification Filter, CS/CU-NU18YKY4W,2023 Model, White)',\n",
       " 'AmazonBasics 1 Ton 3 Star Inverter Split AC (White, Anti Bacterial, Copper)',\n",
       " 'Blue Star 1.2 Ton 3 Star Convertible 4 in 1 Cooling Inverter Split AC (Copper, Smart Ready, Auto Defrost, Multi Sensors, Stabalizer Free Operations, Dust Filters, Blue Fins, 2023Model, IA315YNU,White)',\n",
       " 'Voltas 1.4 Ton 3 Star Inverter Split AC(Copper, Adjustable Cooling, Anti-dust Filter, 2023 Model, 173V Vectra Platina, White)',\n",
       " 'Lloyd 1.5 Ton 3 Star Inverter Split AC (5 in 1 Convertible, Copper, Anti-Viral + PM 2.5 Filter, 2023 Model, White, GLS18I3FWAMC)',\n",
       " 'LG 1.5 Ton 5 Star AI DUAL Inverter Split AC (Copper, Super Convertible 6-in-1 Cooling, HD Filter with Anti-Virus Protection, 2023 Model, RS-Q19YNZE, White)',\n",
       " 'Lloyd 1.0 Ton 3 Star Inverter Split AC (5 in 1 Convertible, Copper, Anti-Viral + PM 2.5 Filter, 2023 Model, White with Chrome Deco Strip, GLS12I3FWAEV)',\n",
       " 'LG 1 Ton 4 Star Ai Dual Inverter Split Ac (Copper, Super Convertible 6-In-1 Cooling, Hd Filter With Anti Virus Protection, 2023 Model, Rs-Q13Jnye, White)',\n",
       " 'Panasonic 1.5 Ton 5 Star Wi-Fi Inverter Smart Split AC (Copper Condenser, 7 in 1 Convertible with additional AI Mode, 4 Way Swing, PM 0.1 Air Purification Filter, CS/CU-NU18YKY5W,2023 Model, White)',\n",
       " 'LG 1.5 Ton 3 Star AI DUAL Inverter Split AC (Copper, Super Convertible 6-in-1 Cooling, HD Filter with Anti-Virus Protection, 2023 Model, RS-Q19JNXE, White)',\n",
       " 'Lloyd 1.5 Ton 5 Star Inverter Split AC (5 in 1 Convertible, Copper, Anti-Viral + PM 2.5 Filter, 2023 Model, White with Chrome Deco Strip, GLS18I5FWBEV)',\n",
       " 'Panasonic 1.5 Ton 5 Star Wi-Fi Inverter Smart Split AC (Copper Condenser, 7 in 1 Convertible with additional AI Mode, 4 Way Swing, PM 0.1 Air Purification Filter, CS/CU-NU18YKY5W,2023 Model, White)',\n",
       " 'Panasonic 1.5 Ton 3 Star Wi-Fi Inverter Smart Split AC (Copper Condenser, 7 in 1 Convertible with additional AI Mode, PM 0.1 Air Purification Filter, CS/CU-SU18YKYWT,2023 Model, White)',\n",
       " 'Panasonic 1 Ton 5 Star Wi-Fi Inverter Smart Split AC (Copper Condenser, 7 in 1 Convertible with additional AI Mode, 4 Way Swing, PM 0.1 Air Purification Filter, CS/CU-NU12YKY5W,2023 Model, White)',\n",
       " 'LG 1 Ton 5 Star Ai Dual Inverter Split Ac (Copper, Super Convertible 6-In-1 Cooling, Hd Filter With Anti-Virus Protection, 2023 Model, Rs-Q14Ynze, White)',\n",
       " 'Whirlpool 1.5 Ton 3 Star, Flexicool Inverter Split AC (Copper, Convertible 4-in-1 Cooling Mode, HD Filter 2023 Model, S3K1PPO, White)',\n",
       " 'Cruise 1 Ton 3 Star Inverter Split AC with 7-Stage Air Filtration (100% Copper, Convertible 4-in-1, PM 2.5 Filter, 2022 Model, CWCVBH-VQ1W123, White)',\n",
       " 'Samsung 1.5 Ton 5 Star Inverter Split AC (Copper, Convertible 5-in-1 Cooling Mode, Anti-Bacteria, 2023 Model AR18CYNZABE White)',\n",
       " 'Godrej 1 Ton 3 Star, 5-In-1 Convertible Cooling, Inverter Split AC (Copper, I-Sense Technology, 2023 Model, AC 1T EI 12TINV3R32-GWA Split, White)',\n",
       " 'Lloyd 1.0 Ton 2 Star Fixed Speed Split AC (Copper, Anti-Viral + PM 2.5 Filter, 2023 Model, White, GLS12C2XWASD)',\n",
       " 'Blue Star 1 Ton 5 Star Convertible 5 in 1 Cooling Inverter Split AC (Copper, Multi Sensors, Stabalizer Free Operation, Dust Filters, Smart Ready, Blue Fins, Self Diagnosis, 2023Model, IC512YNU,White)',\n",
       " 'Panasonic 2 Ton 3 Star Wi-Fi Inverter Smart Split AC (Copper Condenser, 7 in 1 Convertible with additional AI Mode, PM 0.1 Air Purification Filter, CS/CU-SU24YKYWA,2023 Model, White)',\n",
       " 'Panasonic 1.5 Ton 4 Star Wi-Fi Inverter Smart Split AC (Copper Condenser, 7 in 1 Convertible with additional AI Mode, 4 Way Swing, PM 0.1 Air Purification Filter, CS/CU-NU18YKY4W,2023 Model, White)',\n",
       " 'AmazonBasics 1 Ton 3 Star Inverter Split AC (White, Anti Bacterial, Copper)',\n",
       " 'Blue Star 1.2 Ton 3 Star Convertible 4 in 1 Cooling Inverter Split AC (Copper, Smart Ready, Auto Defrost, Multi Sensors, Stabalizer Free Operations, Dust Filters, Blue Fins, 2023Model, IA315YNU,White)',\n",
       " 'Voltas 1.4 Ton 3 Star Inverter Split AC(Copper, Adjustable Cooling, Anti-dust Filter, 2023 Model, 173V Vectra Platina, White)',\n",
       " 'Lloyd 1.5 Ton 3 Star Inverter Split AC (5 in 1 Convertible, Copper, Anti-Viral + PM 2.5 Filter, 2023 Model, White, GLS18I3FWAMC)',\n",
       " 'LG 1.5 Ton 5 Star AI DUAL Inverter Split AC (Copper, Super Convertible 6-in-1 Cooling, HD Filter with Anti-Virus Protection, 2023 Model, RS-Q19YNZE, White)',\n",
       " 'Lloyd 1.0 Ton 3 Star Inverter Split AC (5 in 1 Convertible, Copper, Anti-Viral + PM 2.5 Filter, 2023 Model, White with Chrome Deco Strip, GLS12I3FWAEV)',\n",
       " 'LG 1 Ton 4 Star Ai Dual Inverter Split Ac (Copper, Super Convertible 6-In-1 Cooling, Hd Filter With Anti Virus Protection, 2023 Model, Rs-Q13Jnye, White)',\n",
       " 'Panasonic 1.5 Ton 5 Star Wi-Fi Inverter Smart Split AC (Copper Condenser, 7 in 1 Convertible with additional AI Mode, 4 Way Swing, PM 0.1 Air Purification Filter, CS/CU-NU18YKY5W,2023 Model, White)',\n",
       " 'LG 1.5 Ton 3 Star AI DUAL Inverter Split AC (Copper, Super Convertible 6-in-1 Cooling, HD Filter with Anti-Virus Protection, 2023 Model, RS-Q19JNXE, White)',\n",
       " 'Lloyd 1.5 Ton 5 Star Inverter Split AC (5 in 1 Convertible, Copper, Anti-Viral + PM 2.5 Filter, 2023 Model, White with Chrome Deco Strip, GLS18I5FWBEV)',\n",
       " 'Panasonic 1.5 Ton 5 Star Wi-Fi Inverter Smart Split AC (Copper Condenser, 7 in 1 Convertible with additional AI Mode, 4 Way Swing, PM 0.1 Air Purification Filter, CS/CU-NU18YKY5W,2023 Model, White)',\n",
       " 'Panasonic 1.5 Ton 3 Star Wi-Fi Inverter Smart Split AC (Copper Condenser, 7 in 1 Convertible with additional AI Mode, PM 0.1 Air Purification Filter, CS/CU-SU18YKYWT,2023 Model, White)',\n",
       " 'Panasonic 1 Ton 5 Star Wi-Fi Inverter Smart Split AC (Copper Condenser, 7 in 1 Convertible with additional AI Mode, 4 Way Swing, PM 0.1 Air Purification Filter, CS/CU-NU12YKY5W,2023 Model, White)',\n",
       " 'LG 1 Ton 5 Star Ai Dual Inverter Split Ac (Copper, Super Convertible 6-In-1 Cooling, Hd Filter With Anti-Virus Protection, 2023 Model, Rs-Q14Ynze, White)',\n",
       " 'Whirlpool 1.5 Ton 3 Star, Flexicool Inverter Split AC (Copper, Convertible 4-in-1 Cooling Mode, HD Filter 2023 Model, S3K1PPO, White)',\n",
       " 'Cruise 1 Ton 3 Star Inverter Split AC with 7-Stage Air Filtration (100% Copper, Convertible 4-in-1, PM 2.5 Filter, 2022 Model, CWCVBH-VQ1W123, White)',\n",
       " 'Samsung 1.5 Ton 5 Star Inverter Split AC (Copper, Convertible 5-in-1 Cooling Mode, Anti-Bacteria, 2023 Model AR18CYNZABE White)',\n",
       " 'Godrej 1 Ton 3 Star, 5-In-1 Convertible Cooling, Inverter Split AC (Copper, I-Sense Technology, 2023 Model, AC 1T EI 12TINV3R32-GWA Split, White)',\n",
       " 'Lloyd 1.0 Ton 2 Star Fixed Speed Split AC (Copper, Anti-Viral + PM 2.5 Filter, 2023 Model, White, GLS12C2XWASD)',\n",
       " 'Blue Star 1 Ton 5 Star Convertible 5 in 1 Cooling Inverter Split AC (Copper, Multi Sensors, Stabalizer Free Operation, Dust Filters, Smart Ready, Blue Fins, Self Diagnosis, 2023Model, IC512YNU,White)',\n",
       " 'Panasonic 2 Ton 3 Star Wi-Fi Inverter Smart Split AC (Copper Condenser, 7 in 1 Convertible with additional AI Mode, PM 0.1 Air Purification Filter, CS/CU-SU24YKYWA,2023 Model, White)',\n",
       " 'Panasonic 1.5 Ton 4 Star Wi-Fi Inverter Smart Split AC (Copper Condenser, 7 in 1 Convertible with additional AI Mode, 4 Way Swing, PM 0.1 Air Purification Filter, CS/CU-NU18YKY4W,2023 Model, White)']"
      ]
     },
     "execution_count": 35,
     "metadata": {},
     "output_type": "execute_result"
    }
   ],
   "source": [
    "name"
   ]
  },
  {
   "cell_type": "code",
   "execution_count": 41,
   "id": "5b769c04",
   "metadata": {},
   "outputs": [],
   "source": [
    "price=[]\n",
    "for i in product_url:\n",
    "    driver.get(i)\n",
    "    try:\n",
    "        price_p=driver.find_element(By.XPATH,'/html/body/div[2]/div[2]/div[5]/div[3]/div[4]/div[10]/div[3]/div[1]/span[2]/span[2]')\n",
    "        price.append(price_p.text)\n",
    "    except NoSuchElementException:\n",
    "        price.append('-')"
   ]
  },
  {
   "cell_type": "code",
   "execution_count": 42,
   "id": "fa99898c",
   "metadata": {},
   "outputs": [
    {
     "data": {
      "text/plain": [
       "66"
      ]
     },
     "execution_count": 42,
     "metadata": {},
     "output_type": "execute_result"
    }
   ],
   "source": [
    "len(price)"
   ]
  },
  {
   "cell_type": "code",
   "execution_count": 43,
   "id": "99e236fb",
   "metadata": {},
   "outputs": [
    {
     "data": {
      "text/plain": [
       "['-',\n",
       " '-',\n",
       " '-',\n",
       " '-',\n",
       " '-',\n",
       " '-',\n",
       " '-',\n",
       " '-',\n",
       " '-',\n",
       " '-',\n",
       " '-',\n",
       " '-',\n",
       " '-',\n",
       " '-',\n",
       " '-',\n",
       " '-',\n",
       " '-',\n",
       " '-',\n",
       " '-',\n",
       " '-',\n",
       " '-',\n",
       " '-',\n",
       " '-',\n",
       " '-',\n",
       " '-',\n",
       " '-',\n",
       " '-',\n",
       " '-',\n",
       " '-',\n",
       " '-',\n",
       " '-',\n",
       " '-',\n",
       " '-',\n",
       " '-',\n",
       " '-',\n",
       " '-',\n",
       " '-',\n",
       " '-',\n",
       " '-',\n",
       " '-',\n",
       " '-',\n",
       " '-',\n",
       " '-',\n",
       " '-',\n",
       " '-',\n",
       " '-',\n",
       " '-',\n",
       " '-',\n",
       " '-',\n",
       " '-',\n",
       " '-',\n",
       " '-',\n",
       " '-',\n",
       " '-',\n",
       " '-',\n",
       " '-',\n",
       " '-',\n",
       " '-',\n",
       " '-',\n",
       " '-',\n",
       " '-',\n",
       " '-',\n",
       " '-',\n",
       " '-',\n",
       " '-',\n",
       " '-']"
      ]
     },
     "execution_count": 43,
     "metadata": {},
     "output_type": "execute_result"
    }
   ],
   "source": [
    "price"
   ]
  },
  {
   "cell_type": "code",
   "execution_count": 63,
   "id": "5c887e4b",
   "metadata": {},
   "outputs": [],
   "source": [
    "driver=webdriver.Chrome(r\"chromedriver.exe\")"
   ]
  },
  {
   "cell_type": "code",
   "execution_count": 64,
   "id": "34b6e594",
   "metadata": {},
   "outputs": [],
   "source": [
    "driver.get('https://www.flipkart.com/')"
   ]
  },
  {
   "cell_type": "code",
   "execution_count": 65,
   "id": "462d9e59",
   "metadata": {},
   "outputs": [],
   "source": [
    "button=driver.find_element(By.XPATH,'/html/body/div[2]/div/div/button')\n",
    "button.click()"
   ]
  },
  {
   "cell_type": "code",
   "execution_count": 66,
   "id": "120ef7cd",
   "metadata": {},
   "outputs": [],
   "source": [
    "mobile=driver.find_element(By.XPATH,'/html/body/div[1]/div/div[1]/div[1]/div[2]/div[2]/form/div/div/input')\n",
    "mobile.send_keys('Oneplus Nord, pixel 4A')"
   ]
  },
  {
   "cell_type": "code",
   "execution_count": 67,
   "id": "25000c19",
   "metadata": {},
   "outputs": [],
   "source": [
    "search=driver.find_element(By.XPATH,'/html/body/div[1]/div/div[1]/div[1]/div[2]/div[2]/form/div/button')\n",
    "search.click()"
   ]
  },
  {
   "cell_type": "code",
   "execution_count": 68,
   "id": "e4e0a8af",
   "metadata": {},
   "outputs": [],
   "source": [
    "product_url=[]\n",
    "url=driver.find_elements(By.XPATH,'//a[@class=\"_1fQZEK\"]')\n",
    "for i in url:\n",
    "    product_url.append(i.get_attribute('href'))"
   ]
  },
  {
   "cell_type": "code",
   "execution_count": 69,
   "id": "e81d667e",
   "metadata": {},
   "outputs": [
    {
     "data": {
      "text/plain": [
       "['https://www.flipkart.com/oneplus-nord-gray-onyx-256-gb/p/itm49f817b591982?pid=MOBFUE5GGWHFC37J&lid=LSTMOBFUE5GGWHFC37JNXZLYZ&marketplace=FLIPKART&q=Oneplus+Nord%2C+pixel+4A&store=tyy%2F4io&srno=s_1_1&otracker=search&otracker1=search&fm=organic&iid=76cc3393-510e-4145-9466-6c3f1b6fd34d.MOBFUE5GGWHFC37J.SEARCH&ppt=hp&ppn=homepage&ssid=3si2vrtq000000001681408666275&qH=51e22a8c2f127b5e',\n",
       " 'https://www.flipkart.com/oneplus-nord-blue-marble-256-gb/p/itm49f817b591982?pid=MOBFUE5HUU5ZYGRY&lid=LSTMOBFUE5HUU5ZYGRY4ZWZZN&marketplace=FLIPKART&q=Oneplus+Nord%2C+pixel+4A&store=tyy%2F4io&srno=s_1_2&otracker=search&otracker1=search&fm=organic&iid=76cc3393-510e-4145-9466-6c3f1b6fd34d.MOBFUE5HUU5ZYGRY.SEARCH&ppt=hp&ppn=homepage&ssid=3si2vrtq000000001681408666275&qH=51e22a8c2f127b5e',\n",
       " 'https://www.flipkart.com/oneplus-nord-gray-onyx-128-gb/p/itm49f817b591982?pid=MOBFUE5HW4XUUGBN&lid=LSTMOBFUE5HW4XUUGBNMZB8TR&marketplace=FLIPKART&q=Oneplus+Nord%2C+pixel+4A&store=tyy%2F4io&srno=s_1_3&otracker=search&otracker1=search&fm=organic&iid=76cc3393-510e-4145-9466-6c3f1b6fd34d.MOBFUE5HW4XUUGBN.SEARCH&ppt=hp&ppn=homepage&ssid=3si2vrtq000000001681408666275&qH=51e22a8c2f127b5e',\n",
       " 'https://www.flipkart.com/oneplus-nord-blue-marble-128-gb/p/itm49f817b591982?pid=MOBFUE5JWYDZX6HX&lid=LSTMOBFUE5JWYDZX6HXJZSHIV&marketplace=FLIPKART&q=Oneplus+Nord%2C+pixel+4A&store=tyy%2F4io&srno=s_1_4&otracker=search&otracker1=search&fm=organic&iid=76cc3393-510e-4145-9466-6c3f1b6fd34d.MOBFUE5JWYDZX6HX.SEARCH&ppt=hp&ppn=homepage&ssid=3si2vrtq000000001681408666275&qH=51e22a8c2f127b5e',\n",
       " 'https://www.flipkart.com/oneplus-nord-gray-onyx-64-gb/p/itm49f817b591982?pid=MOBFUE5H57THFNVJ&lid=LSTMOBFUE5H57THFNVJSYCAHJ&marketplace=FLIPKART&q=Oneplus+Nord%2C+pixel+4A&store=tyy%2F4io&srno=s_1_5&otracker=search&otracker1=search&fm=organic&iid=76cc3393-510e-4145-9466-6c3f1b6fd34d.MOBFUE5H57THFNVJ.SEARCH&ppt=hp&ppn=homepage&ssid=3si2vrtq000000001681408666275&qH=51e22a8c2f127b5e',\n",
       " 'https://www.flipkart.com/oneplus-nord-blue-marble-64-gb/p/itm49f817b591982?pid=MOBFUE5N7KAGZHHC&lid=LSTMOBFUE5N7KAGZHHC6NVUQL&marketplace=FLIPKART&q=Oneplus+Nord%2C+pixel+4A&store=tyy%2F4io&srno=s_1_6&otracker=search&otracker1=search&fm=organic&iid=76cc3393-510e-4145-9466-6c3f1b6fd34d.MOBFUE5N7KAGZHHC.SEARCH&ppt=hp&ppn=homepage&ssid=3si2vrtq000000001681408666275&qH=51e22a8c2f127b5e',\n",
       " 'https://www.flipkart.com/oneplus-nord-ce-2-5g-gray-mirror-128-gb/p/itme3c94dc3fc910?pid=MOBGJMUHX7ACJ44Z&lid=LSTMOBGJMUHX7ACJ44ZRM2XKB&marketplace=FLIPKART&q=Oneplus+Nord%2C+pixel+4A&store=tyy%2F4io&srno=s_1_7&otracker=search&otracker1=search&fm=organic&iid=76cc3393-510e-4145-9466-6c3f1b6fd34d.MOBGJMUHX7ACJ44Z.SEARCH&ppt=hp&ppn=homepage&ssid=3si2vrtq000000001681408666275&qH=51e22a8c2f127b5e',\n",
       " 'https://www.flipkart.com/oneplus-nord-ce-2-5g-gray-mirror-128-gb/p/itm2a9883679c57c?pid=MOBGDHWMFQBKFV5F&lid=LSTMOBGDHWMFQBKFV5FJL44RI&marketplace=FLIPKART&q=Oneplus+Nord%2C+pixel+4A&store=tyy%2F4io&srno=s_1_8&otracker=search&otracker1=search&fm=organic&iid=76cc3393-510e-4145-9466-6c3f1b6fd34d.MOBGDHWMFQBKFV5F.SEARCH&ppt=hp&ppn=homepage&ssid=3si2vrtq000000001681408666275&qH=51e22a8c2f127b5e']"
      ]
     },
     "execution_count": 69,
     "metadata": {},
     "output_type": "execute_result"
    }
   ],
   "source": [
    "product_url"
   ]
  },
  {
   "cell_type": "code",
   "execution_count": 70,
   "id": "bde9117b",
   "metadata": {},
   "outputs": [
    {
     "data": {
      "text/plain": [
       "8"
      ]
     },
     "execution_count": 70,
     "metadata": {},
     "output_type": "execute_result"
    }
   ],
   "source": [
    "len(product_url)"
   ]
  },
  {
   "cell_type": "code",
   "execution_count": 71,
   "id": "7da2e8e4",
   "metadata": {},
   "outputs": [],
   "source": [
    "brand_name=[]\n",
    "name=[]\n",
    "colour=[]\n",
    "ram=[]\n",
    "rom=[]\n",
    "primary_camera=[]\n",
    "secondry_camera=[]\n",
    "display_size=[]\n",
    "battery_capacity=[]\n",
    "prize=[]"
   ]
  },
  {
   "cell_type": "code",
   "execution_count": 72,
   "id": "b0b12131",
   "metadata": {},
   "outputs": [],
   "source": [
    "for i in product_url:\n",
    "    driver.get(i)\n",
    "    try:\n",
    "        b_name=driver.find_element(By.XPATH,'/html/body/div[1]/div/div[3]/div[1]/div[2]/div[1]/div[1]/div/div[4]')\n",
    "        brand_name.append(b_name.text)\n",
    "    except NoSuchElementException:\n",
    "        brand_name.append('-')\n",
    "for i in product_url:\n",
    "    driver.get(i)\n",
    "    try:\n",
    "        n_name=driver.find_element(By.XPATH,'/html/body/div[1]/div/div[3]/div[1]/div[2]/div[2]/div/div[1]/h1/span')\n",
    "        name.append(n_name.text)\n",
    "    except NoSuchElementException:\n",
    "        name.append('-')"
   ]
  },
  {
   "cell_type": "code",
   "execution_count": 73,
   "id": "8460233b",
   "metadata": {},
   "outputs": [
    {
     "data": {
      "text/plain": [
       "['OnePlus Mobiles',\n",
       " 'OnePlus Mobiles',\n",
       " 'OnePlus Mobiles',\n",
       " 'OnePlus Mobiles',\n",
       " 'OnePlus Mobiles',\n",
       " 'OnePlus Mobiles',\n",
       " 'OnePlus Mobiles',\n",
       " 'OnePlus Mobiles']"
      ]
     },
     "execution_count": 73,
     "metadata": {},
     "output_type": "execute_result"
    }
   ],
   "source": [
    "brand_name"
   ]
  },
  {
   "cell_type": "code",
   "execution_count": 74,
   "id": "667fcd7a",
   "metadata": {},
   "outputs": [
    {
     "data": {
      "text/plain": [
       "['OnePlus Nord (Gray Onyx, 256 GB)  (12 GB RAM)',\n",
       " 'OnePlus Nord (Blue Marble, 256 GB)  (12 GB RAM)',\n",
       " 'OnePlus Nord (Gray Onyx, 128 GB)  (8 GB RAM)',\n",
       " 'OnePlus Nord (Blue Marble, 128 GB)  (8 GB RAM)',\n",
       " 'OnePlus Nord (Gray Onyx, 64 GB)  (6 GB RAM)',\n",
       " 'OnePlus Nord (Blue Marble, 64 GB)  (6 GB RAM)',\n",
       " 'OnePlus Nord CE 2 5G (Gray Mirror, 128 GB)  (6 GB RAM)',\n",
       " 'OnePlus Nord CE 2 5G (Gray Mirror, 128 GB)  (8 GB RAM)']"
      ]
     },
     "execution_count": 74,
     "metadata": {},
     "output_type": "execute_result"
    }
   ],
   "source": [
    "name"
   ]
  },
  {
   "cell_type": "code",
   "execution_count": null,
   "id": "b842f1e1",
   "metadata": {},
   "outputs": [],
   "source": []
  }
 ],
 "metadata": {
  "kernelspec": {
   "display_name": "Python 3 (ipykernel)",
   "language": "python",
   "name": "python3"
  },
  "language_info": {
   "codemirror_mode": {
    "name": "ipython",
    "version": 3
   },
   "file_extension": ".py",
   "mimetype": "text/x-python",
   "name": "python",
   "nbconvert_exporter": "python",
   "pygments_lexer": "ipython3",
   "version": "3.9.13"
  }
 },
 "nbformat": 4,
 "nbformat_minor": 5
}
